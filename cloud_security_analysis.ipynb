{
 "cells": [
  {
   "cell_type": "markdown",
   "id": "b69d96cd",
   "metadata": {
    "id": "b69d96cd"
   },
   "source": [
    "# Network Intrusion Detection with CSE-CIC-IDS2018 Dataset\n",
    "## A Complete Guide to Building Realistic ML Models Without Data Leakage\n",
    "---"
   ]
  },
  {
   "cell_type": "markdown",
   "id": "064327f1",
   "metadata": {
    "id": "064327f1"
   },
   "source": [
    "## 📋 Table of Contents\n",
    "1. [Introduction & Problem Statement](#introduction)\n",
    "2. [Understanding Data Leakage](#data-leakage)\n",
    "3. [Setup and Imports](#setup)\n",
    "4. [Data Loading and Initial Exploration](#data-loading)\n",
    "5. [Data Cleaning and Preprocessing](#data-cleaning)\n",
    "6. [The Critical Issue: Leaky Feature Detection](#leaky-features)\n",
    "7. [Building the Clean Pipeline](#clean-pipeline)\n",
    "8. [Model Training and Evaluation](#model-training)\n",
    "9. [Results Analysis](#results)\n",
    "10. [Key Lessons Learned](#lessons)"
   ]
  },
  {
   "cell_type": "markdown",
   "id": "2cd58f6b",
   "metadata": {
    "id": "2cd58f6b"
   },
   "source": [
    "\n",
    "---"
   ]
  },
  {
   "cell_type": "markdown",
   "id": "9032d1fb",
   "metadata": {
    "id": "9032d1fb"
   },
   "source": [
    "## 1. Introduction & Problem Statement <a class=\"anchor\" id=\"introduction\"></a>"
   ]
  },
  {
   "cell_type": "markdown",
   "id": "6c8d7ef6",
   "metadata": {
    "id": "6c8d7ef6"
   },
   "source": [
    "### What is Network Intrusion Detection?"
   ]
  },
  {
   "cell_type": "markdown",
   "id": "3b8cdc85",
   "metadata": {
    "id": "3b8cdc85"
   },
   "source": [
    "Network intrusion detection systems (NIDS) analyze network traffic to identify malicious activities. This is a **binary classification problem**:\n",
    "- **Benign Traffic**: Normal, legitimate network activity\n",
    "- **Attack Traffic**: Malicious activities (DoS, Brute Force, etc.)"
   ]
  },
  {
   "cell_type": "markdown",
   "id": "e9875d1d",
   "metadata": {
    "id": "e9875d1d"
   },
   "source": [
    "### The CSE-CIC-IDS2018 Dataset"
   ]
  },
  {
   "cell_type": "markdown",
   "id": "cd970457",
   "metadata": {
    "id": "cd970457"
   },
   "source": [
    "This dataset contains network flow data with various attack types. However, it has a **critical problem**: many features are engineered in ways that create data leakage, leading to unrealistically high performance."
   ]
  },
  {
   "cell_type": "markdown",
   "id": "768f0b43",
   "metadata": {
    "id": "768f0b43"
   },
   "source": [
    "### Why This Tutorial Matters"
   ]
  },
  {
   "cell_type": "markdown",
   "id": "4759b230",
   "metadata": {
    "id": "4759b230"
   },
   "source": [
    "Most tutorials show 99%+ accuracy on this dataset, which is **impossible in real-world scenarios**. This notebook teaches you how to:\n",
    "- Identify and remove data leakage\n",
    "- Build realistic models that actually work in production\n",
    "- Understand why 85-90% accuracy is often better than 99%"
   ]
  },
  {
   "cell_type": "markdown",
   "id": "5b41b193",
   "metadata": {
    "id": "5b41b193"
   },
   "source": [
    "---"
   ]
  },
  {
   "cell_type": "markdown",
   "id": "edc9afb3",
   "metadata": {
    "id": "edc9afb3"
   },
   "source": [
    "## 2. Understanding Data Leakage <a class=\"anchor\" id=\"data-leakage\"></a>"
   ]
  },
  {
   "cell_type": "markdown",
   "id": "6e5f423d",
   "metadata": {
    "id": "6e5f423d"
   },
   "source": [
    "### What is Data Leakage?"
   ]
  },
  {
   "cell_type": "markdown",
   "id": "c50da4d8",
   "metadata": {
    "id": "c50da4d8"
   },
   "source": [
    "Data leakage occurs when your model has access to information that wouldn't be available in real-world prediction scenarios. This creates artificially high performance that doesn't generalize."
   ]
  },
  {
   "cell_type": "markdown",
   "id": "06071c1f",
   "metadata": {
    "id": "06071c1f"
   },
   "source": [
    "### Why 99% Accuracy is Suspicious"
   ]
  },
  {
   "cell_type": "markdown",
   "id": "8a40beb2",
   "metadata": {
    "id": "8a40beb2"
   },
   "source": [
    "In real network environments:\n",
    "- Attack patterns vary constantly\n",
    "- New attack types emerge\n",
    "- Network conditions change\n",
    "- **85-90% accuracy is excellent for this domain**"
   ]
  },
  {
   "cell_type": "markdown",
   "id": "8f92e7b6",
   "metadata": {
    "id": "8f92e7b6"
   },
   "source": [
    "## 3. Setup and Imports <a class=\"anchor\" id=\"setup\"></a>\n",
    "Alright, let's get our hands dirty. First, we need to set up our environment with all the tools we'll need.\n"
   ]
  },
  {
   "cell_type": "code",
   "execution_count": 1,
   "id": "mCCP9fm7LYW4",
   "metadata": {
    "colab": {
     "base_uri": "https://localhost:8080/"
    },
    "executionInfo": {
     "elapsed": 2588,
     "status": "ok",
     "timestamp": 1748189728182,
     "user": {
      "displayName": "Abdulrhman AL_Atassi",
      "userId": "14798570780685770289"
     },
     "user_tz": -180
    },
    "id": "mCCP9fm7LYW4",
    "outputId": "64a0885b-7832-47d4-b421-ab63947ed8aa"
   },
   "outputs": [],
   "source": [
    "# # import kagglehub\n",
    "\n",
    "# # Download latest version\n",
    "# path = kagglehub.dataset_download(\"solarmainframe/ids-intrusion-csv\")\n",
    "\n",
    "# print(\"Path to dataset files:\", path)"
   ]
  },
  {
   "cell_type": "code",
   "execution_count": 2,
   "id": "lC6GUeLFLaat",
   "metadata": {
    "colab": {
     "base_uri": "https://localhost:8080/"
    },
    "executionInfo": {
     "elapsed": 26,
     "status": "ok",
     "timestamp": 1748189728210,
     "user": {
      "displayName": "Abdulrhman AL_Atassi",
      "userId": "14798570780685770289"
     },
     "user_tz": -180
    },
    "id": "lC6GUeLFLaat",
    "outputId": "232068e7-8cb3-47d4-e932-e636fee0851e"
   },
   "outputs": [],
   "source": [
    "# import os\n",
    "# for dirname, _, filenames in os.walk('/root/.cache/kagglehub/datasets/solarmainframe/ids-intrusion-csv/versions/1'):\n",
    "#     for filename in filenames:\n",
    "#         print(os.path.join(dirname, filename))\n",
    "\n"
   ]
  },
  {
   "cell_type": "code",
   "execution_count": 3,
   "id": "b7a7c6e4",
   "metadata": {
    "colab": {
     "base_uri": "https://localhost:8080/"
    },
    "executionInfo": {
     "elapsed": 2437,
     "status": "ok",
     "timestamp": 1748189730648,
     "user": {
      "displayName": "Abdulrhman AL_Atassi",
      "userId": "14798570780685770289"
     },
     "user_tz": -180
    },
    "id": "b7a7c6e4",
    "outputId": "0b8df213-6d89-4dc5-e6ff-eb880f886b4a"
   },
   "outputs": [],
   "source": [
    "# # Install required packages (run once)\n",
    "# %pip install imbalanced-learn xgboost lightgbm scikit-learn pandas numpy matplotlib seaborn"
   ]
  },
  {
   "cell_type": "code",
   "execution_count": 73,
   "id": "5c131b4e",
   "metadata": {
    "colab": {
     "base_uri": "https://localhost:8080/"
    },
    "executionInfo": {
     "elapsed": 11,
     "status": "ok",
     "timestamp": 1748189730665,
     "user": {
      "displayName": "Abdulrhman AL_Atassi",
      "userId": "14798570780685770289"
     },
     "user_tz": -180
    },
    "id": "5c131b4e",
    "outputId": "a3132c83-8acd-496d-c519-b31e164cdbec"
   },
   "outputs": [
    {
     "name": "stdout",
     "output_type": "stream",
     "text": [
      "All libraries imported successfully!\n"
     ]
    }
   ],
   "source": [
    "# Core libraries\n",
    "import numpy as np\n",
    "import pandas as pd\n",
    "import matplotlib.pyplot as plt\n",
    "import seaborn as sns\n",
    "import warnings\n",
    "from scipy.stats import chi2_contingency\n",
    "\n",
    "# Scikit-learn modules\n",
    "from sklearn.model_selection import train_test_split, StratifiedKFold, cross_val_score\n",
    "from sklearn.preprocessing import StandardScaler, LabelEncoder\n",
    "from sklearn.ensemble import RandomForestClassifier\n",
    "from sklearn.linear_model import LogisticRegression\n",
    "from sklearn.metrics import classification_report, confusion_matrix, roc_auc_score, accuracy_score\n",
    "# Add these imports to your existing ones\n",
    "from sklearn.ensemble import GradientBoostingClassifier, ExtraTreesClassifier, AdaBoostClassifier\n",
    "from sklearn.svm import SVC\n",
    "from sklearn.neighbors import KNeighborsClassifier\n",
    "from lightgbm import LGBMClassifier\n",
    "from sklearn.ensemble import HistGradientBoostingClassifier\n",
    "from sklearn.svm import LinearSVC\n",
    "from sklearn.calibration import CalibratedClassifierCV\n",
    "# Imbalanced learning\n",
    "from imblearn.over_sampling import SMOTE\n",
    "\n",
    "print(\"All libraries imported successfully!\")"
   ]
  },
  {
   "cell_type": "code",
   "execution_count": 5,
   "id": "1d4c8b81",
   "metadata": {
    "executionInfo": {
     "elapsed": 2,
     "status": "ok",
     "timestamp": 1748189730668,
     "user": {
      "displayName": "Abdulrhman AL_Atassi",
      "userId": "14798570780685770289"
     },
     "user_tz": -180
    },
    "id": "1d4c8b81"
   },
   "outputs": [],
   "source": [
    "# Configuration\n",
    "# warnings.filterwarnings('ignore')\n",
    "# pd.set_option('display.max_columns', None)\n",
    "# pd.set_option('display.expand_frame_repr', False)\n",
    "\n",
    "# # Set random seeds for reproducibility\n",
    "RANDOM_STATE = 42\n",
    "np.random.seed(RANDOM_STATE)"
   ]
  },
  {
   "cell_type": "markdown",
   "id": "8ed20f50",
   "metadata": {
    "id": "8ed20f50"
   },
   "source": [
    "---"
   ]
  },
  {
   "cell_type": "markdown",
   "id": "b270dc31",
   "metadata": {
    "id": "b270dc31"
   },
   "source": [
    "## 4. Data Loading and Initial Exploration <a class=\"anchor\" id=\"data-loading\"></a>"
   ]
  },
  {
   "cell_type": "markdown",
   "id": "44d3e5b0",
   "metadata": {
    "id": "44d3e5b0"
   },
   "source": [
    "### 4.1 Loading Raw Data\n",
    "I'm going to work with two specific files from the CSE-CIC-IDS2018 dataset:\n",
    "\n",
    "02-14-2018.csv: Contains brute force attacks (people trying to guess passwords)\n",
    "02-16-2018.csv: Contains DoS attacks (trying to overwhelm servers)\n",
    "\n",
    "Why these two? They represent different types of attacks and give us a good variety to work with."
   ]
  },
  {
   "cell_type": "code",
   "execution_count": 6,
   "id": "10b69caa",
   "metadata": {
    "executionInfo": {
     "elapsed": 2,
     "status": "ok",
     "timestamp": 1748189730672,
     "user": {
      "displayName": "Abdulrhman AL_Atassi",
      "userId": "14798570780685770289"
     },
     "user_tz": -180
    },
    "id": "10b69caa"
   },
   "outputs": [],
   "source": [
    "def load_raw_datasets():\n",
    "    \"\"\"\n",
    "    Load the CSE-CIC-IDS2018 datasets\n",
    "\n",
    "    Why we load specific dates:\n",
    "    - 02-14-2018.csv: Contains Brute Force attacks\n",
    "    - 02-16-2018.csv: Contains DoS attacks\n",
    "    - We focus on these two for simplicity and clear attack patterns\n",
    "    \"\"\"\n",
    "\n",
    "    # Load datasets\n",
    "    df_brute = pd.read_csv(\"./archive/02-14-2018.csv\")\n",
    "    df_dos = pd.read_csv(\"./archive/02-16-2018.csv\")\n",
    "\n",
    "    print(f\"Brute Force dataset shape: {df_brute.shape}\")\n",
    "    print(f\"DoS dataset shape: {df_dos.shape}\")\n",
    "\n",
    "    # Show basic info\n",
    "    print(f\"\\nBrute Force dataset labels:\")\n",
    "    print(df_brute['Label'].value_counts())\n",
    "\n",
    "    print(f\"\\nDoS dataset labels:\")\n",
    "    print(df_dos['Label'].value_counts())\n",
    "\n",
    "    return df_brute, df_dos"
   ]
  },
  {
   "cell_type": "code",
   "execution_count": 7,
   "id": "93027163",
   "metadata": {
    "colab": {
     "base_uri": "https://localhost:8080/"
    },
    "executionInfo": {
     "elapsed": 21751,
     "status": "ok",
     "timestamp": 1748189752424,
     "user": {
      "displayName": "Abdulrhman AL_Atassi",
      "userId": "14798570780685770289"
     },
     "user_tz": -180
    },
    "id": "93027163",
    "outputId": "11f0d8e6-bf55-4312-f973-e01356fd203a"
   },
   "outputs": [
    {
     "name": "stderr",
     "output_type": "stream",
     "text": [
      "C:\\Users\\ThinkPad\\AppData\\Local\\Temp\\ipykernel_28020\\483337791.py:13: DtypeWarning: Columns (0,1,3,4,5,6,7,8,9,10,11,12,13,14,15,16,17,18,19,20,21,22,23,24,25,26,27,28,29,30,31,32,33,34,35,36,37,38,39,40,41,42,43,44,45,46,47,48,49,50,51,52,53,54,55,56,57,58,59,60,61,62,63,64,65,66,67,68,69,70,71,72,73,74,75,76,77,78) have mixed types. Specify dtype option on import or set low_memory=False.\n",
      "  df_dos = pd.read_csv(\"./archive/02-16-2018.csv\")\n"
     ]
    },
    {
     "name": "stdout",
     "output_type": "stream",
     "text": [
      "Brute Force dataset shape: (1048575, 80)\n",
      "DoS dataset shape: (1048575, 80)\n",
      "\n",
      "Brute Force dataset labels:\n",
      "Label\n",
      "Benign            667626\n",
      "FTP-BruteForce    193360\n",
      "SSH-Bruteforce    187589\n",
      "Name: count, dtype: int64\n",
      "\n",
      "DoS dataset labels:\n",
      "Label\n",
      "DoS attacks-Hulk            461912\n",
      "Benign                      446772\n",
      "DoS attacks-SlowHTTPTest    139890\n",
      "Label                            1\n",
      "Name: count, dtype: int64\n"
     ]
    }
   ],
   "source": [
    "# Load the datasets\n",
    "df_brute, df_dos = load_raw_datasets()"
   ]
  },
  {
   "cell_type": "markdown",
   "id": "df922ad3",
   "metadata": {
    "id": "df922ad3"
   },
   "source": [
    "### 4.2 Label Standardization\n",
    "**WHY THIS STEP**: The dataset has inconsistent label naming. We standardize them for clarity."
   ]
  },
  {
   "cell_type": "code",
   "execution_count": 8,
   "id": "630acd95",
   "metadata": {
    "executionInfo": {
     "elapsed": 8,
     "status": "ok",
     "timestamp": 1748189752489,
     "user": {
      "displayName": "Abdulrhman AL_Atassi",
      "userId": "14798570780685770289"
     },
     "user_tz": -180
    },
    "id": "630acd95"
   },
   "outputs": [],
   "source": [
    "def standardize_labels(df_brute, df_dos):\n",
    "    \"\"\"\n",
    "    Standardize attack labels across datasets\n",
    "\n",
    "    Original labels are inconsistent:\n",
    "    - 'FTP-BruteForce' and 'SSH-Bruteforce' → 'BruteForce'\n",
    "    - 'DoS attacks-Hulk' and 'DoS attacks-SlowHTTPTest' → 'DoS'\n",
    "    \"\"\"\n",
    "\n",
    "    # Standardize Brute Force labels\n",
    "    df_brute['Label'] = df_brute['Label'].replace({\n",
    "        'FTP-BruteForce': 'BruteForce',\n",
    "        'SSH-Bruteforce': 'BruteForce'\n",
    "    })\n",
    "\n",
    "    # Standardize DoS labels\n",
    "    df_dos['Label'] = df_dos['Label'].replace({\n",
    "        'DoS attacks-Hulk': 'DoS',\n",
    "        'DoS attacks-SlowHTTPTest': 'DoS',\n",
    "    })\n",
    "\n",
    "    print(\"After standardization:\")\n",
    "    print(f\"Brute Force labels: {df_brute['Label'].value_counts().to_dict()}\")\n",
    "    print(f\"DoS labels: {df_dos['Label'].value_counts().to_dict()}\")\n",
    "\n",
    "    return df_brute, df_dos"
   ]
  },
  {
   "cell_type": "code",
   "execution_count": 9,
   "id": "732f61ec",
   "metadata": {
    "colab": {
     "base_uri": "https://localhost:8080/"
    },
    "executionInfo": {
     "elapsed": 414,
     "status": "ok",
     "timestamp": 1748189752907,
     "user": {
      "displayName": "Abdulrhman AL_Atassi",
      "userId": "14798570780685770289"
     },
     "user_tz": -180
    },
    "id": "732f61ec",
    "outputId": "0ea0c042-1a49-4a36-87d0-7b36c28d27fe"
   },
   "outputs": [
    {
     "name": "stdout",
     "output_type": "stream",
     "text": [
      "After standardization:\n",
      "Brute Force labels: {'Benign': 667626, 'BruteForce': 380949}\n",
      "DoS labels: {'DoS': 601802, 'Benign': 446772, 'Label': 1}\n"
     ]
    }
   ],
   "source": [
    "# Standardize labels\n",
    "df_brute, df_dos = standardize_labels(df_brute, df_dos)"
   ]
  },
  {
   "cell_type": "code",
   "execution_count": 10,
   "id": "fcc8a0e4",
   "metadata": {
    "executionInfo": {
     "elapsed": 16,
     "status": "ok",
     "timestamp": 1748189752927,
     "user": {
      "displayName": "Abdulrhman AL_Atassi",
      "userId": "14798570780685770289"
     },
     "user_tz": -180
    },
    "id": "fcc8a0e4"
   },
   "outputs": [],
   "source": [
    "def fixDataType(df_dataset):\n",
    "\n",
    "    df_dataset = df_dataset[df_dataset['Dst Port'] != 'Dst Port']\n",
    "\n",
    "    df_dataset['Dst Port'] = df_dataset['Dst Port'].astype(int)\n",
    "    df_dataset['Protocol'] = df_dataset['Protocol'].astype(int)\n",
    "    df_dataset['Flow Duration'] = df_dataset['Flow Duration'].astype(int)\n",
    "    df_dataset['Tot Fwd Pkts'] = df_dataset['Tot Fwd Pkts'].astype(int)\n",
    "    df_dataset['Tot Bwd Pkts'] = df_dataset['Tot Bwd Pkts'].astype(int)\n",
    "    df_dataset['TotLen Fwd Pkts'] = df_dataset['TotLen Fwd Pkts'].astype(int)\n",
    "    df_dataset['TotLen Bwd Pkts'] = df_dataset['TotLen Bwd Pkts'].astype(int)\n",
    "    df_dataset['Fwd Pkt Len Max'] = df_dataset['Fwd Pkt Len Max'].astype(int)\n",
    "    df_dataset['Fwd Pkt Len Min'] = df_dataset['Fwd Pkt Len Min'].astype(int)\n",
    "    df_dataset['Fwd Pkt Len Mean'] = df_dataset['Fwd Pkt Len Mean'].astype(float)\n",
    "    df_dataset['Fwd Pkt Len Std'] = df_dataset['Fwd Pkt Len Std'].astype(float)\n",
    "    df_dataset['Bwd Pkt Len Max'] = df_dataset['Bwd Pkt Len Max'].astype(int)\n",
    "    df_dataset['Bwd Pkt Len Min'] = df_dataset['Bwd Pkt Len Min'].astype(int)\n",
    "    df_dataset['Bwd Pkt Len Mean'] = df_dataset['Bwd Pkt Len Mean'].astype(float)\n",
    "    df_dataset['Bwd Pkt Len Std'] = df_dataset['Bwd Pkt Len Std'].astype(float)\n",
    "    df_dataset['Flow Byts/s'] = df_dataset['Flow Byts/s'].astype(float)\n",
    "    df_dataset['Flow Pkts/s'] = df_dataset['Flow Pkts/s'].astype(float)\n",
    "    df_dataset['Flow IAT Mean'] = df_dataset['Flow IAT Mean'].astype(float)\n",
    "    df_dataset['Flow IAT Std'] = df_dataset['Flow IAT Std'].astype(float)\n",
    "    df_dataset['Flow IAT Max'] = df_dataset['Flow IAT Max'].astype(int)\n",
    "    df_dataset['Flow IAT Min'] = df_dataset['Flow IAT Min'].astype(int)\n",
    "    df_dataset['Fwd IAT Tot'] = df_dataset['Fwd IAT Tot'].astype(int)\n",
    "    df_dataset['Fwd IAT Mean'] = df_dataset['Fwd IAT Mean'].astype(float)\n",
    "    df_dataset['Fwd IAT Std'] = df_dataset['Fwd IAT Std'].astype(float)\n",
    "    df_dataset['Fwd IAT Max'] = df_dataset['Fwd IAT Max'].astype(int)\n",
    "    df_dataset['Fwd IAT Min'] = df_dataset['Fwd IAT Min'].astype(int)\n",
    "    df_dataset['Bwd IAT Tot'] = df_dataset['Bwd IAT Tot'].astype(int)\n",
    "    df_dataset['Bwd IAT Mean'] = df_dataset['Bwd IAT Mean'].astype(float)\n",
    "    df_dataset['Bwd IAT Std'] = df_dataset['Bwd IAT Std'].astype(float)\n",
    "    df_dataset['Bwd IAT Max'] = df_dataset['Bwd IAT Max'].astype(int)\n",
    "    df_dataset['Bwd IAT Min'] = df_dataset['Bwd IAT Min'].astype(int)\n",
    "    df_dataset['Fwd PSH Flags'] = df_dataset['Fwd PSH Flags'].astype(int)\n",
    "    df_dataset['Bwd PSH Flags'] = df_dataset['Bwd PSH Flags'].astype(int)\n",
    "    df_dataset['Fwd URG Flags'] = df_dataset['Fwd URG Flags'].astype(int)\n",
    "    df_dataset['Bwd URG Flags'] = df_dataset['Bwd URG Flags'].astype(int)\n",
    "    df_dataset['Fwd Header Len'] = df_dataset['Fwd Header Len'].astype(int)\n",
    "    df_dataset['Bwd Header Len'] = df_dataset['Bwd Header Len'].astype(int)\n",
    "    df_dataset['Fwd Pkts/s'] = df_dataset['Fwd Pkts/s'].astype(float)\n",
    "    df_dataset['Bwd Pkts/s'] = df_dataset['Bwd Pkts/s'].astype(float)\n",
    "    df_dataset['Pkt Len Min'] = df_dataset['Pkt Len Min'].astype(int)\n",
    "    df_dataset['Pkt Len Max'] = df_dataset['Pkt Len Max'].astype(int)\n",
    "    df_dataset['Pkt Len Mean'] = df_dataset['Pkt Len Mean'].astype(float)\n",
    "    df_dataset['Pkt Len Std'] = df_dataset['Pkt Len Std'].astype(float)\n",
    "    df_dataset['Pkt Len Var'] = df_dataset['Pkt Len Var'].astype(float)\n",
    "    df_dataset['FIN Flag Cnt'] = df_dataset['FIN Flag Cnt'].astype(int)\n",
    "    df_dataset['SYN Flag Cnt'] = df_dataset['SYN Flag Cnt'].astype(int)\n",
    "    df_dataset['RST Flag Cnt'] = df_dataset['RST Flag Cnt'].astype(int)\n",
    "    df_dataset['PSH Flag Cnt'] = df_dataset['PSH Flag Cnt'].astype(int)\n",
    "    df_dataset['ACK Flag Cnt'] = df_dataset['ACK Flag Cnt'].astype(int)\n",
    "    df_dataset['URG Flag Cnt'] = df_dataset['URG Flag Cnt'].astype(int)\n",
    "    df_dataset['CWE Flag Count'] = df_dataset['CWE Flag Count'].astype(int)\n",
    "    df_dataset['ECE Flag Cnt'] = df_dataset['ECE Flag Cnt'].astype(int)\n",
    "    df_dataset['Down/Up Ratio'] = df_dataset['Down/Up Ratio'].astype(int)\n",
    "    df_dataset['Pkt Size Avg'] = df_dataset['Pkt Size Avg'].astype(float)\n",
    "    df_dataset['Fwd Seg Size Avg'] = df_dataset['Fwd Seg Size Avg'].astype(float)\n",
    "    df_dataset['Bwd Seg Size Avg'] = df_dataset['Bwd Seg Size Avg'].astype(float)\n",
    "    df_dataset['Fwd Byts/b Avg'] = df_dataset['Fwd Byts/b Avg'].astype(int)\n",
    "    df_dataset['Fwd Pkts/b Avg'] = df_dataset['Fwd Pkts/b Avg'].astype(int)\n",
    "    df_dataset['Fwd Blk Rate Avg'] = df_dataset['Fwd Blk Rate Avg'].astype(int)\n",
    "    df_dataset['Bwd Byts/b Avg'] = df_dataset['Bwd Byts/b Avg'].astype(int)\n",
    "    df_dataset['Bwd Pkts/b Avg'] = df_dataset['Bwd Pkts/b Avg'].astype(int)\n",
    "    df_dataset['Bwd Blk Rate Avg'] = df_dataset['Bwd Blk Rate Avg'].astype(int)\n",
    "    df_dataset['Subflow Fwd Pkts'] = df_dataset['Subflow Fwd Pkts'].astype(int)\n",
    "    df_dataset['Subflow Fwd Byts'] = df_dataset['Subflow Fwd Byts'].astype(int)\n",
    "    df_dataset['Subflow Bwd Pkts'] = df_dataset['Subflow Bwd Pkts'].astype(int)\n",
    "    df_dataset['Subflow Bwd Byts'] = df_dataset['Subflow Bwd Byts'].astype(int)\n",
    "    df_dataset['Init Fwd Win Byts'] = df_dataset['Init Fwd Win Byts'].astype(int)\n",
    "    df_dataset['Init Bwd Win Byts'] = df_dataset['Init Bwd Win Byts'].astype(int)\n",
    "    df_dataset['Fwd Act Data Pkts'] = df_dataset['Fwd Act Data Pkts'].astype(int)\n",
    "    df_dataset['Fwd Seg Size Min'] = df_dataset['Fwd Seg Size Min'].astype(int)\n",
    "    df_dataset['Active Mean'] = df_dataset['Active Mean'].astype(float)\n",
    "    df_dataset['Active Std'] = df_dataset['Active Std'].astype(float)\n",
    "    df_dataset['Active Max'] = df_dataset['Active Max'].astype(int)\n",
    "    df_dataset['Active Min'] = df_dataset['Active Min'].astype(int)\n",
    "    df_dataset['Idle Mean'] = df_dataset['Idle Mean'].astype(float)\n",
    "    df_dataset['Idle Std'] = df_dataset['Idle Std'].astype(float)\n",
    "    df_dataset['Idle Max'] = df_dataset['Idle Max'].astype(int)\n",
    "    df_dataset['Idle Min'] = df_dataset['Idle Min'].astype(int)\n",
    "\n",
    "    return df_dataset"
   ]
  },
  {
   "cell_type": "code",
   "execution_count": 11,
   "id": "a9c51d5c",
   "metadata": {
    "colab": {
     "base_uri": "https://localhost:8080/"
    },
    "executionInfo": {
     "elapsed": 4057,
     "status": "ok",
     "timestamp": 1748189756986,
     "user": {
      "displayName": "Abdulrhman AL_Atassi",
      "userId": "14798570780685770289"
     },
     "user_tz": -180
    },
    "id": "a9c51d5c",
    "outputId": "da6ec657-6718-48c1-f63b-6b3bbfd8bd81"
   },
   "outputs": [
    {
     "name": "stderr",
     "output_type": "stream",
     "text": [
      "C:\\Users\\ThinkPad\\AppData\\Local\\Temp\\ipykernel_28020\\3083002568.py:5: SettingWithCopyWarning: \n",
      "A value is trying to be set on a copy of a slice from a DataFrame.\n",
      "Try using .loc[row_indexer,col_indexer] = value instead\n",
      "\n",
      "See the caveats in the documentation: https://pandas.pydata.org/pandas-docs/stable/user_guide/indexing.html#returning-a-view-versus-a-copy\n",
      "  df_dataset['Dst Port'] = df_dataset['Dst Port'].astype(int)\n",
      "C:\\Users\\ThinkPad\\AppData\\Local\\Temp\\ipykernel_28020\\3083002568.py:6: SettingWithCopyWarning: \n",
      "A value is trying to be set on a copy of a slice from a DataFrame.\n",
      "Try using .loc[row_indexer,col_indexer] = value instead\n",
      "\n",
      "See the caveats in the documentation: https://pandas.pydata.org/pandas-docs/stable/user_guide/indexing.html#returning-a-view-versus-a-copy\n",
      "  df_dataset['Protocol'] = df_dataset['Protocol'].astype(int)\n",
      "C:\\Users\\ThinkPad\\AppData\\Local\\Temp\\ipykernel_28020\\3083002568.py:7: SettingWithCopyWarning: \n",
      "A value is trying to be set on a copy of a slice from a DataFrame.\n",
      "Try using .loc[row_indexer,col_indexer] = value instead\n",
      "\n",
      "See the caveats in the documentation: https://pandas.pydata.org/pandas-docs/stable/user_guide/indexing.html#returning-a-view-versus-a-copy\n",
      "  df_dataset['Flow Duration'] = df_dataset['Flow Duration'].astype(int)\n",
      "C:\\Users\\ThinkPad\\AppData\\Local\\Temp\\ipykernel_28020\\3083002568.py:8: SettingWithCopyWarning: \n",
      "A value is trying to be set on a copy of a slice from a DataFrame.\n",
      "Try using .loc[row_indexer,col_indexer] = value instead\n",
      "\n",
      "See the caveats in the documentation: https://pandas.pydata.org/pandas-docs/stable/user_guide/indexing.html#returning-a-view-versus-a-copy\n",
      "  df_dataset['Tot Fwd Pkts'] = df_dataset['Tot Fwd Pkts'].astype(int)\n",
      "C:\\Users\\ThinkPad\\AppData\\Local\\Temp\\ipykernel_28020\\3083002568.py:9: SettingWithCopyWarning: \n",
      "A value is trying to be set on a copy of a slice from a DataFrame.\n",
      "Try using .loc[row_indexer,col_indexer] = value instead\n",
      "\n",
      "See the caveats in the documentation: https://pandas.pydata.org/pandas-docs/stable/user_guide/indexing.html#returning-a-view-versus-a-copy\n",
      "  df_dataset['Tot Bwd Pkts'] = df_dataset['Tot Bwd Pkts'].astype(int)\n",
      "C:\\Users\\ThinkPad\\AppData\\Local\\Temp\\ipykernel_28020\\3083002568.py:10: SettingWithCopyWarning: \n",
      "A value is trying to be set on a copy of a slice from a DataFrame.\n",
      "Try using .loc[row_indexer,col_indexer] = value instead\n",
      "\n",
      "See the caveats in the documentation: https://pandas.pydata.org/pandas-docs/stable/user_guide/indexing.html#returning-a-view-versus-a-copy\n",
      "  df_dataset['TotLen Fwd Pkts'] = df_dataset['TotLen Fwd Pkts'].astype(int)\n",
      "C:\\Users\\ThinkPad\\AppData\\Local\\Temp\\ipykernel_28020\\3083002568.py:11: SettingWithCopyWarning: \n",
      "A value is trying to be set on a copy of a slice from a DataFrame.\n",
      "Try using .loc[row_indexer,col_indexer] = value instead\n",
      "\n",
      "See the caveats in the documentation: https://pandas.pydata.org/pandas-docs/stable/user_guide/indexing.html#returning-a-view-versus-a-copy\n",
      "  df_dataset['TotLen Bwd Pkts'] = df_dataset['TotLen Bwd Pkts'].astype(int)\n",
      "C:\\Users\\ThinkPad\\AppData\\Local\\Temp\\ipykernel_28020\\3083002568.py:12: SettingWithCopyWarning: \n",
      "A value is trying to be set on a copy of a slice from a DataFrame.\n",
      "Try using .loc[row_indexer,col_indexer] = value instead\n",
      "\n",
      "See the caveats in the documentation: https://pandas.pydata.org/pandas-docs/stable/user_guide/indexing.html#returning-a-view-versus-a-copy\n",
      "  df_dataset['Fwd Pkt Len Max'] = df_dataset['Fwd Pkt Len Max'].astype(int)\n",
      "C:\\Users\\ThinkPad\\AppData\\Local\\Temp\\ipykernel_28020\\3083002568.py:13: SettingWithCopyWarning: \n",
      "A value is trying to be set on a copy of a slice from a DataFrame.\n",
      "Try using .loc[row_indexer,col_indexer] = value instead\n",
      "\n",
      "See the caveats in the documentation: https://pandas.pydata.org/pandas-docs/stable/user_guide/indexing.html#returning-a-view-versus-a-copy\n",
      "  df_dataset['Fwd Pkt Len Min'] = df_dataset['Fwd Pkt Len Min'].astype(int)\n",
      "C:\\Users\\ThinkPad\\AppData\\Local\\Temp\\ipykernel_28020\\3083002568.py:14: SettingWithCopyWarning: \n",
      "A value is trying to be set on a copy of a slice from a DataFrame.\n",
      "Try using .loc[row_indexer,col_indexer] = value instead\n",
      "\n",
      "See the caveats in the documentation: https://pandas.pydata.org/pandas-docs/stable/user_guide/indexing.html#returning-a-view-versus-a-copy\n",
      "  df_dataset['Fwd Pkt Len Mean'] = df_dataset['Fwd Pkt Len Mean'].astype(float)\n",
      "C:\\Users\\ThinkPad\\AppData\\Local\\Temp\\ipykernel_28020\\3083002568.py:15: SettingWithCopyWarning: \n",
      "A value is trying to be set on a copy of a slice from a DataFrame.\n",
      "Try using .loc[row_indexer,col_indexer] = value instead\n",
      "\n",
      "See the caveats in the documentation: https://pandas.pydata.org/pandas-docs/stable/user_guide/indexing.html#returning-a-view-versus-a-copy\n",
      "  df_dataset['Fwd Pkt Len Std'] = df_dataset['Fwd Pkt Len Std'].astype(float)\n",
      "C:\\Users\\ThinkPad\\AppData\\Local\\Temp\\ipykernel_28020\\3083002568.py:16: SettingWithCopyWarning: \n",
      "A value is trying to be set on a copy of a slice from a DataFrame.\n",
      "Try using .loc[row_indexer,col_indexer] = value instead\n",
      "\n",
      "See the caveats in the documentation: https://pandas.pydata.org/pandas-docs/stable/user_guide/indexing.html#returning-a-view-versus-a-copy\n",
      "  df_dataset['Bwd Pkt Len Max'] = df_dataset['Bwd Pkt Len Max'].astype(int)\n",
      "C:\\Users\\ThinkPad\\AppData\\Local\\Temp\\ipykernel_28020\\3083002568.py:17: SettingWithCopyWarning: \n",
      "A value is trying to be set on a copy of a slice from a DataFrame.\n",
      "Try using .loc[row_indexer,col_indexer] = value instead\n",
      "\n",
      "See the caveats in the documentation: https://pandas.pydata.org/pandas-docs/stable/user_guide/indexing.html#returning-a-view-versus-a-copy\n",
      "  df_dataset['Bwd Pkt Len Min'] = df_dataset['Bwd Pkt Len Min'].astype(int)\n",
      "C:\\Users\\ThinkPad\\AppData\\Local\\Temp\\ipykernel_28020\\3083002568.py:18: SettingWithCopyWarning: \n",
      "A value is trying to be set on a copy of a slice from a DataFrame.\n",
      "Try using .loc[row_indexer,col_indexer] = value instead\n",
      "\n",
      "See the caveats in the documentation: https://pandas.pydata.org/pandas-docs/stable/user_guide/indexing.html#returning-a-view-versus-a-copy\n",
      "  df_dataset['Bwd Pkt Len Mean'] = df_dataset['Bwd Pkt Len Mean'].astype(float)\n",
      "C:\\Users\\ThinkPad\\AppData\\Local\\Temp\\ipykernel_28020\\3083002568.py:19: SettingWithCopyWarning: \n",
      "A value is trying to be set on a copy of a slice from a DataFrame.\n",
      "Try using .loc[row_indexer,col_indexer] = value instead\n",
      "\n",
      "See the caveats in the documentation: https://pandas.pydata.org/pandas-docs/stable/user_guide/indexing.html#returning-a-view-versus-a-copy\n",
      "  df_dataset['Bwd Pkt Len Std'] = df_dataset['Bwd Pkt Len Std'].astype(float)\n",
      "C:\\Users\\ThinkPad\\AppData\\Local\\Temp\\ipykernel_28020\\3083002568.py:20: SettingWithCopyWarning: \n",
      "A value is trying to be set on a copy of a slice from a DataFrame.\n",
      "Try using .loc[row_indexer,col_indexer] = value instead\n",
      "\n",
      "See the caveats in the documentation: https://pandas.pydata.org/pandas-docs/stable/user_guide/indexing.html#returning-a-view-versus-a-copy\n",
      "  df_dataset['Flow Byts/s'] = df_dataset['Flow Byts/s'].astype(float)\n",
      "C:\\Users\\ThinkPad\\AppData\\Local\\Temp\\ipykernel_28020\\3083002568.py:21: SettingWithCopyWarning: \n",
      "A value is trying to be set on a copy of a slice from a DataFrame.\n",
      "Try using .loc[row_indexer,col_indexer] = value instead\n",
      "\n",
      "See the caveats in the documentation: https://pandas.pydata.org/pandas-docs/stable/user_guide/indexing.html#returning-a-view-versus-a-copy\n",
      "  df_dataset['Flow Pkts/s'] = df_dataset['Flow Pkts/s'].astype(float)\n",
      "C:\\Users\\ThinkPad\\AppData\\Local\\Temp\\ipykernel_28020\\3083002568.py:22: SettingWithCopyWarning: \n",
      "A value is trying to be set on a copy of a slice from a DataFrame.\n",
      "Try using .loc[row_indexer,col_indexer] = value instead\n",
      "\n",
      "See the caveats in the documentation: https://pandas.pydata.org/pandas-docs/stable/user_guide/indexing.html#returning-a-view-versus-a-copy\n",
      "  df_dataset['Flow IAT Mean'] = df_dataset['Flow IAT Mean'].astype(float)\n",
      "C:\\Users\\ThinkPad\\AppData\\Local\\Temp\\ipykernel_28020\\3083002568.py:23: SettingWithCopyWarning: \n",
      "A value is trying to be set on a copy of a slice from a DataFrame.\n",
      "Try using .loc[row_indexer,col_indexer] = value instead\n",
      "\n",
      "See the caveats in the documentation: https://pandas.pydata.org/pandas-docs/stable/user_guide/indexing.html#returning-a-view-versus-a-copy\n",
      "  df_dataset['Flow IAT Std'] = df_dataset['Flow IAT Std'].astype(float)\n",
      "C:\\Users\\ThinkPad\\AppData\\Local\\Temp\\ipykernel_28020\\3083002568.py:24: SettingWithCopyWarning: \n",
      "A value is trying to be set on a copy of a slice from a DataFrame.\n",
      "Try using .loc[row_indexer,col_indexer] = value instead\n",
      "\n",
      "See the caveats in the documentation: https://pandas.pydata.org/pandas-docs/stable/user_guide/indexing.html#returning-a-view-versus-a-copy\n",
      "  df_dataset['Flow IAT Max'] = df_dataset['Flow IAT Max'].astype(int)\n",
      "C:\\Users\\ThinkPad\\AppData\\Local\\Temp\\ipykernel_28020\\3083002568.py:25: SettingWithCopyWarning: \n",
      "A value is trying to be set on a copy of a slice from a DataFrame.\n",
      "Try using .loc[row_indexer,col_indexer] = value instead\n",
      "\n",
      "See the caveats in the documentation: https://pandas.pydata.org/pandas-docs/stable/user_guide/indexing.html#returning-a-view-versus-a-copy\n",
      "  df_dataset['Flow IAT Min'] = df_dataset['Flow IAT Min'].astype(int)\n",
      "C:\\Users\\ThinkPad\\AppData\\Local\\Temp\\ipykernel_28020\\3083002568.py:26: SettingWithCopyWarning: \n",
      "A value is trying to be set on a copy of a slice from a DataFrame.\n",
      "Try using .loc[row_indexer,col_indexer] = value instead\n",
      "\n",
      "See the caveats in the documentation: https://pandas.pydata.org/pandas-docs/stable/user_guide/indexing.html#returning-a-view-versus-a-copy\n",
      "  df_dataset['Fwd IAT Tot'] = df_dataset['Fwd IAT Tot'].astype(int)\n",
      "C:\\Users\\ThinkPad\\AppData\\Local\\Temp\\ipykernel_28020\\3083002568.py:27: SettingWithCopyWarning: \n",
      "A value is trying to be set on a copy of a slice from a DataFrame.\n",
      "Try using .loc[row_indexer,col_indexer] = value instead\n",
      "\n",
      "See the caveats in the documentation: https://pandas.pydata.org/pandas-docs/stable/user_guide/indexing.html#returning-a-view-versus-a-copy\n",
      "  df_dataset['Fwd IAT Mean'] = df_dataset['Fwd IAT Mean'].astype(float)\n",
      "C:\\Users\\ThinkPad\\AppData\\Local\\Temp\\ipykernel_28020\\3083002568.py:28: SettingWithCopyWarning: \n",
      "A value is trying to be set on a copy of a slice from a DataFrame.\n",
      "Try using .loc[row_indexer,col_indexer] = value instead\n",
      "\n",
      "See the caveats in the documentation: https://pandas.pydata.org/pandas-docs/stable/user_guide/indexing.html#returning-a-view-versus-a-copy\n",
      "  df_dataset['Fwd IAT Std'] = df_dataset['Fwd IAT Std'].astype(float)\n",
      "C:\\Users\\ThinkPad\\AppData\\Local\\Temp\\ipykernel_28020\\3083002568.py:29: SettingWithCopyWarning: \n",
      "A value is trying to be set on a copy of a slice from a DataFrame.\n",
      "Try using .loc[row_indexer,col_indexer] = value instead\n",
      "\n",
      "See the caveats in the documentation: https://pandas.pydata.org/pandas-docs/stable/user_guide/indexing.html#returning-a-view-versus-a-copy\n",
      "  df_dataset['Fwd IAT Max'] = df_dataset['Fwd IAT Max'].astype(int)\n",
      "C:\\Users\\ThinkPad\\AppData\\Local\\Temp\\ipykernel_28020\\3083002568.py:30: SettingWithCopyWarning: \n",
      "A value is trying to be set on a copy of a slice from a DataFrame.\n",
      "Try using .loc[row_indexer,col_indexer] = value instead\n",
      "\n",
      "See the caveats in the documentation: https://pandas.pydata.org/pandas-docs/stable/user_guide/indexing.html#returning-a-view-versus-a-copy\n",
      "  df_dataset['Fwd IAT Min'] = df_dataset['Fwd IAT Min'].astype(int)\n",
      "C:\\Users\\ThinkPad\\AppData\\Local\\Temp\\ipykernel_28020\\3083002568.py:31: SettingWithCopyWarning: \n",
      "A value is trying to be set on a copy of a slice from a DataFrame.\n",
      "Try using .loc[row_indexer,col_indexer] = value instead\n",
      "\n",
      "See the caveats in the documentation: https://pandas.pydata.org/pandas-docs/stable/user_guide/indexing.html#returning-a-view-versus-a-copy\n",
      "  df_dataset['Bwd IAT Tot'] = df_dataset['Bwd IAT Tot'].astype(int)\n",
      "C:\\Users\\ThinkPad\\AppData\\Local\\Temp\\ipykernel_28020\\3083002568.py:32: SettingWithCopyWarning: \n",
      "A value is trying to be set on a copy of a slice from a DataFrame.\n",
      "Try using .loc[row_indexer,col_indexer] = value instead\n",
      "\n",
      "See the caveats in the documentation: https://pandas.pydata.org/pandas-docs/stable/user_guide/indexing.html#returning-a-view-versus-a-copy\n",
      "  df_dataset['Bwd IAT Mean'] = df_dataset['Bwd IAT Mean'].astype(float)\n",
      "C:\\Users\\ThinkPad\\AppData\\Local\\Temp\\ipykernel_28020\\3083002568.py:33: SettingWithCopyWarning: \n",
      "A value is trying to be set on a copy of a slice from a DataFrame.\n",
      "Try using .loc[row_indexer,col_indexer] = value instead\n",
      "\n",
      "See the caveats in the documentation: https://pandas.pydata.org/pandas-docs/stable/user_guide/indexing.html#returning-a-view-versus-a-copy\n",
      "  df_dataset['Bwd IAT Std'] = df_dataset['Bwd IAT Std'].astype(float)\n",
      "C:\\Users\\ThinkPad\\AppData\\Local\\Temp\\ipykernel_28020\\3083002568.py:34: SettingWithCopyWarning: \n",
      "A value is trying to be set on a copy of a slice from a DataFrame.\n",
      "Try using .loc[row_indexer,col_indexer] = value instead\n",
      "\n",
      "See the caveats in the documentation: https://pandas.pydata.org/pandas-docs/stable/user_guide/indexing.html#returning-a-view-versus-a-copy\n",
      "  df_dataset['Bwd IAT Max'] = df_dataset['Bwd IAT Max'].astype(int)\n",
      "C:\\Users\\ThinkPad\\AppData\\Local\\Temp\\ipykernel_28020\\3083002568.py:35: SettingWithCopyWarning: \n",
      "A value is trying to be set on a copy of a slice from a DataFrame.\n",
      "Try using .loc[row_indexer,col_indexer] = value instead\n",
      "\n",
      "See the caveats in the documentation: https://pandas.pydata.org/pandas-docs/stable/user_guide/indexing.html#returning-a-view-versus-a-copy\n",
      "  df_dataset['Bwd IAT Min'] = df_dataset['Bwd IAT Min'].astype(int)\n",
      "C:\\Users\\ThinkPad\\AppData\\Local\\Temp\\ipykernel_28020\\3083002568.py:36: SettingWithCopyWarning: \n",
      "A value is trying to be set on a copy of a slice from a DataFrame.\n",
      "Try using .loc[row_indexer,col_indexer] = value instead\n",
      "\n",
      "See the caveats in the documentation: https://pandas.pydata.org/pandas-docs/stable/user_guide/indexing.html#returning-a-view-versus-a-copy\n",
      "  df_dataset['Fwd PSH Flags'] = df_dataset['Fwd PSH Flags'].astype(int)\n",
      "C:\\Users\\ThinkPad\\AppData\\Local\\Temp\\ipykernel_28020\\3083002568.py:37: SettingWithCopyWarning: \n",
      "A value is trying to be set on a copy of a slice from a DataFrame.\n",
      "Try using .loc[row_indexer,col_indexer] = value instead\n",
      "\n",
      "See the caveats in the documentation: https://pandas.pydata.org/pandas-docs/stable/user_guide/indexing.html#returning-a-view-versus-a-copy\n",
      "  df_dataset['Bwd PSH Flags'] = df_dataset['Bwd PSH Flags'].astype(int)\n",
      "C:\\Users\\ThinkPad\\AppData\\Local\\Temp\\ipykernel_28020\\3083002568.py:38: SettingWithCopyWarning: \n",
      "A value is trying to be set on a copy of a slice from a DataFrame.\n",
      "Try using .loc[row_indexer,col_indexer] = value instead\n",
      "\n",
      "See the caveats in the documentation: https://pandas.pydata.org/pandas-docs/stable/user_guide/indexing.html#returning-a-view-versus-a-copy\n",
      "  df_dataset['Fwd URG Flags'] = df_dataset['Fwd URG Flags'].astype(int)\n",
      "C:\\Users\\ThinkPad\\AppData\\Local\\Temp\\ipykernel_28020\\3083002568.py:39: SettingWithCopyWarning: \n",
      "A value is trying to be set on a copy of a slice from a DataFrame.\n",
      "Try using .loc[row_indexer,col_indexer] = value instead\n",
      "\n",
      "See the caveats in the documentation: https://pandas.pydata.org/pandas-docs/stable/user_guide/indexing.html#returning-a-view-versus-a-copy\n",
      "  df_dataset['Bwd URG Flags'] = df_dataset['Bwd URG Flags'].astype(int)\n",
      "C:\\Users\\ThinkPad\\AppData\\Local\\Temp\\ipykernel_28020\\3083002568.py:40: SettingWithCopyWarning: \n",
      "A value is trying to be set on a copy of a slice from a DataFrame.\n",
      "Try using .loc[row_indexer,col_indexer] = value instead\n",
      "\n",
      "See the caveats in the documentation: https://pandas.pydata.org/pandas-docs/stable/user_guide/indexing.html#returning-a-view-versus-a-copy\n",
      "  df_dataset['Fwd Header Len'] = df_dataset['Fwd Header Len'].astype(int)\n",
      "C:\\Users\\ThinkPad\\AppData\\Local\\Temp\\ipykernel_28020\\3083002568.py:41: SettingWithCopyWarning: \n",
      "A value is trying to be set on a copy of a slice from a DataFrame.\n",
      "Try using .loc[row_indexer,col_indexer] = value instead\n",
      "\n",
      "See the caveats in the documentation: https://pandas.pydata.org/pandas-docs/stable/user_guide/indexing.html#returning-a-view-versus-a-copy\n",
      "  df_dataset['Bwd Header Len'] = df_dataset['Bwd Header Len'].astype(int)\n",
      "C:\\Users\\ThinkPad\\AppData\\Local\\Temp\\ipykernel_28020\\3083002568.py:42: SettingWithCopyWarning: \n",
      "A value is trying to be set on a copy of a slice from a DataFrame.\n",
      "Try using .loc[row_indexer,col_indexer] = value instead\n",
      "\n",
      "See the caveats in the documentation: https://pandas.pydata.org/pandas-docs/stable/user_guide/indexing.html#returning-a-view-versus-a-copy\n",
      "  df_dataset['Fwd Pkts/s'] = df_dataset['Fwd Pkts/s'].astype(float)\n",
      "C:\\Users\\ThinkPad\\AppData\\Local\\Temp\\ipykernel_28020\\3083002568.py:43: SettingWithCopyWarning: \n",
      "A value is trying to be set on a copy of a slice from a DataFrame.\n",
      "Try using .loc[row_indexer,col_indexer] = value instead\n",
      "\n",
      "See the caveats in the documentation: https://pandas.pydata.org/pandas-docs/stable/user_guide/indexing.html#returning-a-view-versus-a-copy\n",
      "  df_dataset['Bwd Pkts/s'] = df_dataset['Bwd Pkts/s'].astype(float)\n",
      "C:\\Users\\ThinkPad\\AppData\\Local\\Temp\\ipykernel_28020\\3083002568.py:44: SettingWithCopyWarning: \n",
      "A value is trying to be set on a copy of a slice from a DataFrame.\n",
      "Try using .loc[row_indexer,col_indexer] = value instead\n",
      "\n",
      "See the caveats in the documentation: https://pandas.pydata.org/pandas-docs/stable/user_guide/indexing.html#returning-a-view-versus-a-copy\n",
      "  df_dataset['Pkt Len Min'] = df_dataset['Pkt Len Min'].astype(int)\n",
      "C:\\Users\\ThinkPad\\AppData\\Local\\Temp\\ipykernel_28020\\3083002568.py:45: SettingWithCopyWarning: \n",
      "A value is trying to be set on a copy of a slice from a DataFrame.\n",
      "Try using .loc[row_indexer,col_indexer] = value instead\n",
      "\n",
      "See the caveats in the documentation: https://pandas.pydata.org/pandas-docs/stable/user_guide/indexing.html#returning-a-view-versus-a-copy\n",
      "  df_dataset['Pkt Len Max'] = df_dataset['Pkt Len Max'].astype(int)\n",
      "C:\\Users\\ThinkPad\\AppData\\Local\\Temp\\ipykernel_28020\\3083002568.py:46: SettingWithCopyWarning: \n",
      "A value is trying to be set on a copy of a slice from a DataFrame.\n",
      "Try using .loc[row_indexer,col_indexer] = value instead\n",
      "\n",
      "See the caveats in the documentation: https://pandas.pydata.org/pandas-docs/stable/user_guide/indexing.html#returning-a-view-versus-a-copy\n",
      "  df_dataset['Pkt Len Mean'] = df_dataset['Pkt Len Mean'].astype(float)\n",
      "C:\\Users\\ThinkPad\\AppData\\Local\\Temp\\ipykernel_28020\\3083002568.py:47: SettingWithCopyWarning: \n",
      "A value is trying to be set on a copy of a slice from a DataFrame.\n",
      "Try using .loc[row_indexer,col_indexer] = value instead\n",
      "\n",
      "See the caveats in the documentation: https://pandas.pydata.org/pandas-docs/stable/user_guide/indexing.html#returning-a-view-versus-a-copy\n",
      "  df_dataset['Pkt Len Std'] = df_dataset['Pkt Len Std'].astype(float)\n",
      "C:\\Users\\ThinkPad\\AppData\\Local\\Temp\\ipykernel_28020\\3083002568.py:48: SettingWithCopyWarning: \n",
      "A value is trying to be set on a copy of a slice from a DataFrame.\n",
      "Try using .loc[row_indexer,col_indexer] = value instead\n",
      "\n",
      "See the caveats in the documentation: https://pandas.pydata.org/pandas-docs/stable/user_guide/indexing.html#returning-a-view-versus-a-copy\n",
      "  df_dataset['Pkt Len Var'] = df_dataset['Pkt Len Var'].astype(float)\n",
      "C:\\Users\\ThinkPad\\AppData\\Local\\Temp\\ipykernel_28020\\3083002568.py:49: SettingWithCopyWarning: \n",
      "A value is trying to be set on a copy of a slice from a DataFrame.\n",
      "Try using .loc[row_indexer,col_indexer] = value instead\n",
      "\n",
      "See the caveats in the documentation: https://pandas.pydata.org/pandas-docs/stable/user_guide/indexing.html#returning-a-view-versus-a-copy\n",
      "  df_dataset['FIN Flag Cnt'] = df_dataset['FIN Flag Cnt'].astype(int)\n",
      "C:\\Users\\ThinkPad\\AppData\\Local\\Temp\\ipykernel_28020\\3083002568.py:50: SettingWithCopyWarning: \n",
      "A value is trying to be set on a copy of a slice from a DataFrame.\n",
      "Try using .loc[row_indexer,col_indexer] = value instead\n",
      "\n",
      "See the caveats in the documentation: https://pandas.pydata.org/pandas-docs/stable/user_guide/indexing.html#returning-a-view-versus-a-copy\n",
      "  df_dataset['SYN Flag Cnt'] = df_dataset['SYN Flag Cnt'].astype(int)\n",
      "C:\\Users\\ThinkPad\\AppData\\Local\\Temp\\ipykernel_28020\\3083002568.py:51: SettingWithCopyWarning: \n",
      "A value is trying to be set on a copy of a slice from a DataFrame.\n",
      "Try using .loc[row_indexer,col_indexer] = value instead\n",
      "\n",
      "See the caveats in the documentation: https://pandas.pydata.org/pandas-docs/stable/user_guide/indexing.html#returning-a-view-versus-a-copy\n",
      "  df_dataset['RST Flag Cnt'] = df_dataset['RST Flag Cnt'].astype(int)\n",
      "C:\\Users\\ThinkPad\\AppData\\Local\\Temp\\ipykernel_28020\\3083002568.py:52: SettingWithCopyWarning: \n",
      "A value is trying to be set on a copy of a slice from a DataFrame.\n",
      "Try using .loc[row_indexer,col_indexer] = value instead\n",
      "\n",
      "See the caveats in the documentation: https://pandas.pydata.org/pandas-docs/stable/user_guide/indexing.html#returning-a-view-versus-a-copy\n",
      "  df_dataset['PSH Flag Cnt'] = df_dataset['PSH Flag Cnt'].astype(int)\n",
      "C:\\Users\\ThinkPad\\AppData\\Local\\Temp\\ipykernel_28020\\3083002568.py:53: SettingWithCopyWarning: \n",
      "A value is trying to be set on a copy of a slice from a DataFrame.\n",
      "Try using .loc[row_indexer,col_indexer] = value instead\n",
      "\n",
      "See the caveats in the documentation: https://pandas.pydata.org/pandas-docs/stable/user_guide/indexing.html#returning-a-view-versus-a-copy\n",
      "  df_dataset['ACK Flag Cnt'] = df_dataset['ACK Flag Cnt'].astype(int)\n",
      "C:\\Users\\ThinkPad\\AppData\\Local\\Temp\\ipykernel_28020\\3083002568.py:54: SettingWithCopyWarning: \n",
      "A value is trying to be set on a copy of a slice from a DataFrame.\n",
      "Try using .loc[row_indexer,col_indexer] = value instead\n",
      "\n",
      "See the caveats in the documentation: https://pandas.pydata.org/pandas-docs/stable/user_guide/indexing.html#returning-a-view-versus-a-copy\n",
      "  df_dataset['URG Flag Cnt'] = df_dataset['URG Flag Cnt'].astype(int)\n",
      "C:\\Users\\ThinkPad\\AppData\\Local\\Temp\\ipykernel_28020\\3083002568.py:55: SettingWithCopyWarning: \n",
      "A value is trying to be set on a copy of a slice from a DataFrame.\n",
      "Try using .loc[row_indexer,col_indexer] = value instead\n",
      "\n",
      "See the caveats in the documentation: https://pandas.pydata.org/pandas-docs/stable/user_guide/indexing.html#returning-a-view-versus-a-copy\n",
      "  df_dataset['CWE Flag Count'] = df_dataset['CWE Flag Count'].astype(int)\n",
      "C:\\Users\\ThinkPad\\AppData\\Local\\Temp\\ipykernel_28020\\3083002568.py:56: SettingWithCopyWarning: \n",
      "A value is trying to be set on a copy of a slice from a DataFrame.\n",
      "Try using .loc[row_indexer,col_indexer] = value instead\n",
      "\n",
      "See the caveats in the documentation: https://pandas.pydata.org/pandas-docs/stable/user_guide/indexing.html#returning-a-view-versus-a-copy\n",
      "  df_dataset['ECE Flag Cnt'] = df_dataset['ECE Flag Cnt'].astype(int)\n",
      "C:\\Users\\ThinkPad\\AppData\\Local\\Temp\\ipykernel_28020\\3083002568.py:57: SettingWithCopyWarning: \n",
      "A value is trying to be set on a copy of a slice from a DataFrame.\n",
      "Try using .loc[row_indexer,col_indexer] = value instead\n",
      "\n",
      "See the caveats in the documentation: https://pandas.pydata.org/pandas-docs/stable/user_guide/indexing.html#returning-a-view-versus-a-copy\n",
      "  df_dataset['Down/Up Ratio'] = df_dataset['Down/Up Ratio'].astype(int)\n",
      "C:\\Users\\ThinkPad\\AppData\\Local\\Temp\\ipykernel_28020\\3083002568.py:58: SettingWithCopyWarning: \n",
      "A value is trying to be set on a copy of a slice from a DataFrame.\n",
      "Try using .loc[row_indexer,col_indexer] = value instead\n",
      "\n",
      "See the caveats in the documentation: https://pandas.pydata.org/pandas-docs/stable/user_guide/indexing.html#returning-a-view-versus-a-copy\n",
      "  df_dataset['Pkt Size Avg'] = df_dataset['Pkt Size Avg'].astype(float)\n",
      "C:\\Users\\ThinkPad\\AppData\\Local\\Temp\\ipykernel_28020\\3083002568.py:59: SettingWithCopyWarning: \n",
      "A value is trying to be set on a copy of a slice from a DataFrame.\n",
      "Try using .loc[row_indexer,col_indexer] = value instead\n",
      "\n",
      "See the caveats in the documentation: https://pandas.pydata.org/pandas-docs/stable/user_guide/indexing.html#returning-a-view-versus-a-copy\n",
      "  df_dataset['Fwd Seg Size Avg'] = df_dataset['Fwd Seg Size Avg'].astype(float)\n",
      "C:\\Users\\ThinkPad\\AppData\\Local\\Temp\\ipykernel_28020\\3083002568.py:60: SettingWithCopyWarning: \n",
      "A value is trying to be set on a copy of a slice from a DataFrame.\n",
      "Try using .loc[row_indexer,col_indexer] = value instead\n",
      "\n",
      "See the caveats in the documentation: https://pandas.pydata.org/pandas-docs/stable/user_guide/indexing.html#returning-a-view-versus-a-copy\n",
      "  df_dataset['Bwd Seg Size Avg'] = df_dataset['Bwd Seg Size Avg'].astype(float)\n",
      "C:\\Users\\ThinkPad\\AppData\\Local\\Temp\\ipykernel_28020\\3083002568.py:61: SettingWithCopyWarning: \n",
      "A value is trying to be set on a copy of a slice from a DataFrame.\n",
      "Try using .loc[row_indexer,col_indexer] = value instead\n",
      "\n",
      "See the caveats in the documentation: https://pandas.pydata.org/pandas-docs/stable/user_guide/indexing.html#returning-a-view-versus-a-copy\n",
      "  df_dataset['Fwd Byts/b Avg'] = df_dataset['Fwd Byts/b Avg'].astype(int)\n",
      "C:\\Users\\ThinkPad\\AppData\\Local\\Temp\\ipykernel_28020\\3083002568.py:62: SettingWithCopyWarning: \n",
      "A value is trying to be set on a copy of a slice from a DataFrame.\n",
      "Try using .loc[row_indexer,col_indexer] = value instead\n",
      "\n",
      "See the caveats in the documentation: https://pandas.pydata.org/pandas-docs/stable/user_guide/indexing.html#returning-a-view-versus-a-copy\n",
      "  df_dataset['Fwd Pkts/b Avg'] = df_dataset['Fwd Pkts/b Avg'].astype(int)\n",
      "C:\\Users\\ThinkPad\\AppData\\Local\\Temp\\ipykernel_28020\\3083002568.py:63: SettingWithCopyWarning: \n",
      "A value is trying to be set on a copy of a slice from a DataFrame.\n",
      "Try using .loc[row_indexer,col_indexer] = value instead\n",
      "\n",
      "See the caveats in the documentation: https://pandas.pydata.org/pandas-docs/stable/user_guide/indexing.html#returning-a-view-versus-a-copy\n",
      "  df_dataset['Fwd Blk Rate Avg'] = df_dataset['Fwd Blk Rate Avg'].astype(int)\n",
      "C:\\Users\\ThinkPad\\AppData\\Local\\Temp\\ipykernel_28020\\3083002568.py:64: SettingWithCopyWarning: \n",
      "A value is trying to be set on a copy of a slice from a DataFrame.\n",
      "Try using .loc[row_indexer,col_indexer] = value instead\n",
      "\n",
      "See the caveats in the documentation: https://pandas.pydata.org/pandas-docs/stable/user_guide/indexing.html#returning-a-view-versus-a-copy\n",
      "  df_dataset['Bwd Byts/b Avg'] = df_dataset['Bwd Byts/b Avg'].astype(int)\n",
      "C:\\Users\\ThinkPad\\AppData\\Local\\Temp\\ipykernel_28020\\3083002568.py:65: SettingWithCopyWarning: \n",
      "A value is trying to be set on a copy of a slice from a DataFrame.\n",
      "Try using .loc[row_indexer,col_indexer] = value instead\n",
      "\n",
      "See the caveats in the documentation: https://pandas.pydata.org/pandas-docs/stable/user_guide/indexing.html#returning-a-view-versus-a-copy\n",
      "  df_dataset['Bwd Pkts/b Avg'] = df_dataset['Bwd Pkts/b Avg'].astype(int)\n",
      "C:\\Users\\ThinkPad\\AppData\\Local\\Temp\\ipykernel_28020\\3083002568.py:66: SettingWithCopyWarning: \n",
      "A value is trying to be set on a copy of a slice from a DataFrame.\n",
      "Try using .loc[row_indexer,col_indexer] = value instead\n",
      "\n",
      "See the caveats in the documentation: https://pandas.pydata.org/pandas-docs/stable/user_guide/indexing.html#returning-a-view-versus-a-copy\n",
      "  df_dataset['Bwd Blk Rate Avg'] = df_dataset['Bwd Blk Rate Avg'].astype(int)\n",
      "C:\\Users\\ThinkPad\\AppData\\Local\\Temp\\ipykernel_28020\\3083002568.py:67: SettingWithCopyWarning: \n",
      "A value is trying to be set on a copy of a slice from a DataFrame.\n",
      "Try using .loc[row_indexer,col_indexer] = value instead\n",
      "\n",
      "See the caveats in the documentation: https://pandas.pydata.org/pandas-docs/stable/user_guide/indexing.html#returning-a-view-versus-a-copy\n",
      "  df_dataset['Subflow Fwd Pkts'] = df_dataset['Subflow Fwd Pkts'].astype(int)\n",
      "C:\\Users\\ThinkPad\\AppData\\Local\\Temp\\ipykernel_28020\\3083002568.py:68: SettingWithCopyWarning: \n",
      "A value is trying to be set on a copy of a slice from a DataFrame.\n",
      "Try using .loc[row_indexer,col_indexer] = value instead\n",
      "\n",
      "See the caveats in the documentation: https://pandas.pydata.org/pandas-docs/stable/user_guide/indexing.html#returning-a-view-versus-a-copy\n",
      "  df_dataset['Subflow Fwd Byts'] = df_dataset['Subflow Fwd Byts'].astype(int)\n",
      "C:\\Users\\ThinkPad\\AppData\\Local\\Temp\\ipykernel_28020\\3083002568.py:69: SettingWithCopyWarning: \n",
      "A value is trying to be set on a copy of a slice from a DataFrame.\n",
      "Try using .loc[row_indexer,col_indexer] = value instead\n",
      "\n",
      "See the caveats in the documentation: https://pandas.pydata.org/pandas-docs/stable/user_guide/indexing.html#returning-a-view-versus-a-copy\n",
      "  df_dataset['Subflow Bwd Pkts'] = df_dataset['Subflow Bwd Pkts'].astype(int)\n",
      "C:\\Users\\ThinkPad\\AppData\\Local\\Temp\\ipykernel_28020\\3083002568.py:70: SettingWithCopyWarning: \n",
      "A value is trying to be set on a copy of a slice from a DataFrame.\n",
      "Try using .loc[row_indexer,col_indexer] = value instead\n",
      "\n",
      "See the caveats in the documentation: https://pandas.pydata.org/pandas-docs/stable/user_guide/indexing.html#returning-a-view-versus-a-copy\n",
      "  df_dataset['Subflow Bwd Byts'] = df_dataset['Subflow Bwd Byts'].astype(int)\n",
      "C:\\Users\\ThinkPad\\AppData\\Local\\Temp\\ipykernel_28020\\3083002568.py:71: SettingWithCopyWarning: \n",
      "A value is trying to be set on a copy of a slice from a DataFrame.\n",
      "Try using .loc[row_indexer,col_indexer] = value instead\n",
      "\n",
      "See the caveats in the documentation: https://pandas.pydata.org/pandas-docs/stable/user_guide/indexing.html#returning-a-view-versus-a-copy\n",
      "  df_dataset['Init Fwd Win Byts'] = df_dataset['Init Fwd Win Byts'].astype(int)\n",
      "C:\\Users\\ThinkPad\\AppData\\Local\\Temp\\ipykernel_28020\\3083002568.py:72: SettingWithCopyWarning: \n",
      "A value is trying to be set on a copy of a slice from a DataFrame.\n",
      "Try using .loc[row_indexer,col_indexer] = value instead\n",
      "\n",
      "See the caveats in the documentation: https://pandas.pydata.org/pandas-docs/stable/user_guide/indexing.html#returning-a-view-versus-a-copy\n",
      "  df_dataset['Init Bwd Win Byts'] = df_dataset['Init Bwd Win Byts'].astype(int)\n",
      "C:\\Users\\ThinkPad\\AppData\\Local\\Temp\\ipykernel_28020\\3083002568.py:73: SettingWithCopyWarning: \n",
      "A value is trying to be set on a copy of a slice from a DataFrame.\n",
      "Try using .loc[row_indexer,col_indexer] = value instead\n",
      "\n",
      "See the caveats in the documentation: https://pandas.pydata.org/pandas-docs/stable/user_guide/indexing.html#returning-a-view-versus-a-copy\n",
      "  df_dataset['Fwd Act Data Pkts'] = df_dataset['Fwd Act Data Pkts'].astype(int)\n",
      "C:\\Users\\ThinkPad\\AppData\\Local\\Temp\\ipykernel_28020\\3083002568.py:74: SettingWithCopyWarning: \n",
      "A value is trying to be set on a copy of a slice from a DataFrame.\n",
      "Try using .loc[row_indexer,col_indexer] = value instead\n",
      "\n",
      "See the caveats in the documentation: https://pandas.pydata.org/pandas-docs/stable/user_guide/indexing.html#returning-a-view-versus-a-copy\n",
      "  df_dataset['Fwd Seg Size Min'] = df_dataset['Fwd Seg Size Min'].astype(int)\n",
      "C:\\Users\\ThinkPad\\AppData\\Local\\Temp\\ipykernel_28020\\3083002568.py:75: SettingWithCopyWarning: \n",
      "A value is trying to be set on a copy of a slice from a DataFrame.\n",
      "Try using .loc[row_indexer,col_indexer] = value instead\n",
      "\n",
      "See the caveats in the documentation: https://pandas.pydata.org/pandas-docs/stable/user_guide/indexing.html#returning-a-view-versus-a-copy\n",
      "  df_dataset['Active Mean'] = df_dataset['Active Mean'].astype(float)\n",
      "C:\\Users\\ThinkPad\\AppData\\Local\\Temp\\ipykernel_28020\\3083002568.py:76: SettingWithCopyWarning: \n",
      "A value is trying to be set on a copy of a slice from a DataFrame.\n",
      "Try using .loc[row_indexer,col_indexer] = value instead\n",
      "\n",
      "See the caveats in the documentation: https://pandas.pydata.org/pandas-docs/stable/user_guide/indexing.html#returning-a-view-versus-a-copy\n",
      "  df_dataset['Active Std'] = df_dataset['Active Std'].astype(float)\n",
      "C:\\Users\\ThinkPad\\AppData\\Local\\Temp\\ipykernel_28020\\3083002568.py:77: SettingWithCopyWarning: \n",
      "A value is trying to be set on a copy of a slice from a DataFrame.\n",
      "Try using .loc[row_indexer,col_indexer] = value instead\n",
      "\n",
      "See the caveats in the documentation: https://pandas.pydata.org/pandas-docs/stable/user_guide/indexing.html#returning-a-view-versus-a-copy\n",
      "  df_dataset['Active Max'] = df_dataset['Active Max'].astype(int)\n",
      "C:\\Users\\ThinkPad\\AppData\\Local\\Temp\\ipykernel_28020\\3083002568.py:78: SettingWithCopyWarning: \n",
      "A value is trying to be set on a copy of a slice from a DataFrame.\n",
      "Try using .loc[row_indexer,col_indexer] = value instead\n",
      "\n",
      "See the caveats in the documentation: https://pandas.pydata.org/pandas-docs/stable/user_guide/indexing.html#returning-a-view-versus-a-copy\n",
      "  df_dataset['Active Min'] = df_dataset['Active Min'].astype(int)\n",
      "C:\\Users\\ThinkPad\\AppData\\Local\\Temp\\ipykernel_28020\\3083002568.py:79: SettingWithCopyWarning: \n",
      "A value is trying to be set on a copy of a slice from a DataFrame.\n",
      "Try using .loc[row_indexer,col_indexer] = value instead\n",
      "\n",
      "See the caveats in the documentation: https://pandas.pydata.org/pandas-docs/stable/user_guide/indexing.html#returning-a-view-versus-a-copy\n",
      "  df_dataset['Idle Mean'] = df_dataset['Idle Mean'].astype(float)\n",
      "C:\\Users\\ThinkPad\\AppData\\Local\\Temp\\ipykernel_28020\\3083002568.py:80: SettingWithCopyWarning: \n",
      "A value is trying to be set on a copy of a slice from a DataFrame.\n",
      "Try using .loc[row_indexer,col_indexer] = value instead\n",
      "\n",
      "See the caveats in the documentation: https://pandas.pydata.org/pandas-docs/stable/user_guide/indexing.html#returning-a-view-versus-a-copy\n",
      "  df_dataset['Idle Std'] = df_dataset['Idle Std'].astype(float)\n",
      "C:\\Users\\ThinkPad\\AppData\\Local\\Temp\\ipykernel_28020\\3083002568.py:81: SettingWithCopyWarning: \n",
      "A value is trying to be set on a copy of a slice from a DataFrame.\n",
      "Try using .loc[row_indexer,col_indexer] = value instead\n",
      "\n",
      "See the caveats in the documentation: https://pandas.pydata.org/pandas-docs/stable/user_guide/indexing.html#returning-a-view-versus-a-copy\n",
      "  df_dataset['Idle Max'] = df_dataset['Idle Max'].astype(int)\n",
      "C:\\Users\\ThinkPad\\AppData\\Local\\Temp\\ipykernel_28020\\3083002568.py:82: SettingWithCopyWarning: \n",
      "A value is trying to be set on a copy of a slice from a DataFrame.\n",
      "Try using .loc[row_indexer,col_indexer] = value instead\n",
      "\n",
      "See the caveats in the documentation: https://pandas.pydata.org/pandas-docs/stable/user_guide/indexing.html#returning-a-view-versus-a-copy\n",
      "  df_dataset['Idle Min'] = df_dataset['Idle Min'].astype(int)\n"
     ]
    }
   ],
   "source": [
    "df_dos = fixDataType(df_dos)"
   ]
  },
  {
   "cell_type": "markdown",
   "id": "4951ec8d",
   "metadata": {
    "id": "4951ec8d"
   },
   "source": [
    "### 4.3 Dataset Combination\n",
    "\n",
    "**WHY COMBINE**: We want to build a general intrusion detector that can identify different attack types, not separate models for each attack.\n"
   ]
  },
  {
   "cell_type": "code",
   "execution_count": 12,
   "id": "6090b007",
   "metadata": {
    "executionInfo": {
     "elapsed": 21,
     "status": "ok",
     "timestamp": 1748189757009,
     "user": {
      "displayName": "Abdulrhman AL_Atassi",
      "userId": "14798570780685770289"
     },
     "user_tz": -180
    },
    "id": "6090b007"
   },
   "outputs": [],
   "source": [
    "def combine_datasets(df_brute, df_dos):\n",
    "    \"\"\"\n",
    "    Combine datasets into a single training set\n",
    "\n",
    "    We shuffle each dataset before combining to ensure:\n",
    "    1. No temporal ordering bias\n",
    "    2. Random distribution of samples\n",
    "    3. Better mixing of attack types\n",
    "    \"\"\"\n",
    "    print(\"Combining datasets...\")\n",
    "\n",
    "    # Shuffle each dataset independently\n",
    "    df_brute_shuffled = df_brute.sample(frac=1, random_state=RANDOM_STATE)\n",
    "    df_dos_shuffled = df_dos.sample(frac=1, random_state=RANDOM_STATE)\n",
    "\n",
    "    # Combine datasets\n",
    "    df_combined = pd.concat([df_brute_shuffled, df_dos_shuffled], ignore_index=True)\n",
    "\n",
    "    print(f\"Combined dataset shape: {df_combined.shape}\")\n",
    "    print(\"\\nFinal label distribution:\")\n",
    "    label_dist = df_combined['Label'].value_counts()\n",
    "    label_pct = (df_combined['Label'].value_counts(normalize=True) * 100).round(2)\n",
    "\n",
    "    for label in label_dist.index:\n",
    "        print(f\"  {label}: {label_dist[label]:,} samples ({label_pct[label]}%)\")\n",
    "\n",
    "    return df_combined"
   ]
  },
  {
   "cell_type": "code",
   "execution_count": 13,
   "id": "1fc84ee4",
   "metadata": {
    "colab": {
     "base_uri": "https://localhost:8080/"
    },
    "executionInfo": {
     "elapsed": 5977,
     "status": "ok",
     "timestamp": 1748189762990,
     "user": {
      "displayName": "Abdulrhman AL_Atassi",
      "userId": "14798570780685770289"
     },
     "user_tz": -180
    },
    "id": "1fc84ee4",
    "outputId": "c4f4953f-7d21-4d69-cb03-8e93366e61d0"
   },
   "outputs": [
    {
     "name": "stdout",
     "output_type": "stream",
     "text": [
      "Combining datasets...\n",
      "Combined dataset shape: (2097149, 80)\n",
      "\n",
      "Final label distribution:\n",
      "  Benign: 1,114,398 samples (53.14%)\n",
      "  DoS: 601,802 samples (28.7%)\n",
      "  BruteForce: 380,949 samples (18.17%)\n"
     ]
    }
   ],
   "source": [
    "# Combine datasets\n",
    "df = combine_datasets(df_brute, df_dos)"
   ]
  },
  {
   "cell_type": "code",
   "execution_count": 14,
   "id": "8050ecf3",
   "metadata": {
    "colab": {
     "base_uri": "https://localhost:8080/",
     "height": 521
    },
    "executionInfo": {
     "elapsed": 706,
     "status": "ok",
     "timestamp": 1748189763690,
     "user": {
      "displayName": "Abdulrhman AL_Atassi",
      "userId": "14798570780685770289"
     },
     "user_tz": -180
    },
    "id": "8050ecf3",
    "outputId": "3fbb4ca5-e948-4d9b-a806-3bcf521afe70"
   },
   "outputs": [
    {
     "data": {
      "image/png": "[encoded data removed]",
      "text/plain": [
       "<Figure size 600x600 with 1 Axes>"
      ]
     },
     "metadata": {},
     "output_type": "display_data"
    }
   ],
   "source": [
    "# Class Proportion Pie Chart\n",
    "import matplotlib.pyplot as plt\n",
    "\n",
    "label_counts = df['Label'].value_counts()\n",
    "\n",
    "plt.figure(figsize=(6, 6))\n",
    "plt.pie(label_counts.values, labels=label_counts.index, autopct='%1.1f%%',\n",
    "        colors=['#2E86AB', '#A23B72', '#F18F01'])\n",
    "plt.title('Class Distribution Proportions')\n",
    "plt.show()\n"
   ]
  },
  {
   "cell_type": "markdown",
   "id": "f0d714d0",
   "metadata": {
    "id": "f0d714d0"
   },
   "source": [
    "---"
   ]
  },
  {
   "cell_type": "markdown",
   "id": "c308f3c2",
   "metadata": {
    "id": "c308f3c2"
   },
   "source": [
    "## 5. Data Cleaning and Preprocessing <a class=\"anchor\" id=\"data-cleaning\"></a>\n",
    "\n",
    "### 5.1  What's Wrong With This Data?\n",
    "\n",
    "**CRITICAL**: Before any processing, we need to understand data quality issues.\n",
    "\n",
    "One of the commen issue in this dataset is have header rows mixed in the data"
   ]
  },
  {
   "cell_type": "code",
   "execution_count": 15,
   "id": "03499dce",
   "metadata": {
    "executionInfo": {
     "elapsed": 2,
     "status": "ok",
     "timestamp": 1748189763693,
     "user": {
      "displayName": "Abdulrhman AL_Atassi",
      "userId": "14798570780685770289"
     },
     "user_tz": -180
    },
    "id": "03499dce"
   },
   "outputs": [],
   "source": [
    "def assess_data_quality(df):\n",
    "    \"\"\"\n",
    "    Comprehensive data quality assessment\n",
    "\n",
    "    This step is crucial because the CSE-CIC-IDS2018 dataset has several issues:\n",
    "    1. Mixed header rows in data\n",
    "    2. Inconsistent data types\n",
    "    3. Infinite values\n",
    "    4. Missing values\n",
    "    \"\"\"\n",
    "\n",
    "    print(f\"Dataset shape: {df.shape}\")\n",
    "    print(f\"Columns: {len(df.columns)}\")\n",
    "\n",
    "    # Check for header rows mixed in data (common issue in this dataset)\n",
    "    header_rows = df[df['Dst Port'] == 'Dst Port']\n",
    "    if len(header_rows) > 0:\n",
    "        print(f\"Found {len(header_rows)} header rows mixed in data!\")\n",
    "\n",
    "    # Check data types\n",
    "    print(f\"\\nData types summary:\")\n",
    "    df.info()\n",
    "\n",
    "    # Check for missing values\n",
    "    missing_counts = df.isnull().sum()\n",
    "    missing_features = missing_counts[missing_counts > 0]\n",
    "    if len(missing_features) > 0:\n",
    "        print(f\"\\nFeatures with missing values: {len(missing_features)}\")\n",
    "\n",
    "\n",
    "    return header_rows"
   ]
  },
  {
   "cell_type": "code",
   "execution_count": 16,
   "id": "c646f92e",
   "metadata": {
    "colab": {
     "base_uri": "https://localhost:8080/"
    },
    "executionInfo": {
     "elapsed": 1389,
     "status": "ok",
     "timestamp": 1748189765098,
     "user": {
      "displayName": "Abdulrhman AL_Atassi",
      "userId": "14798570780685770289"
     },
     "user_tz": -180
    },
    "id": "c646f92e",
    "outputId": "88f63e5a-f6bb-4158-ba59-1b18b7911ee5"
   },
   "outputs": [
    {
     "name": "stdout",
     "output_type": "stream",
     "text": [
      "Dataset shape: (2097149, 80)\n",
      "Columns: 80\n",
      "\n",
      "Data types summary:\n",
      "<class 'pandas.core.frame.DataFrame'>\n",
      "RangeIndex: 2097149 entries, 0 to 2097148\n",
      "Data columns (total 80 columns):\n",
      " #   Column             Dtype  \n",
      "---  ------             -----  \n",
      " 0   Dst Port           int64  \n",
      " 1   Protocol           int64  \n",
      " 2   Timestamp          object \n",
      " 3   Flow Duration      int64  \n",
      " 4   Tot Fwd Pkts       int64  \n",
      " 5   Tot Bwd Pkts       int64  \n",
      " 6   TotLen Fwd Pkts    int64  \n",
      " 7   TotLen Bwd Pkts    int64  \n",
      " 8   Fwd Pkt Len Max    int64  \n",
      " 9   Fwd Pkt Len Min    int64  \n",
      " 10  Fwd Pkt Len Mean   float64\n",
      " 11  Fwd Pkt Len Std    float64\n",
      " 12  Bwd Pkt Len Max    int64  \n",
      " 13  Bwd Pkt Len Min    int64  \n",
      " 14  Bwd Pkt Len Mean   float64\n",
      " 15  Bwd Pkt Len Std    float64\n",
      " 16  Flow Byts/s        float64\n",
      " 17  Flow Pkts/s        float64\n",
      " 18  Flow IAT Mean      float64\n",
      " 19  Flow IAT Std       float64\n",
      " 20  Flow IAT Max       int64  \n",
      " 21  Flow IAT Min       int64  \n",
      " 22  Fwd IAT Tot        int64  \n",
      " 23  Fwd IAT Mean       float64\n",
      " 24  Fwd IAT Std        float64\n",
      " 25  Fwd IAT Max        int64  \n",
      " 26  Fwd IAT Min        int64  \n",
      " 27  Bwd IAT Tot        int64  \n",
      " 28  Bwd IAT Mean       float64\n",
      " 29  Bwd IAT Std        float64\n",
      " 30  Bwd IAT Max        int64  \n",
      " 31  Bwd IAT Min        int64  \n",
      " 32  Fwd PSH Flags      int64  \n",
      " 33  Bwd PSH Flags      int64  \n",
      " 34  Fwd URG Flags      int64  \n",
      " 35  Bwd URG Flags      int64  \n",
      " 36  Fwd Header Len     int64  \n",
      " 37  Bwd Header Len     int64  \n",
      " 38  Fwd Pkts/s         float64\n",
      " 39  Bwd Pkts/s         float64\n",
      " 40  Pkt Len Min        int64  \n",
      " 41  Pkt Len Max        int64  \n",
      " 42  Pkt Len Mean       float64\n",
      " 43  Pkt Len Std        float64\n",
      " 44  Pkt Len Var        float64\n",
      " 45  FIN Flag Cnt       int64  \n",
      " 46  SYN Flag Cnt       int64  \n",
      " 47  RST Flag Cnt       int64  \n",
      " 48  PSH Flag Cnt       int64  \n",
      " 49  ACK Flag Cnt       int64  \n",
      " 50  URG Flag Cnt       int64  \n",
      " 51  CWE Flag Count     int64  \n",
      " 52  ECE Flag Cnt       int64  \n",
      " 53  Down/Up Ratio      int64  \n",
      " 54  Pkt Size Avg       float64\n",
      " 55  Fwd Seg Size Avg   float64\n",
      " 56  Bwd Seg Size Avg   float64\n",
      " 57  Fwd Byts/b Avg     int64  \n",
      " 58  Fwd Pkts/b Avg     int64  \n",
      " 59  Fwd Blk Rate Avg   int64  \n",
      " 60  Bwd Byts/b Avg     int64  \n",
      " 61  Bwd Pkts/b Avg     int64  \n",
      " 62  Bwd Blk Rate Avg   int64  \n",
      " 63  Subflow Fwd Pkts   int64  \n",
      " 64  Subflow Fwd Byts   int64  \n",
      " 65  Subflow Bwd Pkts   int64  \n",
      " 66  Subflow Bwd Byts   int64  \n",
      " 67  Init Fwd Win Byts  int64  \n",
      " 68  Init Bwd Win Byts  int64  \n",
      " 69  Fwd Act Data Pkts  int64  \n",
      " 70  Fwd Seg Size Min   int64  \n",
      " 71  Active Mean        float64\n",
      " 72  Active Std         float64\n",
      " 73  Active Max         int64  \n",
      " 74  Active Min         int64  \n",
      " 75  Idle Mean          float64\n",
      " 76  Idle Std           float64\n",
      " 77  Idle Max           int64  \n",
      " 78  Idle Min           int64  \n",
      " 79  Label              object \n",
      "dtypes: float64(24), int64(54), object(2)\n",
      "memory usage: 1.2+ GB\n",
      "\n",
      "Features with missing values: 1\n"
     ]
    }
   ],
   "source": [
    "# Assess data quality\n",
    "header_issues = assess_data_quality(df)"
   ]
  },
  {
   "cell_type": "code",
   "execution_count": 17,
   "id": "c002f199",
   "metadata": {
    "colab": {
     "base_uri": "https://localhost:8080/",
     "height": 548
    },
    "executionInfo": {
     "elapsed": 2021,
     "status": "ok",
     "timestamp": 1748189767120,
     "user": {
      "displayName": "Abdulrhman AL_Atassi",
      "userId": "14798570780685770289"
     },
     "user_tz": -180
    },
    "id": "c002f199",
    "outputId": "900a16af-b363-4238-c501-cc8462602449"
   },
   "outputs": [
    {
     "data": {
      "image/png": "[encoded data removed]",
      "text/plain": [
       "<Figure size 1500x1000 with 4 Axes>"
      ]
     },
     "metadata": {},
     "output_type": "display_data"
    }
   ],
   "source": [
    "# Data Quality Assessment Visualization\n",
    "fig, axes = plt.subplots(2, 2, figsize=(15, 10))\n",
    "fig.suptitle('Data Quality Assessment Results', fontsize=16, fontweight='bold')\n",
    "\n",
    "# A) Missing Values Heatmap (sample)\n",
    "missing_data = df.isnull().sum().head(20)\n",
    "if missing_data.sum() > 0:\n",
    "    missing_data[missing_data > 0].plot(kind='bar', ax=axes[0,0], color='red', alpha=0.7)\n",
    "    axes[0,0].set_title('(A) Missing Values by Feature (Top 20)')\n",
    "    axes[0,0].set_ylabel('Missing Count')\n",
    "else:\n",
    "    axes[0,0].text(0.5, 0.5, 'No Missing Values Found', ha='center', va='center', fontsize=12)\n",
    "    axes[0,0].set_title('(A) Missing Values Status')\n",
    "\n",
    "# B) Data Types Distribution\n",
    "dtype_counts = df.dtypes.value_counts()\n",
    "axes[0,1].pie(dtype_counts.values, labels=dtype_counts.index, autopct='%1.1f%%')\n",
    "axes[0,1].set_title('(B) Data Types Distribution')\n",
    "\n",
    "# C) Header Contamination\n",
    "header_status = ['Clean Rows', 'Header Rows']\n",
    "header_counts = [len(df) - len(header_issues), len(header_issues)]\n",
    "axes[1,0].bar(header_status, header_counts, color=['green', 'red'], alpha=0.7)\n",
    "axes[1,0].set_title('(C) Header Contamination Detection')\n",
    "axes[1,0].set_ylabel('Row Count')\n",
    "\n",
    "# D) Dataset Shape Evolution\n",
    "cleaning_steps = ['Original', 'After Cleaning']\n",
    "shape_evolution = [df.shape[0], df.shape[0]]\n",
    "axes[1,1].plot(cleaning_steps, shape_evolution, marker='o', linewidth=2, markersize=8, color='blue')\n",
    "axes[1,1].set_title('(D) Dataset Size Through Cleaning')\n",
    "axes[1,1].set_ylabel('Number of Samples')\n",
    "axes[1,1].grid(True, alpha=0.3)\n",
    "\n",
    "plt.tight_layout()\n",
    "plt.show()"
   ]
  },
  {
   "cell_type": "code",
   "execution_count": 18,
   "id": "435a3ec3",
   "metadata": {
    "colab": {
     "base_uri": "https://localhost:8080/",
     "height": 429
    },
    "executionInfo": {
     "elapsed": 40,
     "status": "ok",
     "timestamp": 1748189767167,
     "user": {
      "displayName": "Abdulrhman AL_Atassi",
      "userId": "14798570780685770289"
     },
     "user_tz": -180
    },
    "id": "435a3ec3",
    "outputId": "d9df48dc-25ec-460a-ddbf-b07384d1d4e5"
   },
   "outputs": [
    {
     "name": "stdout",
     "output_type": "stream",
     "text": [
      "\n",
      "Sample data:\n"
     ]
    },
    {
     "data": {
      "text/html": [
       "<div>\n",
       "<style scoped>\n",
       "    .dataframe tbody tr th:only-of-type {\n",
       "        vertical-align: middle;\n",
       "    }\n",
       "\n",
       "    .dataframe tbody tr th {\n",
       "        vertical-align: top;\n",
       "    }\n",
       "\n",
       "    .dataframe thead th {\n",
       "        text-align: right;\n",
       "    }\n",
       "</style>\n",
       "<table border=\"1\" class=\"dataframe\">\n",
       "  <thead>\n",
       "    <tr style=\"text-align: right;\">\n",
       "      <th></th>\n",
       "      <th>Dst Port</th>\n",
       "      <th>Protocol</th>\n",
       "      <th>Timestamp</th>\n",
       "      <th>Flow Duration</th>\n",
       "      <th>Tot Fwd Pkts</th>\n",
       "      <th>Tot Bwd Pkts</th>\n",
       "      <th>TotLen Fwd Pkts</th>\n",
       "      <th>TotLen Bwd Pkts</th>\n",
       "      <th>Fwd Pkt Len Max</th>\n",
       "      <th>Fwd Pkt Len Min</th>\n",
       "      <th>...</th>\n",
       "      <th>Fwd Seg Size Min</th>\n",
       "      <th>Active Mean</th>\n",
       "      <th>Active Std</th>\n",
       "      <th>Active Max</th>\n",
       "      <th>Active Min</th>\n",
       "      <th>Idle Mean</th>\n",
       "      <th>Idle Std</th>\n",
       "      <th>Idle Max</th>\n",
       "      <th>Idle Min</th>\n",
       "      <th>Label</th>\n",
       "    </tr>\n",
       "  </thead>\n",
       "  <tbody>\n",
       "    <tr>\n",
       "      <th>0</th>\n",
       "      <td>53</td>\n",
       "      <td>17</td>\n",
       "      <td>14/02/2018 08:44:26</td>\n",
       "      <td>36517</td>\n",
       "      <td>2</td>\n",
       "      <td>2</td>\n",
       "      <td>80</td>\n",
       "      <td>204</td>\n",
       "      <td>40</td>\n",
       "      <td>40</td>\n",
       "      <td>...</td>\n",
       "      <td>8</td>\n",
       "      <td>0.0</td>\n",
       "      <td>0.0</td>\n",
       "      <td>0</td>\n",
       "      <td>0</td>\n",
       "      <td>0.0</td>\n",
       "      <td>0.0</td>\n",
       "      <td>0</td>\n",
       "      <td>0</td>\n",
       "      <td>Benign</td>\n",
       "    </tr>\n",
       "    <tr>\n",
       "      <th>1</th>\n",
       "      <td>49906</td>\n",
       "      <td>6</td>\n",
       "      <td>14/02/2018 09:31:42</td>\n",
       "      <td>51</td>\n",
       "      <td>1</td>\n",
       "      <td>1</td>\n",
       "      <td>0</td>\n",
       "      <td>0</td>\n",
       "      <td>0</td>\n",
       "      <td>0</td>\n",
       "      <td>...</td>\n",
       "      <td>20</td>\n",
       "      <td>0.0</td>\n",
       "      <td>0.0</td>\n",
       "      <td>0</td>\n",
       "      <td>0</td>\n",
       "      <td>0.0</td>\n",
       "      <td>0.0</td>\n",
       "      <td>0</td>\n",
       "      <td>0</td>\n",
       "      <td>Benign</td>\n",
       "    </tr>\n",
       "    <tr>\n",
       "      <th>2</th>\n",
       "      <td>80</td>\n",
       "      <td>6</td>\n",
       "      <td>14/02/2018 04:13:41</td>\n",
       "      <td>53514166</td>\n",
       "      <td>2</td>\n",
       "      <td>0</td>\n",
       "      <td>0</td>\n",
       "      <td>0</td>\n",
       "      <td>0</td>\n",
       "      <td>0</td>\n",
       "      <td>...</td>\n",
       "      <td>20</td>\n",
       "      <td>0.0</td>\n",
       "      <td>0.0</td>\n",
       "      <td>0</td>\n",
       "      <td>0</td>\n",
       "      <td>0.0</td>\n",
       "      <td>0.0</td>\n",
       "      <td>0</td>\n",
       "      <td>0</td>\n",
       "      <td>Benign</td>\n",
       "    </tr>\n",
       "    <tr>\n",
       "      <th>3</th>\n",
       "      <td>443</td>\n",
       "      <td>6</td>\n",
       "      <td>14/02/2018 11:05:34</td>\n",
       "      <td>272</td>\n",
       "      <td>3</td>\n",
       "      <td>0</td>\n",
       "      <td>77</td>\n",
       "      <td>0</td>\n",
       "      <td>46</td>\n",
       "      <td>0</td>\n",
       "      <td>...</td>\n",
       "      <td>20</td>\n",
       "      <td>0.0</td>\n",
       "      <td>0.0</td>\n",
       "      <td>0</td>\n",
       "      <td>0</td>\n",
       "      <td>0.0</td>\n",
       "      <td>0.0</td>\n",
       "      <td>0</td>\n",
       "      <td>0</td>\n",
       "      <td>Benign</td>\n",
       "    </tr>\n",
       "    <tr>\n",
       "      <th>4</th>\n",
       "      <td>53</td>\n",
       "      <td>17</td>\n",
       "      <td>14/02/2018 03:23:23</td>\n",
       "      <td>1219</td>\n",
       "      <td>1</td>\n",
       "      <td>1</td>\n",
       "      <td>40</td>\n",
       "      <td>100</td>\n",
       "      <td>40</td>\n",
       "      <td>40</td>\n",
       "      <td>...</td>\n",
       "      <td>8</td>\n",
       "      <td>0.0</td>\n",
       "      <td>0.0</td>\n",
       "      <td>0</td>\n",
       "      <td>0</td>\n",
       "      <td>0.0</td>\n",
       "      <td>0.0</td>\n",
       "      <td>0</td>\n",
       "      <td>0</td>\n",
       "      <td>Benign</td>\n",
       "    </tr>\n",
       "  </tbody>\n",
       "</table>\n",
       "<p>5 rows × 80 columns</p>\n",
       "</div>"
      ],
      "text/plain": [
       "   Dst Port  Protocol            Timestamp  Flow Duration  Tot Fwd Pkts  \\\n",
       "0        53        17  14/02/2018 08:44:26          36517             2   \n",
       "1     49906         6  14/02/2018 09:31:42             51             1   \n",
       "2        80         6  14/02/2018 04:13:41       53514166             2   \n",
       "3       443         6  14/02/2018 11:05:34            272             3   \n",
       "4        53        17  14/02/2018 03:23:23           1219             1   \n",
       "\n",
       "   Tot Bwd Pkts  TotLen Fwd Pkts  TotLen Bwd Pkts  Fwd Pkt Len Max  \\\n",
       "0             2               80              204               40   \n",
       "1             1                0                0                0   \n",
       "2             0                0                0                0   \n",
       "3             0               77                0               46   \n",
       "4             1               40              100               40   \n",
       "\n",
       "   Fwd Pkt Len Min  ...  Fwd Seg Size Min  Active Mean  Active Std  \\\n",
       "0               40  ...                 8          0.0         0.0   \n",
       "1                0  ...                20          0.0         0.0   \n",
       "2                0  ...                20          0.0         0.0   \n",
       "3                0  ...                20          0.0         0.0   \n",
       "4               40  ...                 8          0.0         0.0   \n",
       "\n",
       "   Active Max  Active Min  Idle Mean  Idle Std  Idle Max  Idle Min   Label  \n",
       "0           0           0        0.0       0.0         0         0  Benign  \n",
       "1           0           0        0.0       0.0         0         0  Benign  \n",
       "2           0           0        0.0       0.0         0         0  Benign  \n",
       "3           0           0        0.0       0.0         0         0  Benign  \n",
       "4           0           0        0.0       0.0         0         0  Benign  \n",
       "\n",
       "[5 rows x 80 columns]"
      ]
     },
     "execution_count": 18,
     "metadata": {},
     "output_type": "execute_result"
    }
   ],
   "source": [
    " # Sample a few rows to see the data\n",
    "print(f\"\\nSample data:\")\n",
    "df.head()"
   ]
  },
  {
   "cell_type": "markdown",
   "id": "068a8d19",
   "metadata": {
    "id": "068a8d19"
   },
   "source": [
    "### 5.2 Fixing the Data Issues\n",
    "\n",
    "**KEY PRINCIPLE**: Clean conservatively to preserve as much real data as possible."
   ]
  },
  {
   "cell_type": "markdown",
   "id": "e14f6287",
   "metadata": {
    "id": "e14f6287"
   },
   "source": [
    "Robust data cleaning that preserves data while fixing issues\n",
    "    \n",
    "Steps:\n",
    "1. Remove header rows mixed in data\n",
    "2. Convert features to appropriate numeric types\n",
    "3. Handle infinite values carefully\n",
    "4. Fill missing values conservatively\n",
    "5. Remove only exact duplicates"
   ]
  },
  {
   "cell_type": "code",
   "execution_count": 19,
   "id": "24a19d79",
   "metadata": {
    "executionInfo": {
     "elapsed": 971,
     "status": "ok",
     "timestamp": 1748189768140,
     "user": {
      "displayName": "Abdulrhman AL_Atassi",
      "userId": "14798570780685770289"
     },
     "user_tz": -180
    },
    "id": "24a19d79"
   },
   "outputs": [],
   "source": [
    "df = df.drop(columns=['Timestamp'])"
   ]
  },
  {
   "cell_type": "code",
   "execution_count": 20,
   "id": "56020aaa",
   "metadata": {
    "executionInfo": {
     "elapsed": 12,
     "status": "ok",
     "timestamp": 1748189768154,
     "user": {
      "displayName": "Abdulrhman AL_Atassi",
      "userId": "14798570780685770289"
     },
     "user_tz": -180
    },
    "id": "56020aaa"
   },
   "outputs": [],
   "source": [
    "def remove_header_rows(df):\n",
    "    return df[df['Dst Port'] != 'Dst Port'].copy()"
   ]
  },
  {
   "cell_type": "code",
   "execution_count": 21,
   "id": "f52750d3",
   "metadata": {
    "executionInfo": {
     "elapsed": 17,
     "status": "ok",
     "timestamp": 1748189768173,
     "user": {
      "displayName": "Abdulrhman AL_Atassi",
      "userId": "14798570780685770289"
     },
     "user_tz": -180
    },
    "id": "f52750d3"
   },
   "outputs": [],
   "source": [
    "def convert_to_numeric(df):\n",
    "    conversion_errors = {}\n",
    "    for col in df.columns:\n",
    "        if col != 'Label':\n",
    "            df[col] = pd.to_numeric(df[col], errors='coerce')\n",
    "            if df[col].isnull().sum() > 0:\n",
    "                conversion_errors[col] = df[col].isnull().sum()\n",
    "    return df, conversion_errors\n"
   ]
  },
  {
   "cell_type": "code",
   "execution_count": 22,
   "id": "c197da58",
   "metadata": {
    "executionInfo": {
     "elapsed": 5,
     "status": "ok",
     "timestamp": 1748189768180,
     "user": {
      "displayName": "Abdulrhman AL_Atassi",
      "userId": "14798570780685770289"
     },
     "user_tz": -180
    },
    "id": "c197da58"
   },
   "outputs": [],
   "source": [
    "def handle_infinite_values(df):\n",
    "    inf_count = np.isinf(df.select_dtypes(include=[np.number])).sum().sum()\n",
    "    df = df.replace([np.inf, -np.inf], np.nan)\n",
    "    return df, inf_count\n"
   ]
  },
  {
   "cell_type": "code",
   "execution_count": 23,
   "id": "1c4bcfec",
   "metadata": {
    "executionInfo": {
     "elapsed": 2,
     "status": "ok",
     "timestamp": 1748189768184,
     "user": {
      "displayName": "Abdulrhman AL_Atassi",
      "userId": "14798570780685770289"
     },
     "user_tz": -180
    },
    "id": "1c4bcfec"
   },
   "outputs": [],
   "source": [
    "def drop_mostly_empty_rows(df, threshold=0.2):\n",
    "    feature_columns = [col for col in df.columns if col != 'Label']\n",
    "    return df.dropna(thresh=len(feature_columns) - len(feature_columns)*threshold)"
   ]
  },
  {
   "cell_type": "code",
   "execution_count": 24,
   "id": "90369eea",
   "metadata": {
    "executionInfo": {
     "elapsed": 16,
     "status": "ok",
     "timestamp": 1748189768201,
     "user": {
      "displayName": "Abdulrhman AL_Atassi",
      "userId": "14798570780685770289"
     },
     "user_tz": -180
    },
    "id": "90369eea"
   },
   "outputs": [],
   "source": [
    "def fill_missing_with_median(df):\n",
    "    for col in df.columns:\n",
    "        if col != 'Label':\n",
    "            median_val = df[col].median()\n",
    "            df[col].fillna(0 if pd.isna(median_val) else median_val, inplace=True)\n",
    "    return df"
   ]
  },
  {
   "cell_type": "code",
   "execution_count": 25,
   "id": "d10ab35e",
   "metadata": {
    "executionInfo": {
     "elapsed": 15,
     "status": "ok",
     "timestamp": 1748189768218,
     "user": {
      "displayName": "Abdulrhman AL_Atassi",
      "userId": "14798570780685770289"
     },
     "user_tz": -180
    },
    "id": "d10ab35e"
   },
   "outputs": [],
   "source": [
    "def remove_duplicates(df):\n",
    "    return df.drop_duplicates()"
   ]
  },
  {
   "cell_type": "code",
   "execution_count": 26,
   "id": "af0935d1",
   "metadata": {
    "executionInfo": {
     "elapsed": 15,
     "status": "ok",
     "timestamp": 1748189768235,
     "user": {
      "displayName": "Abdulrhman AL_Atassi",
      "userId": "14798570780685770289"
     },
     "user_tz": -180
    },
    "id": "af0935d1"
   },
   "outputs": [],
   "source": [
    "def clean_data(df):\n",
    "    print(\"Cleaning...\")\n",
    "    df = remove_header_rows(df)\n",
    "    df, conversion_errors = convert_to_numeric(df)\n",
    "    df, inf_count = handle_infinite_values(df)\n",
    "    df = drop_mostly_empty_rows(df)\n",
    "    df = fill_missing_with_median(df)\n",
    "    df = remove_duplicates(df)\n",
    "    if df.isnull().sum().sum() > 0:\n",
    "        df = df.fillna(0)\n",
    "    print(\"Done.\")\n",
    "    return df"
   ]
  },
  {
   "cell_type": "code",
   "execution_count": 27,
   "id": "7f6aa8ff",
   "metadata": {
    "colab": {
     "base_uri": "https://localhost:8080/"
    },
    "executionInfo": {
     "elapsed": 14318,
     "status": "ok",
     "timestamp": 1748189782570,
     "user": {
      "displayName": "Abdulrhman AL_Atassi",
      "userId": "14798570780685770289"
     },
     "user_tz": -180
    },
    "id": "7f6aa8ff",
    "outputId": "648aab2a-6dcf-4ad5-c1d2-d67035a69ddb"
   },
   "outputs": [
    {
     "name": "stdout",
     "output_type": "stream",
     "text": [
      "Cleaning...\n"
     ]
    },
    {
     "name": "stderr",
     "output_type": "stream",
     "text": [
      "C:\\Users\\ThinkPad\\AppData\\Local\\Temp\\ipykernel_28020\\723107744.py:5: FutureWarning: A value is trying to be set on a copy of a DataFrame or Series through chained assignment using an inplace method.\n",
      "The behavior will change in pandas 3.0. This inplace method will never work because the intermediate object on which we are setting values always behaves as a copy.\n",
      "\n",
      "For example, when doing 'df[col].method(value, inplace=True)', try using 'df.method({col: value}, inplace=True)' or df[col] = df[col].method(value) instead, to perform the operation inplace on the original object.\n",
      "\n",
      "\n",
      "  df[col].fillna(0 if pd.isna(median_val) else median_val, inplace=True)\n"
     ]
    },
    {
     "name": "stdout",
     "output_type": "stream",
     "text": [
      "Done.\n"
     ]
    }
   ],
   "source": [
    "df_clean = clean_data(df)"
   ]
  },
  {
   "cell_type": "code",
   "execution_count": 28,
   "id": "aeb14c78",
   "metadata": {
    "colab": {
     "base_uri": "https://localhost:8080/",
     "height": 749
    },
    "executionInfo": {
     "elapsed": 15432,
     "status": "ok",
     "timestamp": 1748189798006,
     "user": {
      "displayName": "Abdulrhman AL_Atassi",
      "userId": "14798570780685770289"
     },
     "user_tz": -180
    },
    "id": "aeb14c78",
    "outputId": "6db8447a-cba0-41d5-86c1-e01a3cd4ffd3"
   },
   "outputs": [
    {
     "data": {
      "image/png": "[encoded data removed]",
      "text/plain": [
       "<Figure size 1000x800 with 2 Axes>"
      ]
     },
     "metadata": {},
     "output_type": "display_data"
    }
   ],
   "source": [
    "import numpy as np\n",
    "import pandas as pd\n",
    "import seaborn as sns\n",
    "import matplotlib.pyplot as plt\n",
    "from sklearn.preprocessing import LabelEncoder\n",
    "\n",
    "# ------------------------------------------------------------\n",
    "# A)  Ensure label is numeric\n",
    "# ------------------------------------------------------------\n",
    "label_col = 'Label'                      # ← change if needed\n",
    "df_corr = df_clean.copy()\n",
    "\n",
    "if not np.issubdtype(df_corr[label_col].dtype, np.number):\n",
    "    df_corr[label_col] = LabelEncoder().fit_transform(df_corr[label_col])\n",
    "\n",
    "# ------------------------------------------------------------\n",
    "# B)  Pick top-10 predictors most correlated with the label\n",
    "# ------------------------------------------------------------\n",
    "corrs      = df_corr.corr(numeric_only=True)[label_col].abs()\n",
    "top_feats  = corrs.sort_values(ascending=False).iloc[1:11].index   # skip label\n",
    "\n",
    "# ------------------------------------------------------------\n",
    "# C)  Draw heat-map\n",
    "# ------------------------------------------------------------\n",
    "plt.figure(figsize=(10, 8))\n",
    "sns.heatmap(df_corr[top_feats].corr(),\n",
    "            cmap='coolwarm', annot=True, fmt='.2f',\n",
    "            square=True, cbar_kws={'shrink': 0.8})\n",
    "plt.title('Pearson Correlation Heat-map (Top 10 Features vs. Label)', fontsize=14, fontweight='bold')\n",
    "plt.tight_layout()\n",
    "plt.show()\n"
   ]
  },
  {
   "cell_type": "markdown",
   "id": "6b704cd5",
   "metadata": {
    "id": "6b704cd5"
   },
   "source": [
    "---"
   ]
  },
  {
   "cell_type": "markdown",
   "id": "f41a122d",
   "metadata": {
    "id": "f41a122d"
   },
   "source": [
    "## 6. The Critical Issue: Leaky Feature Detection <a class=\"anchor\" id=\"leaky-features\"></a>\n",
    "We need to find the features that are basically cheating - making our problem artificially easy.\n",
    "\n",
    "### 6.1 Understanding Leaky Features\n",
    "\n",
    "**THE MOST IMPORTANT SECTION**: This is why most tutorials show unrealistic 99%+ accuracy.\n",
    "\n",
    "Educational explanation of leaky features in network security datasets\n",
    "\n",
    "**UNDERSTANDING LEAKY FEATURES**\n",
    "\n",
    "---\n",
    "\n",
    "**WHAT ARE LEAKY FEATURES?**\n",
    "\n",
    "Features that have an unrealistic relationship with the target variable, making prediction artificially easy.\n",
    "    \n",
    "**EXAMPLES IN NETWORK DATA:**\n",
    "\n",
    "❌ LEAKY FEATURE: 'Protocol'\n",
    "- If all DoS attacks use protocol=6 and all benign traffic uses protocol=17\n",
    "- The model just memorizes: protocol=6 → Attack, protocol=17 → Benign\n",
    "- This won't work in real networks where attacks can use any protocol\n",
    "\n",
    "❌ LEAKY FEATURE: 'Tot Fwd Pkts' (Total Forward Packets)\n",
    "- If all attacks have exactly 0 forward packets\n",
    "- The model learns: Tot_Fwd_Pkts=0 → Attack\n",
    "- Real attacks don't have such perfect patterns\n",
    "\n",
    "✅ CLEAN FEATURE: 'Flow Duration'\n",
    "- The time a network flow lasts\n",
    "- Attacks might tend to have shorter/longer flows, but not perfectly\n",
    "- Requires actual learning to distinguish patterns\n",
    "\n",
    "WHY THIS MATTERS:\n",
    "- Leaky models get 99% accuracy in testing but fail in production\n",
    "- Clean models get 85-90% accuracy but actually work in real networks\n",
    "- It's better to have realistic expectations than false confidence\n",
    "\n",
    "---\n",
    "\n",
    "### 6.2 Leaky Feature Detection Pipeline\n",
    "\n",
    "**ADVANCED TECHNIQUE**: Systematically detect features that cause data leakage.\n",
    "\n",
    "Comprehensive leaky feature detection system\n",
    "    \n",
    "Uses multiple methods to identify features that make prediction unrealistically easy:\n",
    "1. Perfect correlation detection\n",
    "2. Perfect class separation detection  \n",
    "3. Statistical independence testing\n",
    "4. Single-feature model performance testing"
   ]
  },
  {
   "cell_type": "markdown",
   "id": "d63aa68d",
   "metadata": {
    "id": "d63aa68d"
   },
   "source": [
    "Method 1: Find features with near-perfect correlation to target\n",
    "        \n",
    "Why this works:\n",
    "- Real features rarely have >99% correlation with outcomes\n",
    "- Perfect correlation usually means the feature was engineered using label info\n"
   ]
  },
  {
   "cell_type": "code",
   "execution_count": 29,
   "id": "0afc8e5f",
   "metadata": {
    "executionInfo": {
     "elapsed": 3,
     "status": "ok",
     "timestamp": 1748189798026,
     "user": {
      "displayName": "Abdulrhman AL_Atassi",
      "userId": "14798570780685770289"
     },
     "user_tz": -180
    },
    "id": "0afc8e5f"
   },
   "outputs": [],
   "source": [
    "def detect_perfect_correlation(X, y, threshold=0.99):\n",
    "    print(\"Method 1: Checking correlations...\")\n",
    "\n",
    "    leaky_features = []\n",
    "    suspicious_features = []\n",
    "\n",
    "    for col in X.columns:\n",
    "        try:\n",
    "            corr = np.corrcoef(X[col], y)[0, 1]\n",
    "            if not np.isnan(corr):\n",
    "                if abs(corr) > threshold:\n",
    "                    leaky_features.append(col)\n",
    "                    print(f\"🚨 LEAKY (perfect correlation): {col} (r={corr:.4f})\")\n",
    "                elif abs(corr) > 0.95:  # Still very high\n",
    "                    suspicious_features.append(col)\n",
    "                    print(f\"⚠️  SUSPICIOUS (high correlation): {col} (r={corr:.4f})\")\n",
    "        except:\n",
    "            continue\n",
    "\n",
    "    return leaky_features, suspicious_features"
   ]
  },
  {
   "cell_type": "markdown",
   "id": "74b607d5",
   "metadata": {
    "id": "74b607d5"
   },
   "source": [
    "Method 2: Find features where some values appear in only one class\n",
    "        \n",
    "Why this works:\n",
    "- Real network features have overlapping distributions between classes\n",
    "- Perfect separation means the feature perfectly predicts the class"
   ]
  },
  {
   "cell_type": "code",
   "execution_count": 30,
   "id": "ab23b707",
   "metadata": {
    "executionInfo": {
     "elapsed": 1,
     "status": "ok",
     "timestamp": 1748189798029,
     "user": {
      "displayName": "Abdulrhman AL_Atassi",
      "userId": "14798570780685770289"
     },
     "user_tz": -180
    },
    "id": "ab23b707"
   },
   "outputs": [],
   "source": [
    "def detect_perfect_separation(X, y):\n",
    "    print(\"Method 2: Checking for perfect class separation...\")\n",
    "\n",
    "    leaky_features = []\n",
    "\n",
    "    for col in X.columns:\n",
    "        try:\n",
    "            unique_vals = X[col].nunique()\n",
    "            # Only check discrete features (not continuous)\n",
    "            if 1 < unique_vals < 1000:\n",
    "                crosstab = pd.crosstab(X[col], y)\n",
    "\n",
    "                # If any feature value appears in only one class\n",
    "                if (crosstab == 0).any().any():\n",
    "                    leaky_features.append(col)\n",
    "                    print(f\"🚨 LEAKY (perfect separation): {col}\")\n",
    "        except:\n",
    "            continue\n",
    "\n",
    "    return leaky_features"
   ]
  },
  {
   "cell_type": "markdown",
   "id": "2cb10ac4",
   "metadata": {
    "id": "2cb10ac4"
   },
   "source": [
    "Method 3: Statistical independence testing using Chi-square\n",
    "    \n",
    "Why this works:\n",
    "- Tests if feature distribution is completely dependent on class\n",
    "- Extremely low p-values indicate perfect dependence (leakage)\n"
   ]
  },
  {
   "cell_type": "code",
   "execution_count": 31,
   "id": "c2222c3a",
   "metadata": {
    "executionInfo": {
     "elapsed": 2,
     "status": "ok",
     "timestamp": 1748189798033,
     "user": {
      "displayName": "Abdulrhman AL_Atassi",
      "userId": "14798570780685770289"
     },
     "user_tz": -180
    },
    "id": "c2222c3a"
   },
   "outputs": [],
   "source": [
    "def detect_statistical_dependence(X, y):\n",
    "    print(\"Method 3: Statistical independence testing...\")\n",
    "\n",
    "    suspicious_features = []\n",
    "\n",
    "    for col in X.columns:\n",
    "        try:\n",
    "            # Discretize continuous variables for chi-square test\n",
    "            if X[col].nunique() > 20:\n",
    "                X_discretized = pd.cut(X[col], bins=10, duplicates='drop')\n",
    "            else:\n",
    "                X_discretized = X[col]\n",
    "\n",
    "            crosstab = pd.crosstab(X_discretized, y)\n",
    "            if crosstab.shape[0] > 1 and crosstab.shape[1] > 1:\n",
    "                chi2, p_value, dof, expected = chi2_contingency(crosstab)\n",
    "\n",
    "                # Extremely low p-value indicates perfect dependence\n",
    "                if p_value < 1e-10:\n",
    "                    suspicious_features.append(col)\n",
    "                    print(f\"⚠️  SUSPICIOUS (perfect dependence): {col} (p={p_value:.2e})\")\n",
    "        except:\n",
    "            continue\n",
    "\n",
    "    return suspicious_features"
   ]
  },
  {
   "cell_type": "markdown",
   "id": "a314c122",
   "metadata": {
    "id": "a314c122"
   },
   "source": [
    "Method 4: Test if single features can achieve unrealistic performance\n",
    "\n",
    "Why this works:\n",
    "- No single real feature should be able to perfectly predict network attacks\n",
    "- If one feature gives >95% accuracy, it's likely leaky"
   ]
  },
  {
   "cell_type": "code",
   "execution_count": 32,
   "id": "51396946",
   "metadata": {
    "executionInfo": {
     "elapsed": 1,
     "status": "ok",
     "timestamp": 1748189798039,
     "user": {
      "displayName": "Abdulrhman AL_Atassi",
      "userId": "14798570780685770289"
     },
     "user_tz": -180
    },
    "id": "51396946"
   },
   "outputs": [],
   "source": [
    "def detect_single_feature_performance(X, y, sample_size=20, threshold=0.95):\n",
    "    print(\"🔍 Method 4: Single feature model testing...\")\n",
    "\n",
    "    suspicious_features = []\n",
    "\n",
    "    # Test a sample of features (testing all takes too long)\n",
    "    sample_features = X.columns[:20] if len(X.columns) > 20 else X.columns\n",
    "\n",
    "    for col in sample_features:\n",
    "        try:\n",
    "            # Train simple model on single feature\n",
    "            rf_single = RandomForestClassifier(n_estimators=10, random_state=RANDOM_STATE)\n",
    "            rf_single.fit(X[[col]], y)\n",
    "\n",
    "            accuracy = rf_single.score(X[[col]], y)\n",
    "            if accuracy > 0.95:\n",
    "                suspicious_features.append(col)\n",
    "                print(f\"⚠️  SUSPICIOUS (single feature accuracy): {col} (acc={accuracy:.4f})\")\n",
    "        except:\n",
    "            continue\n",
    "\n",
    "    return suspicious_features"
   ]
  },
  {
   "cell_type": "markdown",
   "id": "cd0d1818",
   "metadata": {
    "id": "cd0d1818"
   },
   "source": [
    "Run all detection methods and combine results\n"
   ]
  },
  {
   "cell_type": "code",
   "execution_count": 33,
   "id": "44e7775a",
   "metadata": {
    "executionInfo": {
     "elapsed": 1,
     "status": "ok",
     "timestamp": 1748189798041,
     "user": {
      "displayName": "Abdulrhman AL_Atassi",
      "userId": "14798570780685770289"
     },
     "user_tz": -180
    },
    "id": "44e7775a"
   },
   "outputs": [],
   "source": [
    "class LeakyFeatureDetector:\n",
    "    def __init__(self):\n",
    "        self.leaky_features = []\n",
    "        self.suspicious_features = []\n",
    "\n",
    "    def detect_all(self, X, y):\n",
    "        print(\"🚨 Starting Leaky Feature Detection...\")\n",
    "\n",
    "        l_corr, s_corr = detect_perfect_correlation(X, y)\n",
    "        l_sep = detect_perfect_separation(X, y)\n",
    "        s_stat = detect_statistical_dependence(X, y)\n",
    "        s_perf = detect_single_feature_performance(X, y)\n",
    "\n",
    "        self.leaky_features = list(set(l_corr + l_sep))\n",
    "        self.suspicious_features = list(set(s_corr + s_stat + s_perf))\n",
    "        self.suspicious_features = [f for f in self.suspicious_features if f not in self.leaky_features]\n",
    "\n",
    "        print(f\"\\n🚨 Found {len(self.leaky_features)} definitely leaky features\")\n",
    "        print(f\"⚠️  Found {len(self.suspicious_features)} suspicious features\")\n",
    "\n",
    "        return self.leaky_features, self.suspicious_features\n"
   ]
  },
  {
   "cell_type": "code",
   "execution_count": 34,
   "id": "abeaae70",
   "metadata": {
    "executionInfo": {
     "elapsed": 1,
     "status": "ok",
     "timestamp": 1748189798044,
     "user": {
      "displayName": "Abdulrhman AL_Atassi",
      "userId": "14798570780685770289"
     },
     "user_tz": -180
    },
    "id": "abeaae70"
   },
   "outputs": [],
   "source": [
    "# Example usage of the detector (we'll use this in the next section)\n",
    "detector = LeakyFeatureDetector()"
   ]
  },
  {
   "cell_type": "markdown",
   "id": "6ab88d6b",
   "metadata": {
    "id": "6ab88d6b"
   },
   "source": [
    "### 6.3 Running Leaky Feature Detection\n",
    "\n",
    "**PRACTICAL APPLICATION**: Let's find the leaky features in our dataset."
   ]
  },
  {
   "cell_type": "code",
   "execution_count": 35,
   "id": "7693aa2f",
   "metadata": {
    "executionInfo": {
     "elapsed": 1,
     "status": "ok",
     "timestamp": 1748189798047,
     "user": {
      "displayName": "Abdulrhman AL_Atassi",
      "userId": "14798570780685770289"
     },
     "user_tz": -180
    },
    "id": "7693aa2f"
   },
   "outputs": [],
   "source": [
    "def get_features(df, target_column=\"Label\"):\n",
    "    return df.drop(target_column, axis=1).copy()"
   ]
  },
  {
   "cell_type": "code",
   "execution_count": 36,
   "id": "9b908db6",
   "metadata": {
    "executionInfo": {
     "elapsed": 3,
     "status": "ok",
     "timestamp": 1748189798051,
     "user": {
      "displayName": "Abdulrhman AL_Atassi",
      "userId": "14798570780685770289"
     },
     "user_tz": -180
    },
    "id": "9b908db6"
   },
   "outputs": [],
   "source": [
    "def make_binary_labels(df, normal_label=\"Benign\", target_column=\"Label\"):\n",
    "    \"\"\"\n",
    "    Transform multi-class labels to binary format (0 = Benign, 1 = Attack).\n",
    "    \"\"\"\n",
    "    return (df[target_column] != normal_label).astype(int)\n"
   ]
  },
  {
   "cell_type": "code",
   "execution_count": 37,
   "id": "2ffca658",
   "metadata": {
    "executionInfo": {
     "elapsed": 5,
     "status": "ok",
     "timestamp": 1748189798055,
     "user": {
      "displayName": "Abdulrhman AL_Atassi",
      "userId": "14798570780685770289"
     },
     "user_tz": -180
    },
    "id": "2ffca658"
   },
   "outputs": [],
   "source": [
    "def make_multiclass_labels(df, target_column=\"Label\"):\n",
    "    \"\"\"\n",
    "    Return the original, unmodified class labels (string format).\n",
    "\n",
    "    Helpful when you want to train a multi-class model later or need to\n",
    "    examine the original category names.\n",
    "    \"\"\"\n",
    "    return df[target_column].copy()\n"
   ]
  },
  {
   "cell_type": "code",
   "execution_count": 38,
   "id": "0dc93c43",
   "metadata": {
    "executionInfo": {
     "elapsed": 3,
     "status": "ok",
     "timestamp": 1748189798059,
     "user": {
      "displayName": "Abdulrhman AL_Atassi",
      "userId": "14798570780685770289"
     },
     "user_tz": -180
    },
    "id": "0dc93c43"
   },
   "outputs": [],
   "source": [
    "def run_leaky_feature_detection(df_clean, test_size: float = 0.2):\n",
    "    \"\"\"\n",
    "    Apply leaky-feature detection on *binary* labels.\n",
    "\n",
    "    You can still call the helper functions above elsewhere for\n",
    "    multi-class work; this routine stays focused on the binary task.\n",
    "    \"\"\"\n",
    "    print(\"RUNNING LEAKY FEATURE DETECTION ON OUR DATASET\")\n",
    "\n",
    "    # 1️  Build X and y (binary)\n",
    "\n",
    "    X = get_features(df_clean, target_column=\"Label\")\n",
    "    y = make_binary_labels(df_clean, normal_label=\"Benign\", target_column=\"Label\")\n",
    "\n",
    "    # 2️  Train/test split (detection on training data only)\n",
    "    X_train, X_test, y_train, y_test = train_test_split(\n",
    "        X, y,\n",
    "        test_size=test_size,\n",
    "        stratify=y,\n",
    "        random_state=RANDOM_STATE\n",
    "    )\n",
    "\n",
    "    print(f\"Detection dataset: {X_train.shape[0]} samples, {X_train.shape[1]} features\")\n",
    "    print(f\"Class distribution: Benign={ (y_train==0).sum() }, Attack={ (y_train==1).sum() }\")\n",
    "\n",
    "    # 3 Run detector\n",
    "    detector = LeakyFeatureDetector()\n",
    "    leaky_features, suspicious_features = detector.detect_all(X_train, y_train)\n",
    "\n",
    "    return leaky_features, suspicious_features, X_train, X_test, y_train, y_test\n"
   ]
  },
  {
   "cell_type": "code",
   "execution_count": 39,
   "id": "f7fa5daf",
   "metadata": {
    "colab": {
     "base_uri": "https://localhost:8080/"
    },
    "executionInfo": {
     "elapsed": 323739,
     "status": "ok",
     "timestamp": 1748190121799,
     "user": {
      "displayName": "Abdulrhman AL_Atassi",
      "userId": "14798570780685770289"
     },
     "user_tz": -180
    },
    "id": "f7fa5daf",
    "outputId": "e4bc543b-10ea-4921-a194-48e83b38e266"
   },
   "outputs": [
    {
     "name": "stdout",
     "output_type": "stream",
     "text": [
      "RUNNING LEAKY FEATURE DETECTION ON OUR DATASET\n",
      "Detection dataset: 1013367 samples, 78 features\n",
      "Class distribution: Benign=821888, Attack=191479\n",
      "🚨 Starting Leaky Feature Detection...\n",
      "Method 1: Checking correlations...\n"
     ]
    },
    {
     "name": "stderr",
     "output_type": "stream",
     "text": [
      "c:\\Users\\ThinkPad\\anaconda3\\Lib\\site-packages\\numpy\\lib\\function_base.py:2897: RuntimeWarning: invalid value encountered in divide\n",
      "  c /= stddev[:, None]\n",
      "c:\\Users\\ThinkPad\\anaconda3\\Lib\\site-packages\\numpy\\lib\\function_base.py:2898: RuntimeWarning: invalid value encountered in divide\n",
      "  c /= stddev[None, :]\n"
     ]
    },
    {
     "name": "stdout",
     "output_type": "stream",
     "text": [
      "Method 2: Checking for perfect class separation...\n",
      "🚨 LEAKY (perfect separation): Protocol\n",
      "🚨 LEAKY (perfect separation): Tot Fwd Pkts\n",
      "🚨 LEAKY (perfect separation): Tot Bwd Pkts\n",
      "🚨 LEAKY (perfect separation): Fwd Pkt Len Min\n",
      "🚨 LEAKY (perfect separation): Bwd Pkt Len Max\n",
      "🚨 LEAKY (perfect separation): Bwd Pkt Len Min\n",
      "🚨 LEAKY (perfect separation): Fwd PSH Flags\n",
      "🚨 LEAKY (perfect separation): Pkt Len Min\n",
      "🚨 LEAKY (perfect separation): SYN Flag Cnt\n",
      "🚨 LEAKY (perfect separation): RST Flag Cnt\n",
      "🚨 LEAKY (perfect separation): ECE Flag Cnt\n",
      "🚨 LEAKY (perfect separation): Down/Up Ratio\n",
      "🚨 LEAKY (perfect separation): Subflow Fwd Pkts\n",
      "🚨 LEAKY (perfect separation): Subflow Bwd Pkts\n",
      "🚨 LEAKY (perfect separation): Fwd Act Data Pkts\n",
      "🚨 LEAKY (perfect separation): Fwd Seg Size Min\n",
      "Method 3: Statistical independence testing...\n",
      "⚠️  SUSPICIOUS (perfect dependence): Dst Port (p=0.00e+00)\n",
      "⚠️  SUSPICIOUS (perfect dependence): Protocol (p=0.00e+00)\n",
      "⚠️  SUSPICIOUS (perfect dependence): Tot Fwd Pkts (p=5.03e-11)\n",
      "⚠️  SUSPICIOUS (perfect dependence): Tot Bwd Pkts (p=3.28e-16)\n",
      "⚠️  SUSPICIOUS (perfect dependence): TotLen Bwd Pkts (p=1.49e-15)\n",
      "⚠️  SUSPICIOUS (perfect dependence): Fwd Pkt Len Min (p=8.44e-35)\n",
      "⚠️  SUSPICIOUS (perfect dependence): Bwd Pkt Len Max (p=0.00e+00)\n",
      "⚠️  SUSPICIOUS (perfect dependence): Bwd Pkt Len Min (p=0.00e+00)\n",
      "⚠️  SUSPICIOUS (perfect dependence): Bwd Pkt Len Mean (p=0.00e+00)\n",
      "⚠️  SUSPICIOUS (perfect dependence): Bwd Pkt Len Std (p=0.00e+00)\n",
      "⚠️  SUSPICIOUS (perfect dependence): Flow Byts/s (p=1.10e-29)\n",
      "⚠️  SUSPICIOUS (perfect dependence): Flow Pkts/s (p=3.42e-273)\n",
      "⚠️  SUSPICIOUS (perfect dependence): Bwd IAT Tot (p=0.00e+00)\n",
      "⚠️  SUSPICIOUS (perfect dependence): Bwd IAT Mean (p=2.68e-107)\n",
      "⚠️  SUSPICIOUS (perfect dependence): Bwd IAT Std (p=0.00e+00)\n",
      "⚠️  SUSPICIOUS (perfect dependence): Bwd IAT Max (p=0.00e+00)\n",
      "⚠️  SUSPICIOUS (perfect dependence): Bwd IAT Min (p=2.12e-47)\n",
      "⚠️  SUSPICIOUS (perfect dependence): Fwd PSH Flags (p=0.00e+00)\n",
      "⚠️  SUSPICIOUS (perfect dependence): Bwd Header Len (p=2.95e-16)\n",
      "⚠️  SUSPICIOUS (perfect dependence): Fwd Pkts/s (p=3.38e-277)\n",
      "⚠️  SUSPICIOUS (perfect dependence): Pkt Len Min (p=4.74e-96)\n",
      "⚠️  SUSPICIOUS (perfect dependence): Pkt Len Mean (p=0.00e+00)\n",
      "⚠️  SUSPICIOUS (perfect dependence): FIN Flag Cnt (p=1.13e-30)\n",
      "⚠️  SUSPICIOUS (perfect dependence): SYN Flag Cnt (p=0.00e+00)\n",
      "⚠️  SUSPICIOUS (perfect dependence): RST Flag Cnt (p=0.00e+00)\n",
      "⚠️  SUSPICIOUS (perfect dependence): PSH Flag Cnt (p=0.00e+00)\n",
      "⚠️  SUSPICIOUS (perfect dependence): ACK Flag Cnt (p=6.20e-157)\n",
      "⚠️  SUSPICIOUS (perfect dependence): URG Flag Cnt (p=4.90e-31)\n",
      "⚠️  SUSPICIOUS (perfect dependence): ECE Flag Cnt (p=0.00e+00)\n",
      "⚠️  SUSPICIOUS (perfect dependence): Pkt Size Avg (p=0.00e+00)\n",
      "⚠️  SUSPICIOUS (perfect dependence): Bwd Seg Size Avg (p=0.00e+00)\n",
      "⚠️  SUSPICIOUS (perfect dependence): Subflow Fwd Pkts (p=5.03e-11)\n",
      "⚠️  SUSPICIOUS (perfect dependence): Subflow Bwd Pkts (p=3.28e-16)\n",
      "⚠️  SUSPICIOUS (perfect dependence): Subflow Bwd Byts (p=1.49e-15)\n",
      "⚠️  SUSPICIOUS (perfect dependence): Init Fwd Win Byts (p=0.00e+00)\n",
      "⚠️  SUSPICIOUS (perfect dependence): Init Bwd Win Byts (p=0.00e+00)\n",
      "⚠️  SUSPICIOUS (perfect dependence): Fwd Seg Size Min (p=0.00e+00)\n",
      "⚠️  SUSPICIOUS (perfect dependence): Active Mean (p=1.42e-19)\n",
      "⚠️  SUSPICIOUS (perfect dependence): Active Max (p=3.01e-31)\n",
      "⚠️  SUSPICIOUS (perfect dependence): Active Min (p=9.22e-19)\n",
      "🔍 Method 4: Single feature model testing...\n",
      "⚠️  SUSPICIOUS (single feature accuracy): Flow Duration (acc=0.9545)\n",
      "⚠️  SUSPICIOUS (single feature accuracy): Flow Pkts/s (acc=0.9650)\n",
      "⚠️  SUSPICIOUS (single feature accuracy): Flow IAT Mean (acc=0.9645)\n",
      "\n",
      "🚨 Found 16 definitely leaky features\n",
      "⚠️  Found 28 suspicious features\n"
     ]
    }
   ],
   "source": [
    "# Run the detection\n",
    "leaky_features, suspicious_features, X_train, X_test, y_train, y_test = run_leaky_feature_detection(df_clean)"
   ]
  },
  {
   "cell_type": "code",
   "execution_count": 40,
   "id": "d054bf0e",
   "metadata": {
    "executionInfo": {
     "elapsed": 17,
     "status": "ok",
     "timestamp": 1748190121800,
     "user": {
      "displayName": "Abdulrhman AL_Atassi",
      "userId": "14798570780685770289"
     },
     "user_tz": -180
    },
    "id": "d054bf0e"
   },
   "outputs": [],
   "source": [
    "# # Figure 1: Dataset Overview and Quality Issues\n",
    "# fig, axes = plt.subplots( figsize=(12, 10))\n",
    "# fig.suptitle('Figure 1: Dataset Overview and Data Quality Analysis', fontsize=14, fontweight='bold')\n",
    "\n",
    "# # A) Class Distribution\n",
    "# df['Label'].value_counts().plot(kind='bar', ax=axes[0,0], color=['lightblue', 'salmon', 'lightgreen'])\n",
    "# axes[0,0].set_title('(A) Class Distribution in Combined Dataset')\n",
    "# axes[0,0].set_xlabel('Attack Type')\n",
    "# axes[0,0].set_ylabel('Number of Samples')\n",
    "# axes[0,0].tick_params(axis='x', rotation=45)\n",
    "# #\n",
    "# # # B) Data Quality Issues\n",
    "# # quality_issues = ['Header Rows', 'Infinite Values', 'Missing Values', 'Type Inconsistencies']\n",
    "# # issue_counts = [len(data_problems), inf_count if 'inf_count' in locals() else 0,\n",
    "# #                 df.isnull().sum().sum(), len([col for col in df.columns if df[col].dtype == 'object' and col != 'Label'])]\n",
    "# # axes[0,1].bar(quality_issues, issue_counts, color=['red', 'orange', 'yellow', 'pink'], alpha=0.7)\n",
    "# # axes[0,1].set_title('(B) Data Quality Issues Found')\n",
    "# # axes[0,1].set_ylabel('Count')\n",
    "# # axes[0,1].tick_params(axis='x', rotation=45)\n",
    "\n",
    "# # # C) Before/After Cleaning\n",
    "# # sizes = ['Before Cleaning', 'After Cleaning']\n",
    "# # sample_counts = [df.shape[0], df_clean.shape[0]]\n",
    "# # colors = ['lightcoral', 'lightgreen']\n",
    "# # bars = axes[1,0].bar(sizes, sample_counts, color=colors, alpha=0.7)\n",
    "# # axes[1,0].set_title('(C) Dataset Size: Before vs After Cleaning')\n",
    "# # axes[1,0].set_ylabel('Number of Samples')\n",
    "# # # Add value labels on bars\n",
    "# # for bar, count in zip(bars, sample_counts):\n",
    "# #     axes[1,0].text(bar.get_x() + bar.get_width()/2, bar.get_height() + max(sample_counts)*0.01,\n",
    "# #                    f'{count:,}', ha='center', fontweight='bold')\n",
    "\n",
    "# # # D) Feature Categories After Leakage Detection\n",
    "# # if 'clean_features' in locals():\n",
    "# #     categories = ['Clean Features', 'Definitely Leaky', 'Suspicious']\n",
    "# #     sizes = [len(clean_features), len(cheating_features), len(suspicious_features)]\n",
    "# #     colors = ['green', 'red', 'orange']\n",
    "# #     axes[1,1].pie(sizes, labels=categories, colors=colors, autopct='%1.1f%%', startangle=90)\n",
    "# #     axes[1,1].set_title('(D) Feature Classification Results')\n",
    "\n",
    "# plt.tight_layout()\n",
    "# plt.show()"
   ]
  },
  {
   "cell_type": "code",
   "execution_count": 41,
   "id": "055b1d24",
   "metadata": {
    "colab": {
     "base_uri": "https://localhost:8080/",
     "height": 759
    },
    "executionInfo": {
     "elapsed": 1413,
     "status": "ok",
     "timestamp": 1748190123206,
     "user": {
      "displayName": "Abdulrhman AL_Atassi",
      "userId": "14798570780685770289"
     },
     "user_tz": -180
    },
    "id": "055b1d24",
    "outputId": "f0bdae18-0052-4712-f2a7-20137f95073c"
   },
   "outputs": [
    {
     "name": "stdout",
     "output_type": "stream",
     "text": [
      "Generating correlation analysis...\n"
     ]
    },
    {
     "data": {
      "image/png": "[encoded data removed]",
      "text/plain": [
       "<Figure size 1200x1000 with 2 Axes>"
      ]
     },
     "metadata": {},
     "output_type": "display_data"
    }
   ],
   "source": [
    "# Add this after leaky feature detection\n",
    "print(\"Generating correlation analysis...\")\n",
    "\n",
    "# Select numeric features for correlation analysis\n",
    "numeric_features = X_train.select_dtypes(include=[np.number]).columns[:15]  # Top 15 for readability\n",
    "correlation_matrix = X_train[numeric_features].corr()\n",
    "\n",
    "# Create correlation heatmap\n",
    "plt.figure(figsize=(12, 10))\n",
    "sns.heatmap(correlation_matrix, annot=True, cmap='RdBu_r', center=0,\n",
    "            square=True, fmt='.2f', cbar_kws={'shrink': 0.8})\n",
    "plt.title('Feature Correlation Matrix', fontsize=14, fontweight='bold')\n",
    "plt.tight_layout()\n",
    "plt.show()"
   ]
  },
  {
   "cell_type": "markdown",
   "id": "6a9db1c3",
   "metadata": {
    "id": "6a9db1c3"
   },
   "source": [
    "\n",
    "### 6.4 Progressive Feature Removal Testing\n",
    "\n",
    "**VALIDATION**: Test how removing features affects model performance.\n"
   ]
  },
  {
   "cell_type": "markdown",
   "id": "495a438f",
   "metadata": {
    "id": "495a438f"
   },
   "source": [
    "Test model performance as we progressively remove problematic features\n",
    "\n",
    "This helps us understand:\n",
    "1. How much each group of features contributes to unrealistic performance\n",
    "2. What realistic performance looks like\n",
    "3. The trade-off between accuracy and realism\n"
   ]
  },
  {
   "cell_type": "code",
   "execution_count": 42,
   "id": "699072cc",
   "metadata": {
    "executionInfo": {
     "elapsed": 5,
     "status": "ok",
     "timestamp": 1748190123212,
     "user": {
      "displayName": "Abdulrhman AL_Atassi",
      "userId": "14798570780685770289"
     },
     "user_tz": -180
    },
    "id": "699072cc"
   },
   "outputs": [],
   "source": [
    "def test_progressive_feature_removal(X_train, X_test, y_train, y_test, leaky_features, suspicious_features):\n",
    "    print(\"\\n\" + \"=\"*60)\n",
    "    print(\"PROGRESSIVE FEATURE REMOVAL TESTING\")\n",
    "    print(\"=\"*60)\n",
    "\n",
    "    # Define test scenarios\n",
    "    scenarios = [\n",
    "        (\"Original (all features)\", X_train, X_test),\n",
    "        (\"Remove definitely leaky\",\n",
    "         X_train.drop(leaky_features, axis=1, errors='ignore'),\n",
    "         X_test.drop(leaky_features, axis=1, errors='ignore')),\n",
    "        (\"Remove all suspicious\",\n",
    "         X_train.drop(leaky_features + suspicious_features, axis=1, errors='ignore'),\n",
    "         X_test.drop(leaky_features + suspicious_features, axis=1, errors='ignore'))\n",
    "    ]\n",
    "\n",
    "    results = {}\n",
    "\n",
    "    for scenario_name, X_train_scenario, X_test_scenario in scenarios:\n",
    "        if X_train_scenario.shape[1] == 0:\n",
    "            print(f\"\\n{scenario_name}: No features left - skipping\")\n",
    "            continue\n",
    "\n",
    "        print(f\"\\n{'='*20} {scenario_name} {'='*20}\")\n",
    "        print(f\"Features remaining: {X_train_scenario.shape[1]}\")\n",
    "\n",
    "        # Scale features\n",
    "        scaler = StandardScaler()\n",
    "        X_train_scaled = scaler.fit_transform(X_train_scenario)\n",
    "        X_test_scaled = scaler.transform(X_test_scenario)\n",
    "\n",
    "        # Train a simple model (conservative settings to avoid overfitting)\n",
    "        rf = RandomForestClassifier(\n",
    "            n_estimators=20,      # Few trees\n",
    "            max_depth=3,          # Very shallow\n",
    "            min_samples_split=100, # Many samples required to split\n",
    "            min_samples_leaf=50,   # Many samples in leaves\n",
    "            random_state=RANDOM_STATE\n",
    "        )\n",
    "\n",
    "        rf.fit(X_train_scaled, y_train)\n",
    "        y_pred = rf.predict(X_test_scaled)\n",
    "        y_pred_proba = rf.predict_proba(X_test_scaled)[:, 1]\n",
    "\n",
    "        # Calculate metrics\n",
    "        accuracy = accuracy_score(y_test, y_pred)\n",
    "        auc = roc_auc_score(y_test, y_pred_proba)\n",
    "\n",
    "        print(f\"Test Accuracy: {accuracy:.4f}\")\n",
    "        print(f\"Test AUC: {auc:.4f}\")\n",
    "\n",
    "        # Interpret results\n",
    "        if accuracy > 0.98:\n",
    "                print(\"🚨 STILL TOO HIGH - more leakage exists!\")\n",
    "        elif accuracy > 0.90:\n",
    "            print(\"✅ REASONABLE - but could be better\")\n",
    "        else:\n",
    "            print(\"✅ GOOD - realistic performance\")\n",
    "\n",
    "        results[scenario_name] = {\n",
    "            'accuracy': accuracy,\n",
    "            'auc': auc,\n",
    "            'n_features': X_train_scenario.shape[1]\n",
    "        }\n",
    "\n",
    "    return results"
   ]
  },
  {
   "cell_type": "code",
   "execution_count": 43,
   "id": "0c5f639a",
   "metadata": {
    "colab": {
     "base_uri": "https://localhost:8080/"
    },
    "executionInfo": {
     "elapsed": 66854,
     "status": "ok",
     "timestamp": 1748190190068,
     "user": {
      "displayName": "Abdulrhman AL_Atassi",
      "userId": "14798570780685770289"
     },
     "user_tz": -180
    },
    "id": "0c5f639a",
    "outputId": "443fc30f-867a-4687-9339-49c3c93ee151"
   },
   "outputs": [
    {
     "name": "stdout",
     "output_type": "stream",
     "text": [
      "\n",
      "============================================================\n",
      "PROGRESSIVE FEATURE REMOVAL TESTING\n",
      "============================================================\n",
      "\n",
      "==================== Original (all features) ====================\n",
      "Features remaining: 78\n",
      "Test Accuracy: 0.9782\n",
      "Test AUC: 0.9961\n",
      "✅ REASONABLE - but could be better\n",
      "\n",
      "==================== Remove definitely leaky ====================\n",
      "Features remaining: 62\n",
      "Test Accuracy: 0.9938\n",
      "Test AUC: 0.9997\n",
      "🚨 STILL TOO HIGH - more leakage exists!\n",
      "\n",
      "==================== Remove all suspicious ====================\n",
      "Features remaining: 34\n",
      "Test Accuracy: 0.9781\n",
      "Test AUC: 0.9927\n",
      "✅ REASONABLE - but could be better\n"
     ]
    }
   ],
   "source": [
    "# Run the progressive testing\n",
    "removal_results = test_progressive_feature_removal(\n",
    "    X_train, X_test, y_train, y_test, leaky_features, suspicious_features\n",
    ")"
   ]
  },
  {
   "cell_type": "code",
   "execution_count": 44,
   "id": "a17e016e",
   "metadata": {
    "colab": {
     "base_uri": "https://localhost:8080/",
     "height": 651
    },
    "executionInfo": {
     "elapsed": 514,
     "status": "ok",
     "timestamp": 1748190190584,
     "user": {
      "displayName": "Abdulrhman AL_Atassi",
      "userId": "14798570780685770289"
     },
     "user_tz": -180
    },
    "id": "a17e016e",
    "outputId": "764b7dc6-f902-4d4c-b956-782873d9e5a7"
   },
   "outputs": [
    {
     "data": {
      "image/png": "[encoded data removed]",
      "text/plain": [
       "<Figure size 1500x1200 with 4 Axes>"
      ]
     },
     "metadata": {},
     "output_type": "display_data"
    }
   ],
   "source": [
    "# Professional Leakage Detection Results\n",
    "fig, axes = plt.subplots(2, 2, figsize=(15, 12))\n",
    "fig.suptitle('Leaky Feature Detection and Impact Analysis', fontsize=16, fontweight='bold')\n",
    "\n",
    "# A) Feature Categories\n",
    "categories = ['Clean Features', 'Definitely Leaky', 'Suspicious']\n",
    "feature_counts = [\n",
    "    len([f for f in X_train.columns if f not in (leaky_features + suspicious_features)]),\n",
    "    len(leaky_features),\n",
    "    len(suspicious_features)\n",
    "]\n",
    "colors = ['#2E8B57', '#DC143C', '#FF8C00']\n",
    "bars = axes[0,0].bar(categories, feature_counts, color=colors, alpha=0.8)\n",
    "axes[0,0].set_title('(A) Feature Classification Results')\n",
    "axes[0,0].set_ylabel('Number of Features')\n",
    "for bar, count in zip(bars, feature_counts):\n",
    "    axes[0,0].text(bar.get_x() + bar.get_width()/2, bar.get_height() + max(feature_counts)*0.01,\n",
    "                   str(count), ha='center', fontweight='bold')\n",
    "\n",
    "# B) Performance Impact\n",
    "scenarios = list(removal_results.keys())\n",
    "accuracies = [removal_results[s]['accuracy'] for s in scenarios]\n",
    "aucs = [removal_results[s]['auc'] for s in scenarios]\n",
    "\n",
    "x = range(len(scenarios))\n",
    "width = 0.35\n",
    "axes[0,1].bar([i - width/2 for i in x], accuracies, width, label='Accuracy', alpha=0.8, color='#4CAF50')\n",
    "axes[0,1].bar([i + width/2 for i in x], aucs, width, label='AUC', alpha=0.8, color='#2196F3')\n",
    "axes[0,1].set_title('(B) Performance Impact of Feature Removal')\n",
    "axes[0,1].set_ylabel('Score')\n",
    "axes[0,1].set_xticks(x)\n",
    "axes[0,1].set_xticklabels([s.replace(' (', '\\n(').replace(')', ')') for s in scenarios], rotation=45)\n",
    "axes[0,1].legend()\n",
    "axes[0,1].grid(True, alpha=0.3)\n",
    "\n",
    "# C) Feature Count vs Performance\n",
    "feature_counts_prog = [removal_results[s]['n_features'] for s in scenarios]\n",
    "axes[1,0].scatter(feature_counts_prog, accuracies, s=100, alpha=0.7, color='red', label='Accuracy')\n",
    "axes[1,0].scatter(feature_counts_prog, aucs, s=100, alpha=0.7, color='blue', label='AUC')\n",
    "axes[1,0].set_title('(C) Features vs Performance Trade-off')\n",
    "axes[1,0].set_xlabel('Number of Features')\n",
    "axes[1,0].set_ylabel('Performance Score')\n",
    "axes[1,0].legend()\n",
    "axes[1,0].grid(True, alpha=0.3)\n",
    "\n",
    "# D) Leaky Feature Types Breakdown\n",
    "leaky_types = {\n",
    "    'Perfect Separation': len(leaky_features),\n",
    "    'High Correlation': len([f for f in suspicious_features if 'correlation' in str(f)]),\n",
    "    'Statistical Dependence': len([f for f in suspicious_features if f not in leaky_features]),\n",
    "}\n",
    "axes[1,1].pie(leaky_types.values(), labels=leaky_types.keys(), autopct='%1.1f%%',\n",
    "              colors=['#FF6B6B', '#4ECDC4', '#45B7D1'])\n",
    "axes[1,1].set_title('(D) Types of Problematic Features')\n",
    "\n",
    "plt.tight_layout()\n",
    "plt.show()"
   ]
  },
  {
   "cell_type": "markdown",
   "id": "75b334d8",
   "metadata": {
    "id": "75b334d8"
   },
   "source": [
    "---"
   ]
  },
  {
   "cell_type": "markdown",
   "id": "e063bb20",
   "metadata": {
    "id": "e063bb20"
   },
   "source": [
    "## 7. Building the Clean Pipeline <a class=\"anchor\" id=\"clean-pipeline\"></a>\n",
    "\n",
    "### 7.1 Deciding Which Features to Keep\n",
    "\n",
    "After all that detective work, we need to make some tough decisions. Looking at our results, we found way more problematic features than I initially expected - this dataset is pretty messy when it comes to data leakage.\n",
    "Let me break down what we're dealing with:"
   ]
  },
  {
   "cell_type": "code",
   "execution_count": 45,
   "id": "c8e27e69",
   "metadata": {
    "executionInfo": {
     "elapsed": 3,
     "status": "ok",
     "timestamp": 1748190190586,
     "user": {
      "displayName": "Abdulrhman AL_Atassi",
      "userId": "14798570780685770289"
     },
     "user_tz": -180
    },
    "id": "c8e27e69"
   },
   "outputs": [],
   "source": [
    "def create_final_feature_list(leaky_features, suspicious_features, X_train):\n",
    "    \"\"\"\n",
    "    Time to make the hard choices about which features to keep.\n",
    "\n",
    "    My approach here is pretty aggressive - I'd rather have a model that works\n",
    "    in the real world than one that looks amazing on paper but fails when deployed.\n",
    "    \"\"\"\n",
    "    print(\"Alright, let's figure out what features we can actually trust...\")\n",
    "\n",
    "    # Combine all the problematic stuff\n",
    "    all_problematic = list(set(leaky_features + suspicious_features))\n",
    "\n",
    "    print(f\"Started with {X_train.shape[1]} features\")\n",
    "    print(f\"Found {len(leaky_features)} that are definitely Leaky\")\n",
    "    print(f\"Found {len(suspicious_features)} more that look fishy\")\n",
    "    print(f\"That leaves us with {X_train.shape[1] - len(all_problematic)} clean features\")\n",
    "\n",
    "    # Let's see what we're tossing out\n",
    "    print(\"\\nFeatures I'm removing (and why):\")\n",
    "    print(\"\\nThe obvious Leaky:\")\n",
    "    for feature in leaky_features:\n",
    "        print(f\"  • {feature} - perfect class separation, no way this is real\")\n",
    "\n",
    "    print(\"\\nThe suspicious ones:\")\n",
    "    for feature in suspicious_features:\n",
    "        print(f\"  • {feature} - way too correlated, probably engineered\")\n",
    "\n",
    "   # Automatically use the detected features instead of manual selection\n",
    "    features_to_remove = leaky_features + suspicious_features\n",
    "    clean_features = [col for col in X_train.columns if col not in features_to_remove]\n",
    "\n",
    "    print(f\"Automatically removing {len(features_to_remove)} problematic features:\")\n",
    "    for feature in features_to_remove:\n",
    "        print(f\"  • {feature}\")\n",
    "\n",
    "    return features_to_remove, clean_features"
   ]
  },
  {
   "cell_type": "code",
   "execution_count": 46,
   "id": "a935e799",
   "metadata": {
    "colab": {
     "base_uri": "https://localhost:8080/"
    },
    "executionInfo": {
     "elapsed": 6,
     "status": "ok",
     "timestamp": 1748190190595,
     "user": {
      "displayName": "Abdulrhman AL_Atassi",
      "userId": "14798570780685770289"
     },
     "user_tz": -180
    },
    "id": "a935e799",
    "outputId": "1802cf75-94c4-4cae-800e-c439a94799cd"
   },
   "outputs": [
    {
     "name": "stdout",
     "output_type": "stream",
     "text": [
      "Alright, let's figure out what features we can actually trust...\n",
      "Started with 78 features\n",
      "Found 16 that are definitely Leaky\n",
      "Found 28 more that look fishy\n",
      "That leaves us with 34 clean features\n",
      "\n",
      "Features I'm removing (and why):\n",
      "\n",
      "The obvious Leaky:\n",
      "  • Fwd PSH Flags - perfect class separation, no way this is real\n",
      "  • Pkt Len Min - perfect class separation, no way this is real\n",
      "  • Subflow Fwd Pkts - perfect class separation, no way this is real\n",
      "  • Down/Up Ratio - perfect class separation, no way this is real\n",
      "  • Fwd Act Data Pkts - perfect class separation, no way this is real\n",
      "  • Bwd Pkt Len Min - perfect class separation, no way this is real\n",
      "  • Fwd Pkt Len Min - perfect class separation, no way this is real\n",
      "  • Protocol - perfect class separation, no way this is real\n",
      "  • Tot Fwd Pkts - perfect class separation, no way this is real\n",
      "  • Subflow Bwd Pkts - perfect class separation, no way this is real\n",
      "  • ECE Flag Cnt - perfect class separation, no way this is real\n",
      "  • RST Flag Cnt - perfect class separation, no way this is real\n",
      "  • SYN Flag Cnt - perfect class separation, no way this is real\n",
      "  • Bwd Pkt Len Max - perfect class separation, no way this is real\n",
      "  • Fwd Seg Size Min - perfect class separation, no way this is real\n",
      "  • Tot Bwd Pkts - perfect class separation, no way this is real\n",
      "\n",
      "The suspicious ones:\n",
      "  • Bwd IAT Std - way too correlated, probably engineered\n",
      "  • Flow Byts/s - way too correlated, probably engineered\n",
      "  • PSH Flag Cnt - way too correlated, probably engineered\n",
      "  • Bwd IAT Tot - way too correlated, probably engineered\n",
      "  • Flow IAT Mean - way too correlated, probably engineered\n",
      "  • Pkt Len Mean - way too correlated, probably engineered\n",
      "  • Active Max - way too correlated, probably engineered\n",
      "  • Bwd Pkt Len Mean - way too correlated, probably engineered\n",
      "  • Pkt Size Avg - way too correlated, probably engineered\n",
      "  • FIN Flag Cnt - way too correlated, probably engineered\n",
      "  • Subflow Bwd Byts - way too correlated, probably engineered\n",
      "  • Init Fwd Win Byts - way too correlated, probably engineered\n",
      "  • Flow Duration - way too correlated, probably engineered\n",
      "  • Bwd Seg Size Avg - way too correlated, probably engineered\n",
      "  • Bwd IAT Mean - way too correlated, probably engineered\n",
      "  • Active Min - way too correlated, probably engineered\n",
      "  • Bwd Pkt Len Std - way too correlated, probably engineered\n",
      "  • Init Bwd Win Byts - way too correlated, probably engineered\n",
      "  • ACK Flag Cnt - way too correlated, probably engineered\n",
      "  • Dst Port - way too correlated, probably engineered\n",
      "  • Active Mean - way too correlated, probably engineered\n",
      "  • Bwd IAT Min - way too correlated, probably engineered\n",
      "  • URG Flag Cnt - way too correlated, probably engineered\n",
      "  • Bwd Header Len - way too correlated, probably engineered\n",
      "  • Bwd IAT Max - way too correlated, probably engineered\n",
      "  • Fwd Pkts/s - way too correlated, probably engineered\n",
      "  • TotLen Bwd Pkts - way too correlated, probably engineered\n",
      "  • Flow Pkts/s - way too correlated, probably engineered\n",
      "Automatically removing 44 problematic features:\n",
      "  • Fwd PSH Flags\n",
      "  • Pkt Len Min\n",
      "  • Subflow Fwd Pkts\n",
      "  • Down/Up Ratio\n",
      "  • Fwd Act Data Pkts\n",
      "  • Bwd Pkt Len Min\n",
      "  • Fwd Pkt Len Min\n",
      "  • Protocol\n",
      "  • Tot Fwd Pkts\n",
      "  • Subflow Bwd Pkts\n",
      "  • ECE Flag Cnt\n",
      "  • RST Flag Cnt\n",
      "  • SYN Flag Cnt\n",
      "  • Bwd Pkt Len Max\n",
      "  • Fwd Seg Size Min\n",
      "  • Tot Bwd Pkts\n",
      "  • Bwd IAT Std\n",
      "  • Flow Byts/s\n",
      "  • PSH Flag Cnt\n",
      "  • Bwd IAT Tot\n",
      "  • Flow IAT Mean\n",
      "  • Pkt Len Mean\n",
      "  • Active Max\n",
      "  • Bwd Pkt Len Mean\n",
      "  • Pkt Size Avg\n",
      "  • FIN Flag Cnt\n",
      "  • Subflow Bwd Byts\n",
      "  • Init Fwd Win Byts\n",
      "  • Flow Duration\n",
      "  • Bwd Seg Size Avg\n",
      "  • Bwd IAT Mean\n",
      "  • Active Min\n",
      "  • Bwd Pkt Len Std\n",
      "  • Init Bwd Win Byts\n",
      "  • ACK Flag Cnt\n",
      "  • Dst Port\n",
      "  • Active Mean\n",
      "  • Bwd IAT Min\n",
      "  • URG Flag Cnt\n",
      "  • Bwd Header Len\n",
      "  • Bwd IAT Max\n",
      "  • Fwd Pkts/s\n",
      "  • TotLen Bwd Pkts\n",
      "  • Flow Pkts/s\n"
     ]
    }
   ],
   "source": [
    "# Let's make our final feature selection\n",
    "features_to_remove, clean_features = create_final_feature_list(\n",
    "    leaky_features, suspicious_features, X_train\n",
    ")"
   ]
  },
  {
   "cell_type": "markdown",
   "id": "5dd2c7d8",
   "metadata": {
    "id": "5dd2c7d8"
   },
   "source": [
    "### 7.2 Building Our Clean Dataset\n",
    "Now comes the moment of truth - actually removing all those problematic features and seeing what we're left with. Honestly, I'm a bit nervous about this because we're removing A LOT of features. But better to have fewer features that actually work than many that don't."
   ]
  },
  {
   "cell_type": "code",
   "execution_count": 47,
   "id": "e49f4176",
   "metadata": {
    "executionInfo": {
     "elapsed": 3,
     "status": "ok",
     "timestamp": 1748190190599,
     "user": {
      "displayName": "Abdulrhman AL_Atassi",
      "userId": "14798570780685770289"
     },
     "user_tz": -180
    },
    "id": "e49f4176"
   },
   "outputs": [],
   "source": [
    "def create_clean_dataset(df_clean, features_to_remove):\n",
    "    \"\"\"\n",
    "    Creating our final dataset - this is what we'll actually use for training.\n",
    "    No more leaky features, just honest network measurements.\n",
    "    \"\"\"\n",
    "    print(\"Time to clean house and remove all the problematic features...\")\n",
    "\n",
    "    original_shape = df_clean.shape\n",
    "    print(f\"Starting with: {original_shape}\")\n",
    "\n",
    "    # Remove the features we identified as problematic\n",
    "    # (Only remove features that actually exist in our dataset)\n",
    "    features_actually_removed = [f for f in features_to_remove if f in df_clean.columns]\n",
    "    df_final_clean = df_clean.drop(features_actually_removed, axis=1)\n",
    "\n",
    "    print(f\"Removed {len(features_actually_removed)} problematic features\")\n",
    "    print(f\"Final shape: {df_final_clean.shape}\")\n",
    "\n",
    "    # Let's see what we ended up with\n",
    "    remaining_features = [col for col in df_final_clean.columns if col != 'Label']\n",
    "\n",
    "    print(f\"\\nFINAL CLEAN FEATURES ({len(remaining_features)}):\")\n",
    "    for feature in remaining_features:\n",
    "        print(f\"  - {feature}\")\n",
    "\n",
    "    # Show final class distribution\n",
    "    print(f\"\\nFinal dataset class distribution:\")\n",
    "    class_dist = df_final_clean['Label'].value_counts()\n",
    "    for label, count in class_dist.items():\n",
    "        pct = (count / len(df_final_clean)) * 100\n",
    "        print(f\"  {label}: {count:,} samples ({pct:.1f}%)\")\n",
    "\n",
    "    return df_final_clean"
   ]
  },
  {
   "cell_type": "code",
   "execution_count": 48,
   "id": "db18ff64",
   "metadata": {
    "colab": {
     "base_uri": "https://localhost:8080/"
    },
    "executionInfo": {
     "elapsed": 164,
     "status": "ok",
     "timestamp": 1748190190764,
     "user": {
      "displayName": "Abdulrhman AL_Atassi",
      "userId": "14798570780685770289"
     },
     "user_tz": -180
    },
    "id": "db18ff64",
    "outputId": "35f85c20-9c48-4732-fac8-4885067adff4"
   },
   "outputs": [
    {
     "name": "stdout",
     "output_type": "stream",
     "text": [
      "Time to clean house and remove all the problematic features...\n",
      "Starting with: (1266709, 79)\n",
      "Removed 44 problematic features\n",
      "Final shape: (1266709, 35)\n",
      "\n",
      "FINAL CLEAN FEATURES (34):\n",
      "  - TotLen Fwd Pkts\n",
      "  - Fwd Pkt Len Max\n",
      "  - Fwd Pkt Len Mean\n",
      "  - Fwd Pkt Len Std\n",
      "  - Flow IAT Std\n",
      "  - Flow IAT Max\n",
      "  - Flow IAT Min\n",
      "  - Fwd IAT Tot\n",
      "  - Fwd IAT Mean\n",
      "  - Fwd IAT Std\n",
      "  - Fwd IAT Max\n",
      "  - Fwd IAT Min\n",
      "  - Bwd PSH Flags\n",
      "  - Fwd URG Flags\n",
      "  - Bwd URG Flags\n",
      "  - Fwd Header Len\n",
      "  - Bwd Pkts/s\n",
      "  - Pkt Len Max\n",
      "  - Pkt Len Std\n",
      "  - Pkt Len Var\n",
      "  - CWE Flag Count\n",
      "  - Fwd Seg Size Avg\n",
      "  - Fwd Byts/b Avg\n",
      "  - Fwd Pkts/b Avg\n",
      "  - Fwd Blk Rate Avg\n",
      "  - Bwd Byts/b Avg\n",
      "  - Bwd Pkts/b Avg\n",
      "  - Bwd Blk Rate Avg\n",
      "  - Subflow Fwd Byts\n",
      "  - Active Std\n",
      "  - Idle Mean\n",
      "  - Idle Std\n",
      "  - Idle Max\n",
      "  - Idle Min\n",
      "\n",
      "Final dataset class distribution:\n",
      "  Benign: 1,027,360 samples (81.1%)\n",
      "  DoS: 145,254 samples (11.5%)\n",
      "  BruteForce: 94,095 samples (7.4%)\n"
     ]
    }
   ],
   "source": [
    "# Create the clean dataset\n",
    "df_final_clean = create_clean_dataset(df_clean, features_to_remove)"
   ]
  },
  {
   "cell_type": "code",
   "execution_count": 49,
   "id": "4681fd15",
   "metadata": {
    "executionInfo": {
     "elapsed": 5,
     "status": "ok",
     "timestamp": 1748190190764,
     "user": {
      "displayName": "Abdulrhman AL_Atassi",
      "userId": "14798570780685770289"
     },
     "user_tz": -180
    },
    "id": "4681fd15"
   },
   "outputs": [],
   "source": [
    "def detect_high_importance_leaky_features(X_train, y_train, existing_problematic):\n",
    "    \"\"\"Detect additional leaky features through feature importance\"\"\"\n",
    "    print(\"Method 5: High feature importance detection...\")\n",
    "\n",
    "    # Train RF to get feature importance\n",
    "    rf = RandomForestClassifier(n_estimators=50, random_state=RANDOM_STATE)\n",
    "    rf.fit(X_train, y_train)\n",
    "\n",
    "    # Get feature importance\n",
    "    feature_importance = pd.DataFrame({\n",
    "        'feature': X_train.columns,\n",
    "        'importance': rf.feature_importances_\n",
    "    }).sort_values('importance', ascending=False)\n",
    "\n",
    "    # Features with suspiciously high importance (top 20%)\n",
    "    n_top = max(5, int(len(X_train.columns) * 0.2))\n",
    "    high_importance_features = feature_importance.head(n_top)['feature'].tolist()\n",
    "\n",
    "    # Only add features not already detected\n",
    "    new_suspicious = [f for f in high_importance_features\n",
    "                     if f not in existing_problematic]\n",
    "\n",
    "    for feature in new_suspicious:\n",
    "        importance = feature_importance[feature_importance['feature'] == feature]['importance'].iloc[0]\n",
    "        print(f\"⚠️  SUSPICIOUS (high importance): {feature} (importance={importance:.4f})\")\n",
    "\n",
    "    return new_suspicious"
   ]
  },
  {
   "cell_type": "code",
   "execution_count": 50,
   "id": "9f919317",
   "metadata": {
    "colab": {
     "base_uri": "https://localhost:8080/"
    },
    "executionInfo": {
     "elapsed": 108624,
     "status": "ok",
     "timestamp": 1748190299386,
     "user": {
      "displayName": "Abdulrhman AL_Atassi",
      "userId": "14798570780685770289"
     },
     "user_tz": -180
    },
    "id": "9f919317",
    "outputId": "0826db49-442c-4086-f5fe-805376eba0ce"
   },
   "outputs": [
    {
     "name": "stdout",
     "output_type": "stream",
     "text": [
      "Method 5: High feature importance detection...\n",
      "⚠️  SUSPICIOUS (high importance): Fwd Header Len (importance=0.0794)\n",
      "⚠️  SUSPICIOUS (high importance): Fwd IAT Min (importance=0.0547)\n",
      "⚠️  SUSPICIOUS (high importance): Flow IAT Min (importance=0.0521)\n",
      "⚠️  SUSPICIOUS (high importance): TotLen Fwd Pkts (importance=0.0407)\n",
      "⚠️  SUSPICIOUS (high importance): Fwd IAT Tot (importance=0.0323)\n",
      "⚠️  SUSPICIOUS (high importance): Fwd IAT Mean (importance=0.0301)\n",
      "⚠️  SUSPICIOUS (high importance): Pkt Len Max (importance=0.0281)\n",
      "⚠️  SUSPICIOUS (high importance): Flow IAT Max (importance=0.0270)\n",
      "⚠️  SUSPICIOUS (high importance): Subflow Fwd Byts (importance=0.0265)\n"
     ]
    }
   ],
   "source": [
    "additional_suspicious = detect_high_importance_leaky_features(\n",
    "    X_train, y_train, features_to_remove\n",
    ")"
   ]
  },
  {
   "cell_type": "code",
   "execution_count": 51,
   "id": "0c46c54a",
   "metadata": {
    "executionInfo": {
     "elapsed": 22,
     "status": "ok",
     "timestamp": 1748190299388,
     "user": {
      "displayName": "Abdulrhman AL_Atassi",
      "userId": "14798570780685770289"
     },
     "user_tz": -180
    },
    "id": "0c46c54a"
   },
   "outputs": [],
   "source": [
    "features_to_remove = features_to_remove + additional_suspicious"
   ]
  },
  {
   "cell_type": "code",
   "execution_count": 52,
   "id": "45ac5b1c",
   "metadata": {
    "colab": {
     "base_uri": "https://localhost:8080/"
    },
    "executionInfo": {
     "elapsed": 83,
     "status": "ok",
     "timestamp": 1748190299460,
     "user": {
      "displayName": "Abdulrhman AL_Atassi",
      "userId": "14798570780685770289"
     },
     "user_tz": -180
    },
    "id": "45ac5b1c",
    "outputId": "5b3b26f6-0418-49f4-afa1-2ed6c7c90590"
   },
   "outputs": [
    {
     "name": "stdout",
     "output_type": "stream",
     "text": [
      "Time to clean house and remove all the problematic features...\n",
      "Starting with: (1266709, 35)\n",
      "Removed 9 problematic features\n",
      "Final shape: (1266709, 26)\n",
      "\n",
      "FINAL CLEAN FEATURES (25):\n",
      "  - Fwd Pkt Len Max\n",
      "  - Fwd Pkt Len Mean\n",
      "  - Fwd Pkt Len Std\n",
      "  - Flow IAT Std\n",
      "  - Fwd IAT Std\n",
      "  - Fwd IAT Max\n",
      "  - Bwd PSH Flags\n",
      "  - Fwd URG Flags\n",
      "  - Bwd URG Flags\n",
      "  - Bwd Pkts/s\n",
      "  - Pkt Len Std\n",
      "  - Pkt Len Var\n",
      "  - CWE Flag Count\n",
      "  - Fwd Seg Size Avg\n",
      "  - Fwd Byts/b Avg\n",
      "  - Fwd Pkts/b Avg\n",
      "  - Fwd Blk Rate Avg\n",
      "  - Bwd Byts/b Avg\n",
      "  - Bwd Pkts/b Avg\n",
      "  - Bwd Blk Rate Avg\n",
      "  - Active Std\n",
      "  - Idle Mean\n",
      "  - Idle Std\n",
      "  - Idle Max\n",
      "  - Idle Min\n",
      "\n",
      "Final dataset class distribution:\n",
      "  Benign: 1,027,360 samples (81.1%)\n",
      "  DoS: 145,254 samples (11.5%)\n",
      "  BruteForce: 94,095 samples (7.4%)\n"
     ]
    }
   ],
   "source": [
    "df_final_clean = create_clean_dataset(df_final_clean, features_to_remove)"
   ]
  },
  {
   "cell_type": "code",
   "execution_count": 53,
   "id": "faea15a4",
   "metadata": {
    "colab": {
     "base_uri": "https://localhost:8080/"
    },
    "executionInfo": {
     "elapsed": 57,
     "status": "ok",
     "timestamp": 1748190299518,
     "user": {
      "displayName": "Abdulrhman AL_Atassi",
      "userId": "14798570780685770289"
     },
     "user_tz": -180
    },
    "id": "faea15a4",
    "outputId": "66d06a9e-0852-45f8-9c21-46bc93539cce"
   },
   "outputs": [
    {
     "name": "stdout",
     "output_type": "stream",
     "text": [
      "<class 'pandas.core.frame.DataFrame'>\n",
      "Index: 1266709 entries, 0 to 2097148\n",
      "Data columns (total 26 columns):\n",
      " #   Column            Non-Null Count    Dtype  \n",
      "---  ------            --------------    -----  \n",
      " 0   Fwd Pkt Len Max   1266709 non-null  int64  \n",
      " 1   Fwd Pkt Len Mean  1266709 non-null  float64\n",
      " 2   Fwd Pkt Len Std   1266709 non-null  float64\n",
      " 3   Flow IAT Std      1266709 non-null  float64\n",
      " 4   Fwd IAT Std       1266709 non-null  float64\n",
      " 5   Fwd IAT Max       1266709 non-null  int64  \n",
      " 6   Bwd PSH Flags     1266709 non-null  int64  \n",
      " 7   Fwd URG Flags     1266709 non-null  int64  \n",
      " 8   Bwd URG Flags     1266709 non-null  int64  \n",
      " 9   Bwd Pkts/s        1266709 non-null  float64\n",
      " 10  Pkt Len Std       1266709 non-null  float64\n",
      " 11  Pkt Len Var       1266709 non-null  float64\n",
      " 12  CWE Flag Count    1266709 non-null  int64  \n",
      " 13  Fwd Seg Size Avg  1266709 non-null  float64\n",
      " 14  Fwd Byts/b Avg    1266709 non-null  int64  \n",
      " 15  Fwd Pkts/b Avg    1266709 non-null  int64  \n",
      " 16  Fwd Blk Rate Avg  1266709 non-null  int64  \n",
      " 17  Bwd Byts/b Avg    1266709 non-null  int64  \n",
      " 18  Bwd Pkts/b Avg    1266709 non-null  int64  \n",
      " 19  Bwd Blk Rate Avg  1266709 non-null  int64  \n",
      " 20  Active Std        1266709 non-null  float64\n",
      " 21  Idle Mean         1266709 non-null  float64\n",
      " 22  Idle Std          1266709 non-null  float64\n",
      " 23  Idle Max          1266709 non-null  int64  \n",
      " 24  Idle Min          1266709 non-null  int64  \n",
      " 25  Label             1266709 non-null  object \n",
      "dtypes: float64(11), int64(14), object(1)\n",
      "memory usage: 260.9+ MB\n"
     ]
    }
   ],
   "source": [
    "df_final_clean.info()"
   ]
  },
  {
   "cell_type": "markdown",
   "id": "277fc54c",
   "metadata": {
    "id": "277fc54c"
   },
   "source": [
    "---\n",
    "## 8. Model Training and Evaluation <a class=\"anchor\" id=\"model-training\"></a>\n",
    "\n",
    "### 8.1 Proper Train-Test Split\n",
    "\n",
    "**CRITICAL PRINCIPLE**: Split ONCE and stick to it. Never do feature engineering on the full dataset."
   ]
  },
  {
   "cell_type": "code",
   "execution_count": 54,
   "id": "ed8db99a",
   "metadata": {
    "executionInfo": {
     "elapsed": 3,
     "status": "ok",
     "timestamp": 1748190299522,
     "user": {
      "displayName": "Abdulrhman AL_Atassi",
      "userId": "14798570780685770289"
     },
     "user_tz": -180
    },
    "id": "ed8db99a"
   },
   "outputs": [],
   "source": [
    "def create_proper_train_test_split(df_final_clean):\n",
    "    # 1️  Build X and y (binary)\n",
    "    X = get_features(df_final_clean, target_column=\"Label\")  # not label_col\n",
    "    y = make_binary_labels(df_final_clean, normal_label=\"Benign\", target_column=\"Label\")\n",
    "\n",
    "    print(f\"Total samples: {len(X)}\")\n",
    "    print(f\"Features: {X.shape[1]}\")\n",
    "\n",
    "    # Check class balance\n",
    "    benign_count = (y == 0).sum()\n",
    "    attack_count = (y == 1).sum()\n",
    "    print(f\"Benign: {benign_count:,} ({benign_count/len(y)*100:.1f}%)\")\n",
    "    print(f\"Attack: {attack_count:,} ({attack_count/len(y)*100:.1f}%)\")\n",
    "\n",
    "    # Stratified train-test split\n",
    "    X_train_clean, X_test_clean, y_train_clean, y_test_clean = train_test_split(\n",
    "        X, y,\n",
    "        test_size=0.2,           # 80% train, 20% test\n",
    "        stratify=y,              # Maintain class balance\n",
    "        random_state=RANDOM_STATE,\n",
    "        shuffle=True\n",
    "    )\n",
    "\n",
    "    print(f\"\\nAfter split:\")\n",
    "    print(f\"Training set: {X_train_clean.shape[0]:,} samples\")\n",
    "    print(f\"Test set: {X_test_clean.shape[0]:,} samples\")\n",
    "\n",
    "    # Verify stratification worked\n",
    "    print(f\"\\nClass balance verification:\")\n",
    "    print(f\"Train - Benign: {(y_train_clean == 0).mean()*100:.1f}%, Attack: {(y_train_clean == 1).mean()*100:.1f}%\")\n",
    "    print(f\"Test  - Benign: {(y_test_clean == 0).mean()*100:.1f}%, Attack: {(y_test_clean == 1).mean()*100:.1f}%\")\n",
    "\n",
    "    return X_train_clean, X_test_clean, y_train_clean, y_test_clean\n",
    "\n",
    "# Create proper split"
   ]
  },
  {
   "cell_type": "code",
   "execution_count": 55,
   "id": "451086b4",
   "metadata": {
    "colab": {
     "base_uri": "https://localhost:8080/"
    },
    "executionInfo": {
     "elapsed": 626,
     "status": "ok",
     "timestamp": 1748190300150,
     "user": {
      "displayName": "Abdulrhman AL_Atassi",
      "userId": "14798570780685770289"
     },
     "user_tz": -180
    },
    "id": "451086b4",
    "outputId": "15f01d8f-39ea-475f-fa2f-226ecafb0554"
   },
   "outputs": [
    {
     "name": "stdout",
     "output_type": "stream",
     "text": [
      "Total samples: 1266709\n",
      "Features: 25\n",
      "Benign: 1,027,360 (81.1%)\n",
      "Attack: 239,349 (18.9%)\n",
      "\n",
      "After split:\n",
      "Training set: 1,013,367 samples\n",
      "Test set: 253,342 samples\n",
      "\n",
      "Class balance verification:\n",
      "Train - Benign: 81.1%, Attack: 18.9%\n",
      "Test  - Benign: 81.1%, Attack: 18.9%\n"
     ]
    }
   ],
   "source": [
    "# Make our sacred split\n",
    "X_train_final, X_test_final, y_train_final, y_test_final = create_proper_train_test_split(df_final_clean)"
   ]
  },
  {
   "cell_type": "markdown",
   "id": "b3ade495",
   "metadata": {
    "id": "b3ade495"
   },
   "source": [
    "### 8.2 Class Imbalance Handling\n",
    "\n",
    "**REALISTIC APPROACH**: Handle class imbalance carefully to avoid creating artificial patterns.\n",
    "\n",
    "Our data has way more benign traffic than attacks, which is realistic but can cause problems. Let's fix this carefully:\n"
   ]
  },
  {
   "cell_type": "code",
   "execution_count": 56,
   "id": "d42ddb42",
   "metadata": {
    "executionInfo": {
     "elapsed": 4,
     "status": "ok",
     "timestamp": 1748190300156,
     "user": {
      "displayName": "Abdulrhman AL_Atassi",
      "userId": "14798570780685770289"
     },
     "user_tz": -180
    },
    "id": "d42ddb42"
   },
   "outputs": [],
   "source": [
    "def handle_class_imbalance(X_train, y_train):\n",
    "    \"\"\"\n",
    "    Using SMOTE to balance our classes, but being conservative about it\n",
    "\n",
    "    Why conservative?\n",
    "    1. Too much synthetic data can create new patterns that don't exist in reality\n",
    "    2. Limited oversampling prevents the model from memorizing synthetic patterns\n",
    "    3. We want to improve balance without losing realism\n",
    "    \"\"\"\n",
    "\n",
    "    original_counts = pd.Series(y_train).value_counts()\n",
    "    print(f\"Before balancing:\")\n",
    "    print(f\"  Benign: {original_counts[0]:,}\")\n",
    "    print(f\"  Attack: {original_counts[1]:,}\")\n",
    "\n",
    "    # Calculate conservative oversampling target\n",
    "    minority_count = original_counts[1]  # Attack class\n",
    "    majority_count = original_counts[0]  # Benign class\n",
    "\n",
    "    # Don't oversample beyond 2x the original minority class\n",
    "    # This prevents creating too many synthetic samples\n",
    "    target_minority = min(majority_count, minority_count * 2)\n",
    "\n",
    "    print(f\"\\nSMOTE configuration:\")\n",
    "    print(f\"  Target minority class samples: {target_minority:,}\")\n",
    "    print(f\"  Oversampling ratio: {target_minority / minority_count:.1f}x\")\n",
    "\n",
    "    try:\n",
    "        smote = SMOTE(\n",
    "            sampling_strategy={1: target_minority},  # Only oversample minority class\n",
    "            random_state=RANDOM_STATE,\n",
    "            k_neighbors=5  # Conservative number of neighbors\n",
    "        )\n",
    "\n",
    "        X_train_balanced, y_train_balanced = smote.fit_resample(X_train, y_train)\n",
    "\n",
    "        balanced_counts = pd.Series(y_train_balanced).value_counts()\n",
    "        print(f\"\\nAfter SMOTE:\")\n",
    "        print(f\"  Benign: {balanced_counts[0]:,}\")\n",
    "        print(f\"  Attack: {balanced_counts[1]:,}\")\n",
    "\n",
    "\n",
    "\n",
    "        print(\"Class balancing successful!\")\n",
    "\n",
    "    except Exception as e:\n",
    "        print(f\"SMOTE failed: {e}\")\n",
    "        print(\"Using original imbalanced data\")\n",
    "        X_train_balanced = X_train\n",
    "        y_train_balanced = y_train\n",
    "\n",
    "    return X_train_balanced, y_train_balanced"
   ]
  },
  {
   "cell_type": "code",
   "execution_count": 57,
   "id": "f816ea39",
   "metadata": {
    "colab": {
     "base_uri": "https://localhost:8080/"
    },
    "executionInfo": {
     "elapsed": 163555,
     "status": "ok",
     "timestamp": 1748190463752,
     "user": {
      "displayName": "Abdulrhman AL_Atassi",
      "userId": "14798570780685770289"
     },
     "user_tz": -180
    },
    "id": "f816ea39",
    "outputId": "5a58a70a-e939-47fa-eb34-6c74f9619a2f"
   },
   "outputs": [
    {
     "name": "stdout",
     "output_type": "stream",
     "text": [
      "Before balancing:\n",
      "  Benign: 821,888\n",
      "  Attack: 191,479\n",
      "\n",
      "SMOTE configuration:\n",
      "  Target minority class samples: 382,958\n",
      "  Oversampling ratio: 2.0x\n"
     ]
    },
    {
     "name": "stderr",
     "output_type": "stream",
     "text": [
      "c:\\Users\\ThinkPad\\anaconda3\\Lib\\site-packages\\joblib\\externals\\loky\\backend\\context.py:136: UserWarning: Could not find the number of physical cores for the following reason:\n",
      "[WinError 2] The system cannot find the file specified\n",
      "Returning the number of logical cores instead. You can silence this warning by setting LOKY_MAX_CPU_COUNT to the number of cores you want to use.\n",
      "  warnings.warn(\n",
      "  File \"c:\\Users\\ThinkPad\\anaconda3\\Lib\\site-packages\\joblib\\externals\\loky\\backend\\context.py\", line 257, in _count_physical_cores\n",
      "    cpu_info = subprocess.run(\n",
      "               ^^^^^^^^^^^^^^^\n",
      "  File \"c:\\Users\\ThinkPad\\anaconda3\\Lib\\subprocess.py\", line 548, in run\n",
      "    with Popen(*popenargs, **kwargs) as process:\n",
      "         ^^^^^^^^^^^^^^^^^^^^^^^^^^^\n",
      "  File \"c:\\Users\\ThinkPad\\anaconda3\\Lib\\subprocess.py\", line 1026, in __init__\n",
      "    self._execute_child(args, executable, preexec_fn, close_fds,\n",
      "  File \"c:\\Users\\ThinkPad\\anaconda3\\Lib\\subprocess.py\", line 1538, in _execute_child\n",
      "    hp, ht, pid, tid = _winapi.CreateProcess(executable, args,\n",
      "                       ^^^^^^^^^^^^^^^^^^^^^^^^^^^^^^^^^^^^^^^\n"
     ]
    },
    {
     "name": "stdout",
     "output_type": "stream",
     "text": [
      "\n",
      "After SMOTE:\n",
      "  Benign: 821,888\n",
      "  Attack: 382,958\n",
      "Class balancing successful!\n"
     ]
    }
   ],
   "source": [
    "# Balance our classes\n",
    "X_train_balanced, y_train_balanced = handle_class_imbalance(X_train_final, y_train_final)"
   ]
  },
  {
   "cell_type": "markdown",
   "id": "2bc74ea3",
   "metadata": {
    "id": "2bc74ea3"
   },
   "source": [
    "### 8.3 Feature Scaling\n",
    "\n",
    "**PROPER SCALING**: Scale features using training data statistics only."
   ]
  },
  {
   "cell_type": "code",
   "execution_count": 58,
   "id": "8c095010",
   "metadata": {
    "executionInfo": {
     "elapsed": 29,
     "status": "ok",
     "timestamp": 1748190463756,
     "user": {
      "displayName": "Abdulrhman AL_Atassi",
      "userId": "14798570780685770289"
     },
     "user_tz": -180
    },
    "id": "8c095010"
   },
   "outputs": [],
   "source": [
    "def scale_features_properly(X_train_balanced, X_test):\n",
    "\n",
    "    print(f\"Training data: {X_train_balanced.shape}\")\n",
    "    print(f\"Test data: {X_test.shape}\")\n",
    "\n",
    "    # Fit scaler on training data only\n",
    "    scaler = StandardScaler()\n",
    "    X_train_scaled = scaler.fit_transform(X_train_balanced)\n",
    "\n",
    "    # Apply same scaling to test data\n",
    "    X_test_scaled = scaler.transform(X_test)\n",
    "\n",
    "    # Show some examples\n",
    "    print(f\"Scaling examples (calculated from training data only):\")\n",
    "    feature_names = X_test.columns if hasattr(X_test, 'columns') else [f\"Feature_{i}\" for i in range(X_test.shape[1])]\n",
    "\n",
    "    for i, feature_name in enumerate(list(feature_names)[:5]):\n",
    "        mean_val = scaler.mean_[i]\n",
    "        scale_val = scaler.scale_[i]\n",
    "        print(f\"  {feature_name}: mean={mean_val:.3f}, scale={scale_val:.3f}\")\n",
    "\n",
    "    if len(feature_names) > 5:\n",
    "        print(f\"  ... and {len(feature_names) - 5} more features\")\n",
    "\n",
    "    return X_train_scaled, X_test_scaled, scaler"
   ]
  },
  {
   "cell_type": "code",
   "execution_count": 59,
   "id": "b522138f",
   "metadata": {
    "colab": {
     "base_uri": "https://localhost:8080/"
    },
    "executionInfo": {
     "elapsed": 290,
     "status": "ok",
     "timestamp": 1748190464038,
     "user": {
      "displayName": "Abdulrhman AL_Atassi",
      "userId": "14798570780685770289"
     },
     "user_tz": -180
    },
    "id": "b522138f",
    "outputId": "df019175-f9f3-487d-bdd6-c8e12b9d78de"
   },
   "outputs": [
    {
     "name": "stdout",
     "output_type": "stream",
     "text": [
      "Training data: (1204846, 25)\n",
      "Test data: (253342, 25)\n",
      "Scaling examples (calculated from training data only):\n",
      "  Fwd Pkt Len Max: mean=446.433, scale=409.174\n",
      "  Fwd Pkt Len Mean: mean=89.893, scale=79.200\n",
      "  Fwd Pkt Len Std: mean=173.158, scale=176.383\n",
      "  Flow IAT Std: mean=2333675.806, scale=684088214.431\n",
      "  Fwd IAT Std: mean=2609500.142, scale=684091480.877\n",
      "  ... and 20 more features\n"
     ]
    }
   ],
   "source": [
    "\n",
    "# Scale our features\n",
    "X_train_scaled, X_test_scaled, our_scaler = scale_features_properly(X_train_balanced, X_test_final)"
   ]
  },
  {
   "cell_type": "markdown",
   "id": "e792a42e",
   "metadata": {
    "id": "e792a42e"
   },
   "source": [
    "### 8.4 Model Configuration\n",
    "\n",
    "**CONSERVATIVE MODELS**: Configure models to prevent overfitting and provide realistic performance."
   ]
  },
  {
   "cell_type": "code",
   "execution_count": 74,
   "id": "6449f147",
   "metadata": {
    "executionInfo": {
     "elapsed": 6,
     "status": "ok",
     "timestamp": 1748190464040,
     "user": {
      "displayName": "Abdulrhman AL_Atassi",
      "userId": "14798570780685770289"
     },
     "user_tz": -180
    },
    "id": "6449f147"
   },
   "outputs": [],
   "source": [
    "def setup_conservative_models():\n",
    "    \"\"\"\n",
    "    Setting up models that won't overfit\n",
    "\n",
    "    I'm making these models \"weaker\" than usual because I want them to\n",
    "    generalize well, not memorize training patterns\n",
    "    \"\"\"\n",
    "\n",
    "    models = {\n",
    "        'Conservative Random Forest': {\n",
    "            'model': RandomForestClassifier(\n",
    "                n_estimators=50,          # Not too many trees\n",
    "                max_depth=4,              # Shallow trees\n",
    "                min_samples_split=50,     # Need lots of samples to split\n",
    "                min_samples_leaf=25,      # Need lots of samples in leaves\n",
    "                max_features='sqrt',      # Use subset of features\n",
    "                class_weight='balanced',\n",
    "                random_state=RANDOM_STATE,\n",
    "                n_jobs=-1\n",
    "            ),\n",
    "        },\n",
    "        \n",
    "        'Regularized Logistic Regression': {\n",
    "            'model': LogisticRegression(\n",
    "                C=0.01,                   # Strong regularization\n",
    "                max_iter=1000,\n",
    "                class_weight='balanced',\n",
    "                solver='liblinear',\n",
    "                random_state=RANDOM_STATE\n",
    "            ),\n",
    "        },\n",
    "        \n",
    "        'Conservative Gradient Boosting': {\n",
    "            'model': GradientBoostingClassifier(\n",
    "                n_estimators=50,          # Limited boosting rounds\n",
    "                max_depth=3,              # Very shallow trees\n",
    "                learning_rate=0.05,       # Slow learning to prevent overfitting\n",
    "                min_samples_split=100,    # Conservative splitting\n",
    "                min_samples_leaf=50,      # Large leaves\n",
    "                subsample=0.8,            # Use subset of data\n",
    "                random_state=RANDOM_STATE\n",
    "            ),\n",
    "        },\n",
    "        \n",
    "        # 'Regularized SVM': {\n",
    "        #     'model': SVC(\n",
    "        #         C=0.1,                    # Strong regularization\n",
    "        #         kernel='rbf',             # RBF kernel for non-linear patterns\n",
    "        #         gamma='scale',            # Automatic gamma scaling\n",
    "        #         class_weight='balanced',\n",
    "        #         probability=True,         # Enable probability estimates\n",
    "        #         random_state=RANDOM_STATE\n",
    "        #     ),\n",
    "        # },\n",
    "        \n",
    "        'Conservative Extra Trees': {\n",
    "            'model': ExtraTreesClassifier(\n",
    "                n_estimators=50,          # Limited trees\n",
    "                max_depth=4,              # Shallow depth\n",
    "                min_samples_split=50,     # Conservative splitting\n",
    "                min_samples_leaf=25,      # Large leaves\n",
    "                max_features='sqrt',      # Feature subsampling\n",
    "                class_weight='balanced',\n",
    "                random_state=RANDOM_STATE,\n",
    "                n_jobs=-1\n",
    "            ),\n",
    "        },\n",
    "        \n",
    "        'K-Nearest Neighbors': {\n",
    "            'model': KNeighborsClassifier(\n",
    "                n_neighbors=7,            # Slightly higher K for stability\n",
    "                weights='distance',       # Distance-weighted voting\n",
    "                metric='euclidean',       # Standard distance metric\n",
    "                n_jobs=-1\n",
    "            ),\n",
    "        },\n",
    "        \n",
    "        'Conservative AdaBoost': {\n",
    "            'model': AdaBoostClassifier(\n",
    "                n_estimators=30,          # Limited boosting rounds\n",
    "                learning_rate=0.5,        # Moderate learning rate\n",
    "                algorithm='SAMME.R',      # Better for probability estimates\n",
    "                random_state=RANDOM_STATE\n",
    "            ),\n",
    "        },\"lightgbm\":{\n",
    "            'model': LGBMClassifier(\n",
    "                n_estimators=300,\n",
    "                learning_rate=0.05,\n",
    "                max_depth=-1,\n",
    "                num_leaves=64,\n",
    "                subsample=0.8,\n",
    "                colsample_bytree=0.8,\n",
    "                is_unbalance=True,\n",
    "                n_jobs=-1,\n",
    "                random_state=RANDOM_STATE,\n",
    "                ),\n",
    "        },\n",
    "        \"hist_gb\":{ \n",
    "            'model': HistGradientBoostingClassifier(\n",
    "            max_depth=6,\n",
    "            learning_rate=0.05,\n",
    "            l2_regularization=0.1,\n",
    "            class_weight=\"balanced\",\n",
    "            random_state=RANDOM_STATE,\n",
    "        ),},\n",
    "        \n",
    "            \"linear_svm\": {\n",
    "            \"model\": CalibratedClassifierCV(\n",
    "                estimator=LinearSVC(          # ← keyword fixed here\n",
    "                    C=0.5,\n",
    "                    class_weight=\"balanced\",\n",
    "                    max_iter=10_000,\n",
    "                    random_state=RANDOM_STATE,\n",
    "                ),\n",
    "                cv=3,             # 3-fold Platt scaling\n",
    "                method=\"sigmoid\", # or \"isotonic\"\n",
    "                n_jobs=-1,\n",
    "            )\n",
    "        },\n",
    "        }\n",
    "    \n",
    "\n",
    "\n",
    "    return models"
   ]
  },
  {
   "cell_type": "code",
   "execution_count": 75,
   "id": "2f96d3a5",
   "metadata": {
    "executionInfo": {
     "elapsed": 5,
     "status": "ok",
     "timestamp": 1748190464052,
     "user": {
      "displayName": "Abdulrhman AL_Atassi",
      "userId": "14798570780685770289"
     },
     "user_tz": -180
    },
    "id": "2f96d3a5"
   },
   "outputs": [],
   "source": [
    "# Set up our conservative models\n",
    "model_configs = setup_conservative_models()"
   ]
  },
  {
   "cell_type": "markdown",
   "id": "1cf96f8d",
   "metadata": {
    "id": "1cf96f8d"
   },
   "source": [
    "### 8.5 Cross-Validation Setup\n",
    "\n",
    "**PROPER EVALUATION**: Use cross-validation to get reliable performance estimates."
   ]
  },
  {
   "cell_type": "code",
   "execution_count": 76,
   "id": "2dc52700",
   "metadata": {
    "executionInfo": {
     "elapsed": 3,
     "status": "ok",
     "timestamp": 1748190464057,
     "user": {
      "displayName": "Abdulrhman AL_Atassi",
      "userId": "14798570780685770289"
     },
     "user_tz": -180
    },
    "id": "2dc52700"
   },
   "outputs": [],
   "source": [
    "def setup_cross_validation():\n",
    "    \"\"\"\n",
    "    Cross-validation helps estimate performance without touching our test set\n",
    "    \"\"\"\n",
    "\n",
    "    cv_strategy = StratifiedKFold(\n",
    "        n_splits=5,\n",
    "        shuffle=True,\n",
    "        random_state=RANDOM_STATE\n",
    "    )\n",
    "    return cv_strategy"
   ]
  },
  {
   "cell_type": "code",
   "execution_count": 77,
   "id": "b6b59ab1",
   "metadata": {
    "executionInfo": {
     "elapsed": 5,
     "status": "ok",
     "timestamp": 1748190464064,
     "user": {
      "displayName": "Abdulrhman AL_Atassi",
      "userId": "14798570780685770289"
     },
     "user_tz": -180
    },
    "id": "b6b59ab1"
   },
   "outputs": [],
   "source": [
    "# Set up cross-validation\n",
    "cv_strategy = setup_cross_validation()"
   ]
  },
  {
   "cell_type": "markdown",
   "id": "1d15165f",
   "metadata": {
    "id": "1d15165f"
   },
   "source": [
    "### 8.6 Model Training and Evaluation\n",
    "\n",
    "**COMPREHENSIVE EVALUATION**: Train models and evaluate them thoroughly."
   ]
  },
  {
   "cell_type": "code",
   "execution_count": 78,
   "id": "a3e745c2",
   "metadata": {
    "executionInfo": {
     "elapsed": 9,
     "status": "ok",
     "timestamp": 1748190464074,
     "user": {
      "displayName": "Abdulrhman AL_Atassi",
      "userId": "14798570780685770289"
     },
     "user_tz": -180
    },
    "id": "a3e745c2"
   },
   "outputs": [],
   "source": [
    "def train_and_evaluate_models(models, X_train_scaled, y_train_balanced, X_test_scaled, y_test, cv_strategy, clean_features, features_to_remove):\n",
    "    \"\"\"\n",
    "    Train models and perform comprehensive evaluation with final summary\n",
    "    \"\"\"\n",
    "    results = {}\n",
    "    cv = StratifiedKFold(n_splits=5, shuffle=True, random_state=42)\n",
    "\n",
    "    for name, model_config in models.items():\n",
    "        model = model_config['model']\n",
    "        print(f\"\\n{'='*20} {name} {'='*20}\")\n",
    "\n",
    "        # Cross-validation\n",
    "        cv_scores = cross_val_score(\n",
    "            model, X_train_scaled, y_train_balanced,\n",
    "            cv=cv, scoring='roc_auc', n_jobs=-1\n",
    "        )\n",
    "        cv_mean = cv_scores.mean()\n",
    "        cv_std = cv_scores.std()\n",
    "\n",
    "        print(f\"CV AUC: {cv_mean:.4f} (+/- {cv_std*2:.4f})\")\n",
    "\n",
    "        # Train on full training set\n",
    "        model.fit(X_train_scaled, y_train_balanced)\n",
    "\n",
    "        # Predictions\n",
    "        y_pred = model.predict(X_test_scaled)\n",
    "        y_pred_proba = model.predict_proba(X_test_scaled)[:, 1]\n",
    "\n",
    "        # Metrics\n",
    "        test_auc = roc_auc_score(y_test, y_pred_proba)\n",
    "        test_accuracy = accuracy_score(y_test, y_pred)\n",
    "\n",
    "        print(f\"Test AUC: {test_auc:.4f}\")\n",
    "        print(f\"Test Accuracy: {test_accuracy:.4f}\")\n",
    "\n",
    "        # Check for overfitting\n",
    "        overfitting_gap = cv_mean - test_auc\n",
    "        print(f\"Overfitting gap: {overfitting_gap:.4f}\")\n",
    "\n",
    "        # Evaluation\n",
    "        if test_accuracy > 0.95:\n",
    "            print(\"⚠️  Still high - may have remaining leakage\")\n",
    "        elif test_accuracy > 0.85:\n",
    "            print(\"✅ REALISTIC - Good performance!\")\n",
    "        else:\n",
    "            print(\"✅ CONSERVATIVE - May be underfitting\")\n",
    "\n",
    "        if abs(overfitting_gap) < 0.05:\n",
    "            print(\"✅ Good generalization!\")\n",
    "        else:\n",
    "            print(\"⚠️  Check for overfitting\")\n",
    "\n",
    "        print(\"\\nClassification Report:\")\n",
    "        print(classification_report(y_test, y_pred))\n",
    "\n",
    "        results[name] = {\n",
    "            'cv_auc': cv_mean,\n",
    "            'cv_std': cv_std,\n",
    "            'test_auc': test_auc,\n",
    "            'test_accuracy': test_accuracy,\n",
    "            'overfitting_gap': overfitting_gap\n",
    "        }\n",
    "\n",
    "    # Final summary (merged from run_clean_pipeline)\n",
    "    print(\"\\n\" + \"=\"*60)\n",
    "    print(\"FINAL CLEAN RESULTS SUMMARY\")\n",
    "    print(\"=\"*60)\n",
    "\n",
    "    print(f\"Clean features used: {len(clean_features)}\")\n",
    "    print(f\"Features removed: {len(features_to_remove)}\")\n",
    "\n",
    "    for name, metrics in results.items():\n",
    "        print(f\"\\n{name}:\")\n",
    "        print(f\"  CV AUC: {metrics['cv_auc']:.4f} (±{metrics['cv_std']:.4f})\")\n",
    "        print(f\"  Test AUC: {metrics['test_auc']:.4f}\")\n",
    "        print(f\"  Test Accuracy: {metrics['test_accuracy']:.4f}\")\n",
    "        print(f\"  Overfitting Gap: {metrics['overfitting_gap']:.4f}\")\n",
    "\n",
    "        # Final verdict\n",
    "        if metrics['test_accuracy'] < 0.95 and abs(metrics['overfitting_gap']) < 0.05:\n",
    "            print(f\"  🎉 SUCCESS: Realistic performance achieved!\")\n",
    "        else:\n",
    "            print(f\"  ⚠️  May need further adjustment\")\n",
    "\n",
    "    return results"
   ]
  },
  {
   "cell_type": "code",
   "execution_count": 79,
   "id": "4fadc931",
   "metadata": {
    "colab": {
     "base_uri": "https://localhost:8080/"
    },
    "id": "4fadc931",
    "outputId": "25ee7da4-85ad-4913-e6a4-1dc8fe68edbb"
   },
   "outputs": [
    {
     "name": "stdout",
     "output_type": "stream",
     "text": [
      "\n",
      "==================== Conservative Random Forest ====================\n",
      "CV AUC: 0.9858 (+/- 0.0002)\n",
      "Test AUC: 0.9857\n",
      "Test Accuracy: 0.9374\n",
      "Overfitting gap: 0.0002\n",
      "✅ REALISTIC - Good performance!\n",
      "✅ Good generalization!\n",
      "\n",
      "Classification Report:\n",
      "              precision    recall  f1-score   support\n",
      "\n",
      "           0       1.00      0.92      0.96    205472\n",
      "           1       0.75      1.00      0.86     47870\n",
      "\n",
      "    accuracy                           0.94    253342\n",
      "   macro avg       0.88      0.96      0.91    253342\n",
      "weighted avg       0.95      0.94      0.94    253342\n",
      "\n",
      "\n",
      "==================== Regularized Logistic Regression ====================\n",
      "CV AUC: 0.9208 (+/- 0.0007)\n",
      "Test AUC: 0.9210\n",
      "Test Accuracy: 0.8094\n",
      "Overfitting gap: -0.0002\n",
      "✅ CONSERVATIVE - May be underfitting\n",
      "✅ Good generalization!\n",
      "\n",
      "Classification Report:\n",
      "              precision    recall  f1-score   support\n",
      "\n",
      "           0       0.98      0.78      0.87    205472\n",
      "           1       0.50      0.93      0.65     47870\n",
      "\n",
      "    accuracy                           0.81    253342\n",
      "   macro avg       0.74      0.86      0.76    253342\n",
      "weighted avg       0.89      0.81      0.83    253342\n",
      "\n",
      "\n",
      "==================== Conservative Gradient Boosting ====================\n",
      "CV AUC: 0.9871 (+/- 0.0018)\n",
      "Test AUC: 0.9871\n",
      "Test Accuracy: 0.9591\n",
      "Overfitting gap: -0.0000\n",
      "⚠️  Still high - may have remaining leakage\n",
      "✅ Good generalization!\n",
      "\n",
      "Classification Report:\n",
      "              precision    recall  f1-score   support\n",
      "\n",
      "           0       1.00      0.95      0.97    205472\n",
      "           1       0.82      1.00      0.90     47870\n",
      "\n",
      "    accuracy                           0.96    253342\n",
      "   macro avg       0.91      0.97      0.94    253342\n",
      "weighted avg       0.97      0.96      0.96    253342\n",
      "\n",
      "\n",
      "==================== Conservative Extra Trees ====================\n",
      "CV AUC: 0.9201 (+/- 0.0543)\n",
      "Test AUC: 0.9384\n",
      "Test Accuracy: 0.6829\n",
      "Overfitting gap: -0.0183\n",
      "✅ CONSERVATIVE - May be underfitting\n",
      "✅ Good generalization!\n",
      "\n",
      "Classification Report:\n",
      "              precision    recall  f1-score   support\n",
      "\n",
      "           0       0.98      0.62      0.76    205472\n",
      "           1       0.37      0.94      0.53     47870\n",
      "\n",
      "    accuracy                           0.68    253342\n",
      "   macro avg       0.67      0.78      0.64    253342\n",
      "weighted avg       0.86      0.68      0.72    253342\n",
      "\n",
      "\n",
      "==================== K-Nearest Neighbors ====================\n",
      "CV AUC: 0.9950 (+/- 0.0007)\n",
      "Test AUC: 0.9947\n",
      "Test Accuracy: 0.9887\n",
      "Overfitting gap: 0.0003\n",
      "⚠️  Still high - may have remaining leakage\n",
      "✅ Good generalization!\n",
      "\n",
      "Classification Report:\n",
      "              precision    recall  f1-score   support\n",
      "\n",
      "           0       1.00      0.99      0.99    205472\n",
      "           1       0.95      0.99      0.97     47870\n",
      "\n",
      "    accuracy                           0.99    253342\n",
      "   macro avg       0.97      0.99      0.98    253342\n",
      "weighted avg       0.99      0.99      0.99    253342\n",
      "\n",
      "\n",
      "==================== Conservative AdaBoost ====================\n",
      "CV AUC: 0.9876 (+/- 0.0003)\n"
     ]
    },
    {
     "name": "stderr",
     "output_type": "stream",
     "text": [
      "c:\\Users\\ThinkPad\\anaconda3\\Lib\\site-packages\\sklearn\\ensemble\\_weight_boosting.py:527: FutureWarning: The SAMME.R algorithm (the default) is deprecated and will be removed in 1.6. Use the SAMME algorithm to circumvent this warning.\n",
      "  warnings.warn(\n"
     ]
    },
    {
     "name": "stdout",
     "output_type": "stream",
     "text": [
      "Test AUC: 0.9875\n",
      "Test Accuracy: 0.9586\n",
      "Overfitting gap: 0.0001\n",
      "⚠️  Still high - may have remaining leakage\n",
      "✅ Good generalization!\n",
      "\n",
      "Classification Report:\n",
      "              precision    recall  f1-score   support\n",
      "\n",
      "           0       1.00      0.95      0.97    205472\n",
      "           1       0.82      0.99      0.90     47870\n",
      "\n",
      "    accuracy                           0.96    253342\n",
      "   macro avg       0.91      0.97      0.94    253342\n",
      "weighted avg       0.97      0.96      0.96    253342\n",
      "\n",
      "\n",
      "==================== lightgbm ====================\n",
      "CV AUC: 0.9996 (+/- 0.0000)\n",
      "[LightGBM] [Info] Number of positive: 382958, number of negative: 821888\n",
      "[LightGBM] [Info] Auto-choosing row-wise multi-threading, the overhead of testing was 0.034883 seconds.\n",
      "You can set `force_row_wise=true` to remove the overhead.\n",
      "And if memory is not enough, you can set `force_col_wise=true`.\n",
      "[LightGBM] [Info] Total Bins 3820\n",
      "[LightGBM] [Info] Number of data points in the train set: 1204846, number of used features: 15\n",
      "[LightGBM] [Info] [binary:BoostFromScore]: pavg=0.317848 -> initscore=-0.763679\n",
      "[LightGBM] [Info] Start training from score -0.763679\n",
      "Test AUC: 0.9996\n",
      "Test Accuracy: 0.9934\n",
      "Overfitting gap: 0.0000\n",
      "⚠️  Still high - may have remaining leakage\n",
      "✅ Good generalization!\n",
      "\n",
      "Classification Report:\n",
      "              precision    recall  f1-score   support\n",
      "\n",
      "           0       1.00      0.99      1.00    205472\n",
      "           1       0.97      1.00      0.98     47870\n",
      "\n",
      "    accuracy                           0.99    253342\n",
      "   macro avg       0.98      0.99      0.99    253342\n",
      "weighted avg       0.99      0.99      0.99    253342\n",
      "\n",
      "\n",
      "==================== hist_gb ====================\n",
      "CV AUC: 0.9995 (+/- 0.0000)\n",
      "Test AUC: 0.9995\n",
      "Test Accuracy: 0.9928\n",
      "Overfitting gap: 0.0000\n",
      "⚠️  Still high - may have remaining leakage\n",
      "✅ Good generalization!\n",
      "\n",
      "Classification Report:\n",
      "              precision    recall  f1-score   support\n",
      "\n",
      "           0       1.00      0.99      1.00    205472\n",
      "           1       0.97      1.00      0.98     47870\n",
      "\n",
      "    accuracy                           0.99    253342\n",
      "   macro avg       0.98      0.99      0.99    253342\n",
      "weighted avg       0.99      0.99      0.99    253342\n",
      "\n",
      "\n",
      "==================== linear_svm ====================\n",
      "CV AUC: 0.9186 (+/- 0.0013)\n",
      "Test AUC: 0.9189\n",
      "Test Accuracy: 0.8604\n",
      "Overfitting gap: -0.0003\n",
      "✅ REALISTIC - Good performance!\n",
      "✅ Good generalization!\n",
      "\n",
      "Classification Report:\n",
      "              precision    recall  f1-score   support\n",
      "\n",
      "           0       0.98      0.84      0.91    205472\n",
      "           1       0.58      0.93      0.72     47870\n",
      "\n",
      "    accuracy                           0.86    253342\n",
      "   macro avg       0.78      0.89      0.81    253342\n",
      "weighted avg       0.91      0.86      0.87    253342\n",
      "\n",
      "\n",
      "============================================================\n",
      "FINAL CLEAN RESULTS SUMMARY\n",
      "============================================================\n",
      "Clean features used: 34\n",
      "Features removed: 53\n",
      "\n",
      "Conservative Random Forest:\n",
      "  CV AUC: 0.9858 (±0.0001)\n",
      "  Test AUC: 0.9857\n",
      "  Test Accuracy: 0.9374\n",
      "  Overfitting Gap: 0.0002\n",
      "  🎉 SUCCESS: Realistic performance achieved!\n",
      "\n",
      "Regularized Logistic Regression:\n",
      "  CV AUC: 0.9208 (±0.0003)\n",
      "  Test AUC: 0.9210\n",
      "  Test Accuracy: 0.8094\n",
      "  Overfitting Gap: -0.0002\n",
      "  🎉 SUCCESS: Realistic performance achieved!\n",
      "\n",
      "Conservative Gradient Boosting:\n",
      "  CV AUC: 0.9871 (±0.0009)\n",
      "  Test AUC: 0.9871\n",
      "  Test Accuracy: 0.9591\n",
      "  Overfitting Gap: -0.0000\n",
      "  ⚠️  May need further adjustment\n",
      "\n",
      "Conservative Extra Trees:\n",
      "  CV AUC: 0.9201 (±0.0272)\n",
      "  Test AUC: 0.9384\n",
      "  Test Accuracy: 0.6829\n",
      "  Overfitting Gap: -0.0183\n",
      "  🎉 SUCCESS: Realistic performance achieved!\n",
      "\n",
      "K-Nearest Neighbors:\n",
      "  CV AUC: 0.9950 (±0.0004)\n",
      "  Test AUC: 0.9947\n",
      "  Test Accuracy: 0.9887\n",
      "  Overfitting Gap: 0.0003\n",
      "  ⚠️  May need further adjustment\n",
      "\n",
      "Conservative AdaBoost:\n",
      "  CV AUC: 0.9876 (±0.0002)\n",
      "  Test AUC: 0.9875\n",
      "  Test Accuracy: 0.9586\n",
      "  Overfitting Gap: 0.0001\n",
      "  ⚠️  May need further adjustment\n",
      "\n",
      "lightgbm:\n",
      "  CV AUC: 0.9996 (±0.0000)\n",
      "  Test AUC: 0.9996\n",
      "  Test Accuracy: 0.9934\n",
      "  Overfitting Gap: 0.0000\n",
      "  ⚠️  May need further adjustment\n",
      "\n",
      "hist_gb:\n",
      "  CV AUC: 0.9995 (±0.0000)\n",
      "  Test AUC: 0.9995\n",
      "  Test Accuracy: 0.9928\n",
      "  Overfitting Gap: 0.0000\n",
      "  ⚠️  May need further adjustment\n",
      "\n",
      "linear_svm:\n",
      "  CV AUC: 0.9186 (±0.0007)\n",
      "  Test AUC: 0.9189\n",
      "  Test Accuracy: 0.8604\n",
      "  Overfitting Gap: -0.0003\n",
      "  🎉 SUCCESS: Realistic performance achieved!\n"
     ]
    }
   ],
   "source": [
    "# Train and evaluate models\n",
    "final_results = train_and_evaluate_models(\n",
    "    model_configs, X_train_scaled, y_train_balanced,\n",
    "    X_test_scaled, y_test_final, cv_strategy, clean_features, features_to_remove  # Add these parameters\n",
    ")"
   ]
  },
  {
   "cell_type": "code",
   "execution_count": 80,
   "id": "66291fd3",
   "metadata": {
    "id": "66291fd3"
   },
   "outputs": [
    {
     "name": "stdout",
     "output_type": "stream",
     "text": [
      "\n",
      "Confusion Matrix for Best Model: lightgbm\n"
     ]
    },
    {
     "data": {
      "image/png": "[encoded data removed]",
      "text/plain": [
       "<Figure size 800x600 with 2 Axes>"
      ]
     },
     "metadata": {},
     "output_type": "display_data"
    },
    {
     "name": "stdout",
     "output_type": "stream",
     "text": [
      "\n",
      "Classification Report for lightgbm:\n",
      "              precision    recall  f1-score   support\n",
      "\n",
      "      Benign       1.00      0.92      0.96    205472\n",
      "      Attack       0.75      1.00      0.86     47870\n",
      "\n",
      "    accuracy                           0.94    253342\n",
      "   macro avg       0.88      0.96      0.91    253342\n",
      "weighted avg       0.95      0.94      0.94    253342\n",
      "\n"
     ]
    }
   ],
   "source": [
    "# Add this after the results table\n",
    "def plot_best_model_confusion_matrix(final_results, X_test_scaled, y_test_final):\n",
    "    \"\"\"Plot confusion matrix for the best performing model\"\"\"\n",
    "\n",
    "    # Find best model\n",
    "    best_model_name = max(final_results.keys(),\n",
    "                         key=lambda k: final_results[k]['test_accuracy'])\n",
    "\n",
    "    # Get the trained model (you'll need to store this in your results)\n",
    "    print(f\"\\nConfusion Matrix for Best Model: {best_model_name}\")\n",
    "\n",
    "    # You'll need to retrain or store the best model\n",
    "    # For now, let's use a placeholder approach\n",
    "    best_model = RandomForestClassifier(n_estimators=50, max_depth=4,\n",
    "                                       min_samples_split=50, min_samples_leaf=25,\n",
    "                                       class_weight='balanced', random_state=RANDOM_STATE)\n",
    "    best_model.fit(X_train_scaled, y_train_balanced)\n",
    "    y_pred = best_model.predict(X_test_scaled)\n",
    "\n",
    "    # Create confusion matrix\n",
    "    cm = confusion_matrix(y_test_final, y_pred)\n",
    "\n",
    "    plt.figure(figsize=(8, 6))\n",
    "    sns.heatmap(cm, annot=True, fmt='d', cmap='Blues',\n",
    "                xticklabels=['Benign', 'Attack'],\n",
    "                yticklabels=['Benign', 'Attack'])\n",
    "    plt.title(f'Confusion Matrix - {best_model_name}', fontsize=14, fontweight='bold')\n",
    "    plt.xlabel('Predicted Label')\n",
    "    plt.ylabel('True Label')\n",
    "    plt.tight_layout()\n",
    "    plt.show()\n",
    "\n",
    "    # Print classification metrics\n",
    "    print(f\"\\nClassification Report for {best_model_name}:\")\n",
    "    print(classification_report(y_test_final, y_pred, target_names=['Benign', 'Attack']))\n",
    "\n",
    "# Call this function\n",
    "plot_best_model_confusion_matrix(final_results, X_test_scaled, y_test_final)"
   ]
  },
  {
   "cell_type": "code",
   "execution_count": null,
   "id": "cf042065",
   "metadata": {
    "id": "cf042065"
   },
   "outputs": [],
   "source": []
  }
 ],
 "metadata": {
  "colab": {
   "provenance": []
  },
  "kernelspec": {
   "display_name": "base",
   "language": "python",
   "name": "python3"
  },
  "language_info": {
   "codemirror_mode": {
    "name": "ipython",
    "version": 3
   },
   "file_extension": ".py",
   "mimetype": "text/x-python",
   "name": "python",
   "nbconvert_exporter": "python",
   "pygments_lexer": "ipython3",
   "version": "3.12.7"
  }
 },
 "nbformat": 4,
 "nbformat_minor": 5
}
